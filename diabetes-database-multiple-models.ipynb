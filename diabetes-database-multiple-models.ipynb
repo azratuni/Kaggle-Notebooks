{
 "cells": [
  {
   "cell_type": "markdown",
   "id": "e2f89662",
   "metadata": {
    "papermill": {
     "duration": 0.041772,
     "end_time": "2022-04-10T18:06:40.168358",
     "exception": false,
     "start_time": "2022-04-10T18:06:40.126586",
     "status": "completed"
    },
    "tags": []
   },
   "source": [
    "# Diabetes Database || Linear Regression || Logistic Regression || Decision Tree\n",
    "\n",
    "I will try to predict whether a patient has diabetes or not using Linear Regression,Logistic Regression & Decision Tree and see which model gives the best result. I have a previous notebook on EDA and data preprocessing so I won't go into much details in this notebook.\n",
    "\n",
    "Previous notebook: https://www.kaggle.com/code/azratuni/diabetes-database-eda\n",
    "\n",
    "**Contents:**\n",
    "1. Import necessary libraries and load the dataset\n",
    "2. Handling columns with \"0\" values\n",
    "3. Linear Regression\n",
    "4. Logistic Regression\n",
    "5. Decision Tree\n",
    "6. Performance comparison of different algorithms"
   ]
  },
  {
   "cell_type": "markdown",
   "id": "93d1d848",
   "metadata": {
    "papermill": {
     "duration": 0.040263,
     "end_time": "2022-04-10T18:06:40.249040",
     "exception": false,
     "start_time": "2022-04-10T18:06:40.208777",
     "status": "completed"
    },
    "tags": []
   },
   "source": [
    "# 1. Import necessary libraries and load the dataset"
   ]
  },
  {
   "cell_type": "code",
   "execution_count": 1,
   "id": "daa2ab3b",
   "metadata": {
    "_cell_guid": "b1076dfc-b9ad-4769-8c92-a6c4dae69d19",
    "_uuid": "8f2839f25d086af736a60e9eeb907d3b93b6e0e5",
    "execution": {
     "iopub.execute_input": "2022-04-10T18:06:40.334506Z",
     "iopub.status.busy": "2022-04-10T18:06:40.333227Z",
     "iopub.status.idle": "2022-04-10T18:06:41.693351Z",
     "shell.execute_reply": "2022-04-10T18:06:41.693873Z",
     "shell.execute_reply.started": "2022-04-10T18:04:49.074559Z"
    },
    "papermill": {
     "duration": 1.405067,
     "end_time": "2022-04-10T18:06:41.694203",
     "exception": false,
     "start_time": "2022-04-10T18:06:40.289136",
     "status": "completed"
    },
    "tags": []
   },
   "outputs": [
    {
     "name": "stdout",
     "output_type": "stream",
     "text": [
      "/kaggle/input/pima-indians-diabetes-database/diabetes.csv\n"
     ]
    }
   ],
   "source": [
    "import numpy as np \n",
    "import pandas as pd \n",
    "import matplotlib.pyplot as plt\n",
    "%matplotlib inline\n",
    "import seaborn as sns\n",
    "from sklearn.metrics import mean_squared_error\n",
    "from sklearn.metrics import mean_absolute_error as mae\n",
    "\n",
    "import os\n",
    "for dirname, _, filenames in os.walk('/kaggle/input'):\n",
    "    for filename in filenames:\n",
    "        print(os.path.join(dirname, filename))\n",
    "\n",
    "import warnings\n",
    "warnings.simplefilter(\"ignore\")"
   ]
  },
  {
   "cell_type": "code",
   "execution_count": 2,
   "id": "6afc05a1",
   "metadata": {
    "execution": {
     "iopub.execute_input": "2022-04-10T18:06:41.784150Z",
     "iopub.status.busy": "2022-04-10T18:06:41.783363Z",
     "iopub.status.idle": "2022-04-10T18:06:41.813374Z",
     "shell.execute_reply": "2022-04-10T18:06:41.813899Z",
     "shell.execute_reply.started": "2022-04-10T18:04:49.297316Z"
    },
    "papermill": {
     "duration": 0.076896,
     "end_time": "2022-04-10T18:06:41.814088",
     "exception": false,
     "start_time": "2022-04-10T18:06:41.737192",
     "status": "completed"
    },
    "tags": []
   },
   "outputs": [
    {
     "data": {
      "text/html": [
       "<div>\n",
       "<style scoped>\n",
       "    .dataframe tbody tr th:only-of-type {\n",
       "        vertical-align: middle;\n",
       "    }\n",
       "\n",
       "    .dataframe tbody tr th {\n",
       "        vertical-align: top;\n",
       "    }\n",
       "\n",
       "    .dataframe thead th {\n",
       "        text-align: right;\n",
       "    }\n",
       "</style>\n",
       "<table border=\"1\" class=\"dataframe\">\n",
       "  <thead>\n",
       "    <tr style=\"text-align: right;\">\n",
       "      <th></th>\n",
       "      <th>Pregnancies</th>\n",
       "      <th>Glucose</th>\n",
       "      <th>BloodPressure</th>\n",
       "      <th>SkinThickness</th>\n",
       "      <th>Insulin</th>\n",
       "      <th>BMI</th>\n",
       "      <th>DiabetesPedigreeFunction</th>\n",
       "      <th>Age</th>\n",
       "      <th>Outcome</th>\n",
       "    </tr>\n",
       "  </thead>\n",
       "  <tbody>\n",
       "    <tr>\n",
       "      <th>0</th>\n",
       "      <td>6</td>\n",
       "      <td>148</td>\n",
       "      <td>72</td>\n",
       "      <td>35</td>\n",
       "      <td>0</td>\n",
       "      <td>33.6</td>\n",
       "      <td>0.627</td>\n",
       "      <td>50</td>\n",
       "      <td>1</td>\n",
       "    </tr>\n",
       "    <tr>\n",
       "      <th>1</th>\n",
       "      <td>1</td>\n",
       "      <td>85</td>\n",
       "      <td>66</td>\n",
       "      <td>29</td>\n",
       "      <td>0</td>\n",
       "      <td>26.6</td>\n",
       "      <td>0.351</td>\n",
       "      <td>31</td>\n",
       "      <td>0</td>\n",
       "    </tr>\n",
       "    <tr>\n",
       "      <th>2</th>\n",
       "      <td>8</td>\n",
       "      <td>183</td>\n",
       "      <td>64</td>\n",
       "      <td>0</td>\n",
       "      <td>0</td>\n",
       "      <td>23.3</td>\n",
       "      <td>0.672</td>\n",
       "      <td>32</td>\n",
       "      <td>1</td>\n",
       "    </tr>\n",
       "    <tr>\n",
       "      <th>3</th>\n",
       "      <td>1</td>\n",
       "      <td>89</td>\n",
       "      <td>66</td>\n",
       "      <td>23</td>\n",
       "      <td>94</td>\n",
       "      <td>28.1</td>\n",
       "      <td>0.167</td>\n",
       "      <td>21</td>\n",
       "      <td>0</td>\n",
       "    </tr>\n",
       "    <tr>\n",
       "      <th>4</th>\n",
       "      <td>0</td>\n",
       "      <td>137</td>\n",
       "      <td>40</td>\n",
       "      <td>35</td>\n",
       "      <td>168</td>\n",
       "      <td>43.1</td>\n",
       "      <td>2.288</td>\n",
       "      <td>33</td>\n",
       "      <td>1</td>\n",
       "    </tr>\n",
       "  </tbody>\n",
       "</table>\n",
       "</div>"
      ],
      "text/plain": [
       "   Pregnancies  Glucose  BloodPressure  SkinThickness  Insulin   BMI  \\\n",
       "0            6      148             72             35        0  33.6   \n",
       "1            1       85             66             29        0  26.6   \n",
       "2            8      183             64              0        0  23.3   \n",
       "3            1       89             66             23       94  28.1   \n",
       "4            0      137             40             35      168  43.1   \n",
       "\n",
       "   DiabetesPedigreeFunction  Age  Outcome  \n",
       "0                     0.627   50        1  \n",
       "1                     0.351   31        0  \n",
       "2                     0.672   32        1  \n",
       "3                     0.167   21        0  \n",
       "4                     2.288   33        1  "
      ]
     },
     "execution_count": 2,
     "metadata": {},
     "output_type": "execute_result"
    }
   ],
   "source": [
    "df = pd.read_csv('../input/pima-indians-diabetes-database/diabetes.csv')\n",
    "df.head(5)"
   ]
  },
  {
   "cell_type": "markdown",
   "id": "b3e4c56c",
   "metadata": {
    "papermill": {
     "duration": 0.041088,
     "end_time": "2022-04-10T18:06:41.899289",
     "exception": false,
     "start_time": "2022-04-10T18:06:41.858201",
     "status": "completed"
    },
    "tags": []
   },
   "source": [
    "# 2. Handling columns with \"0\" values"
   ]
  },
  {
   "cell_type": "code",
   "execution_count": 3,
   "id": "b599a5ba",
   "metadata": {
    "execution": {
     "iopub.execute_input": "2022-04-10T18:06:41.985683Z",
     "iopub.status.busy": "2022-04-10T18:06:41.984772Z",
     "iopub.status.idle": "2022-04-10T18:06:41.992252Z",
     "shell.execute_reply": "2022-04-10T18:06:41.992787Z",
     "shell.execute_reply.started": "2022-04-10T18:04:49.512850Z"
    },
    "papermill": {
     "duration": 0.052547,
     "end_time": "2022-04-10T18:06:41.992954",
     "exception": false,
     "start_time": "2022-04-10T18:06:41.940407",
     "status": "completed"
    },
    "tags": []
   },
   "outputs": [
    {
     "data": {
      "text/plain": [
       "Pregnancies                 0\n",
       "Glucose                     0\n",
       "BloodPressure               0\n",
       "SkinThickness               0\n",
       "Insulin                     0\n",
       "BMI                         0\n",
       "DiabetesPedigreeFunction    0\n",
       "Age                         0\n",
       "Outcome                     0\n",
       "dtype: int64"
      ]
     },
     "execution_count": 3,
     "metadata": {},
     "output_type": "execute_result"
    }
   ],
   "source": [
    "df.isnull().sum()\n"
   ]
  },
  {
   "cell_type": "code",
   "execution_count": 4,
   "id": "a675111e",
   "metadata": {
    "execution": {
     "iopub.execute_input": "2022-04-10T18:06:42.079461Z",
     "iopub.status.busy": "2022-04-10T18:06:42.078738Z",
     "iopub.status.idle": "2022-04-10T18:06:42.094694Z",
     "shell.execute_reply": "2022-04-10T18:06:42.095232Z",
     "shell.execute_reply.started": "2022-04-10T18:04:49.717379Z"
    },
    "papermill": {
     "duration": 0.060833,
     "end_time": "2022-04-10T18:06:42.095415",
     "exception": false,
     "start_time": "2022-04-10T18:06:42.034582",
     "status": "completed"
    },
    "tags": []
   },
   "outputs": [
    {
     "name": "stdout",
     "output_type": "stream",
     "text": [
      "Pregnancies                 111\n",
      "Glucose                       5\n",
      "BloodPressure                35\n",
      "SkinThickness               227\n",
      "Insulin                     374\n",
      "BMI                          11\n",
      "DiabetesPedigreeFunction      0\n",
      "Age                           0\n",
      "Outcome                     500\n",
      "dtype: int64\n"
     ]
    }
   ],
   "source": [
    "print((df[df.columns] == 0).sum())\n"
   ]
  },
  {
   "cell_type": "code",
   "execution_count": 5,
   "id": "7e53b1e4",
   "metadata": {
    "execution": {
     "iopub.execute_input": "2022-04-10T18:06:42.190519Z",
     "iopub.status.busy": "2022-04-10T18:06:42.189696Z",
     "iopub.status.idle": "2022-04-10T18:06:42.198761Z",
     "shell.execute_reply": "2022-04-10T18:06:42.198187Z",
     "shell.execute_reply.started": "2022-04-10T18:04:49.917621Z"
    },
    "papermill": {
     "duration": 0.060294,
     "end_time": "2022-04-10T18:06:42.198905",
     "exception": false,
     "start_time": "2022-04-10T18:06:42.138611",
     "status": "completed"
    },
    "tags": []
   },
   "outputs": [],
   "source": [
    "df[['Glucose','BloodPressure','SkinThickness','Insulin','BMI']] = df[['Glucose','BloodPressure','SkinThickness','Insulin','BMI']].replace(0,np.NaN)"
   ]
  },
  {
   "cell_type": "code",
   "execution_count": 6,
   "id": "96e93620",
   "metadata": {
    "execution": {
     "iopub.execute_input": "2022-04-10T18:06:42.287176Z",
     "iopub.status.busy": "2022-04-10T18:06:42.286474Z",
     "iopub.status.idle": "2022-04-10T18:06:42.294351Z",
     "shell.execute_reply": "2022-04-10T18:06:42.294965Z",
     "shell.execute_reply.started": "2022-04-10T18:04:50.107940Z"
    },
    "papermill": {
     "duration": 0.053931,
     "end_time": "2022-04-10T18:06:42.295164",
     "exception": false,
     "start_time": "2022-04-10T18:06:42.241233",
     "status": "completed"
    },
    "tags": []
   },
   "outputs": [
    {
     "data": {
      "text/plain": [
       "Pregnancies                   0\n",
       "Glucose                       5\n",
       "BloodPressure                35\n",
       "SkinThickness               227\n",
       "Insulin                     374\n",
       "BMI                          11\n",
       "DiabetesPedigreeFunction      0\n",
       "Age                           0\n",
       "Outcome                       0\n",
       "dtype: int64"
      ]
     },
     "execution_count": 6,
     "metadata": {},
     "output_type": "execute_result"
    }
   ],
   "source": [
    "df.isnull().sum()"
   ]
  },
  {
   "cell_type": "code",
   "execution_count": 7,
   "id": "8bac6572",
   "metadata": {
    "execution": {
     "iopub.execute_input": "2022-04-10T18:06:42.385062Z",
     "iopub.status.busy": "2022-04-10T18:06:42.384370Z",
     "iopub.status.idle": "2022-04-10T18:06:42.390591Z",
     "shell.execute_reply": "2022-04-10T18:06:42.391173Z",
     "shell.execute_reply.started": "2022-04-10T18:04:50.305858Z"
    },
    "papermill": {
     "duration": 0.053537,
     "end_time": "2022-04-10T18:06:42.391368",
     "exception": false,
     "start_time": "2022-04-10T18:06:42.337831",
     "status": "completed"
    },
    "tags": []
   },
   "outputs": [],
   "source": [
    "df['Glucose'].fillna(df['Glucose'].median(), inplace =True)\n",
    "\n",
    "df['BloodPressure'].fillna(df['BloodPressure'].median(), inplace =True)\n",
    "\n",
    "df['BMI'].fillna(df['BMI'].median(), inplace =True)"
   ]
  },
  {
   "cell_type": "code",
   "execution_count": 8,
   "id": "0854c46e",
   "metadata": {
    "execution": {
     "iopub.execute_input": "2022-04-10T18:06:42.485472Z",
     "iopub.status.busy": "2022-04-10T18:06:42.480545Z",
     "iopub.status.idle": "2022-04-10T18:06:42.519698Z",
     "shell.execute_reply": "2022-04-10T18:06:42.520263Z",
     "shell.execute_reply.started": "2022-04-10T18:04:50.498744Z"
    },
    "papermill": {
     "duration": 0.085853,
     "end_time": "2022-04-10T18:06:42.520446",
     "exception": false,
     "start_time": "2022-04-10T18:06:42.434593",
     "status": "completed"
    },
    "tags": []
   },
   "outputs": [],
   "source": [
    "by_Glucose_Age_Insulin_Grp = df.groupby(['Glucose'])\n",
    "\n",
    "def fill_Insulin(series):\n",
    "    return series.fillna(series.median())\n",
    "df['Insulin'] = by_Glucose_Age_Insulin_Grp['Insulin'].transform(fill_Insulin)"
   ]
  },
  {
   "cell_type": "code",
   "execution_count": 9,
   "id": "71fbce58",
   "metadata": {
    "execution": {
     "iopub.execute_input": "2022-04-10T18:06:42.611899Z",
     "iopub.status.busy": "2022-04-10T18:06:42.608247Z",
     "iopub.status.idle": "2022-04-10T18:06:42.615143Z",
     "shell.execute_reply": "2022-04-10T18:06:42.614507Z",
     "shell.execute_reply.started": "2022-04-10T18:04:50.709764Z"
    },
    "papermill": {
     "duration": 0.052506,
     "end_time": "2022-04-10T18:06:42.615309",
     "exception": false,
     "start_time": "2022-04-10T18:06:42.562803",
     "status": "completed"
    },
    "tags": []
   },
   "outputs": [],
   "source": [
    "df['Insulin'] = df['Insulin'].fillna(df['Insulin'].mean())"
   ]
  },
  {
   "cell_type": "code",
   "execution_count": 10,
   "id": "bac63962",
   "metadata": {
    "execution": {
     "iopub.execute_input": "2022-04-10T18:06:42.706351Z",
     "iopub.status.busy": "2022-04-10T18:06:42.702843Z",
     "iopub.status.idle": "2022-04-10T18:06:42.761873Z",
     "shell.execute_reply": "2022-04-10T18:06:42.761316Z",
     "shell.execute_reply.started": "2022-04-10T18:04:50.867700Z"
    },
    "papermill": {
     "duration": 0.104401,
     "end_time": "2022-04-10T18:06:42.762028",
     "exception": false,
     "start_time": "2022-04-10T18:06:42.657627",
     "status": "completed"
    },
    "tags": []
   },
   "outputs": [],
   "source": [
    "by_BMI_Insulin = df.groupby(['BMI'])\n",
    "\n",
    "def fill_Skinthickness(series):\n",
    "    return series.fillna(series.mean())\n",
    "df['SkinThickness'] = by_BMI_Insulin['SkinThickness'].transform(fill_Skinthickness)"
   ]
  },
  {
   "cell_type": "code",
   "execution_count": 11,
   "id": "5a71741e",
   "metadata": {
    "execution": {
     "iopub.execute_input": "2022-04-10T18:06:42.855755Z",
     "iopub.status.busy": "2022-04-10T18:06:42.855006Z",
     "iopub.status.idle": "2022-04-10T18:06:42.857956Z",
     "shell.execute_reply": "2022-04-10T18:06:42.857386Z",
     "shell.execute_reply.started": "2022-04-10T18:04:51.056934Z"
    },
    "papermill": {
     "duration": 0.052101,
     "end_time": "2022-04-10T18:06:42.858123",
     "exception": false,
     "start_time": "2022-04-10T18:06:42.806022",
     "status": "completed"
    },
    "tags": []
   },
   "outputs": [],
   "source": [
    "df['SkinThickness'].fillna(df['SkinThickness'].mean(),inplace= True)"
   ]
  },
  {
   "cell_type": "code",
   "execution_count": 12,
   "id": "69bc562f",
   "metadata": {
    "execution": {
     "iopub.execute_input": "2022-04-10T18:06:42.951726Z",
     "iopub.status.busy": "2022-04-10T18:06:42.950712Z",
     "iopub.status.idle": "2022-04-10T18:06:42.959186Z",
     "shell.execute_reply": "2022-04-10T18:06:42.958606Z",
     "shell.execute_reply.started": "2022-04-10T18:04:51.237503Z"
    },
    "papermill": {
     "duration": 0.058769,
     "end_time": "2022-04-10T18:06:42.959342",
     "exception": false,
     "start_time": "2022-04-10T18:06:42.900573",
     "status": "completed"
    },
    "tags": []
   },
   "outputs": [
    {
     "data": {
      "text/plain": [
       "Pregnancies                 0\n",
       "Glucose                     0\n",
       "BloodPressure               0\n",
       "SkinThickness               0\n",
       "Insulin                     0\n",
       "BMI                         0\n",
       "DiabetesPedigreeFunction    0\n",
       "Age                         0\n",
       "Outcome                     0\n",
       "dtype: int64"
      ]
     },
     "execution_count": 12,
     "metadata": {},
     "output_type": "execute_result"
    }
   ],
   "source": [
    "df.isnull().sum()"
   ]
  },
  {
   "cell_type": "markdown",
   "id": "156dfae3",
   "metadata": {
    "papermill": {
     "duration": 0.043306,
     "end_time": "2022-04-10T18:06:43.045855",
     "exception": false,
     "start_time": "2022-04-10T18:06:43.002549",
     "status": "completed"
    },
    "tags": []
   },
   "source": [
    "# 3. Linear Regression"
   ]
  },
  {
   "cell_type": "code",
   "execution_count": 13,
   "id": "1db3e9a6",
   "metadata": {
    "execution": {
     "iopub.execute_input": "2022-04-10T18:06:43.137433Z",
     "iopub.status.busy": "2022-04-10T18:06:43.136642Z",
     "iopub.status.idle": "2022-04-10T18:06:43.141836Z",
     "shell.execute_reply": "2022-04-10T18:06:43.142386Z",
     "shell.execute_reply.started": "2022-04-10T18:04:51.419157Z"
    },
    "papermill": {
     "duration": 0.053529,
     "end_time": "2022-04-10T18:06:43.142564",
     "exception": false,
     "start_time": "2022-04-10T18:06:43.089035",
     "status": "completed"
    },
    "tags": []
   },
   "outputs": [
    {
     "data": {
      "text/plain": [
       "Index(['Pregnancies', 'Glucose', 'BloodPressure', 'SkinThickness', 'Insulin',\n",
       "       'BMI', 'DiabetesPedigreeFunction', 'Age', 'Outcome'],\n",
       "      dtype='object')"
      ]
     },
     "execution_count": 13,
     "metadata": {},
     "output_type": "execute_result"
    }
   ],
   "source": [
    "df.columns"
   ]
  },
  {
   "cell_type": "code",
   "execution_count": 14,
   "id": "97611661",
   "metadata": {
    "execution": {
     "iopub.execute_input": "2022-04-10T18:06:43.232778Z",
     "iopub.status.busy": "2022-04-10T18:06:43.231902Z",
     "iopub.status.idle": "2022-04-10T18:06:43.237875Z",
     "shell.execute_reply": "2022-04-10T18:06:43.238409Z",
     "shell.execute_reply.started": "2022-04-10T18:04:51.601696Z"
    },
    "papermill": {
     "duration": 0.052622,
     "end_time": "2022-04-10T18:06:43.238581",
     "exception": false,
     "start_time": "2022-04-10T18:06:43.185959",
     "status": "completed"
    },
    "tags": []
   },
   "outputs": [],
   "source": [
    "x = df[['Pregnancies', 'Glucose', 'BloodPressure', 'SkinThickness', 'Insulin',\n",
    "        'BMI', 'DiabetesPedigreeFunction', 'Age']]\n",
    "\n",
    "y = df[['Outcome']]"
   ]
  },
  {
   "cell_type": "code",
   "execution_count": 15,
   "id": "b32f51c6",
   "metadata": {
    "execution": {
     "iopub.execute_input": "2022-04-10T18:06:43.329499Z",
     "iopub.status.busy": "2022-04-10T18:06:43.328799Z",
     "iopub.status.idle": "2022-04-10T18:06:43.447484Z",
     "shell.execute_reply": "2022-04-10T18:06:43.447994Z",
     "shell.execute_reply.started": "2022-04-10T18:04:51.900223Z"
    },
    "papermill": {
     "duration": 0.166818,
     "end_time": "2022-04-10T18:06:43.448217",
     "exception": false,
     "start_time": "2022-04-10T18:06:43.281399",
     "status": "completed"
    },
    "tags": []
   },
   "outputs": [
    {
     "name": "stdout",
     "output_type": "stream",
     "text": [
      "[[ 3.12482216e-02  6.40592755e-03 -1.20551916e-03 -4.23549552e-04\n",
      "  -2.59872833e-04  1.44966469e-02  2.23128737e-01 -4.40433808e-06]]\n"
     ]
    }
   ],
   "source": [
    "from sklearn.model_selection import train_test_split\n",
    "\n",
    "x_train, x_test, y_train, y_test = train_test_split(x, y, test_size = 0.3)\n",
    "\n",
    "from sklearn.linear_model import LinearRegression\n",
    "\n",
    "model = LinearRegression()\n",
    "model.fit(x_train, y_train)\n",
    "print(model.coef_)"
   ]
  },
  {
   "cell_type": "code",
   "execution_count": 16,
   "id": "4127cecc",
   "metadata": {
    "execution": {
     "iopub.execute_input": "2022-04-10T18:06:43.541286Z",
     "iopub.status.busy": "2022-04-10T18:06:43.540148Z",
     "iopub.status.idle": "2022-04-10T18:06:43.545770Z",
     "shell.execute_reply": "2022-04-10T18:06:43.546280Z",
     "shell.execute_reply.started": "2022-04-10T18:04:52.270183Z"
    },
    "papermill": {
     "duration": 0.052646,
     "end_time": "2022-04-10T18:06:43.546471",
     "exception": false,
     "start_time": "2022-04-10T18:06:43.493825",
     "status": "completed"
    },
    "tags": []
   },
   "outputs": [
    {
     "name": "stdout",
     "output_type": "stream",
     "text": [
      "[-0.97004543]\n"
     ]
    }
   ],
   "source": [
    "print(model.intercept_)"
   ]
  },
  {
   "cell_type": "code",
   "execution_count": 17,
   "id": "2816b18a",
   "metadata": {
    "execution": {
     "iopub.execute_input": "2022-04-10T18:06:43.645631Z",
     "iopub.status.busy": "2022-04-10T18:06:43.644857Z",
     "iopub.status.idle": "2022-04-10T18:06:43.646749Z",
     "shell.execute_reply": "2022-04-10T18:06:43.647271Z",
     "shell.execute_reply.started": "2022-04-10T18:04:52.693071Z"
    },
    "papermill": {
     "duration": 0.054343,
     "end_time": "2022-04-10T18:06:43.647456",
     "exception": false,
     "start_time": "2022-04-10T18:06:43.593113",
     "status": "completed"
    },
    "tags": []
   },
   "outputs": [],
   "source": [
    "predictions = model.predict(x_test)"
   ]
  },
  {
   "cell_type": "code",
   "execution_count": 18,
   "id": "8933ad42",
   "metadata": {
    "execution": {
     "iopub.execute_input": "2022-04-10T18:06:43.740541Z",
     "iopub.status.busy": "2022-04-10T18:06:43.739835Z",
     "iopub.status.idle": "2022-04-10T18:06:43.959897Z",
     "shell.execute_reply": "2022-04-10T18:06:43.959229Z",
     "shell.execute_reply.started": "2022-04-10T18:04:53.056267Z"
    },
    "papermill": {
     "duration": 0.266883,
     "end_time": "2022-04-10T18:06:43.960039",
     "exception": false,
     "start_time": "2022-04-10T18:06:43.693156",
     "status": "completed"
    },
    "tags": []
   },
   "outputs": [
    {
     "data": {
      "text/plain": [
       "<matplotlib.collections.PathCollection at 0x7ff887da0490>"
      ]
     },
     "execution_count": 18,
     "metadata": {},
     "output_type": "execute_result"
    },
    {
     "data": {
      "image/png": "[encoded data removed]",
      "text/plain": [
       "<Figure size 432x288 with 1 Axes>"
      ]
     },
     "metadata": {
      "needs_background": "light"
     },
     "output_type": "display_data"
    }
   ],
   "source": [
    "plt.scatter(y_test, predictions)"
   ]
  },
  {
   "cell_type": "code",
   "execution_count": 19,
   "id": "05720dde",
   "metadata": {
    "execution": {
     "iopub.execute_input": "2022-04-10T18:06:44.082129Z",
     "iopub.status.busy": "2022-04-10T18:06:44.081002Z",
     "iopub.status.idle": "2022-04-10T18:06:44.241719Z",
     "shell.execute_reply": "2022-04-10T18:06:44.242206Z",
     "shell.execute_reply.started": "2022-04-10T18:04:53.421550Z"
    },
    "papermill": {
     "duration": 0.237195,
     "end_time": "2022-04-10T18:06:44.242389",
     "exception": false,
     "start_time": "2022-04-10T18:06:44.005194",
     "status": "completed"
    },
    "tags": []
   },
   "outputs": [
    {
     "data": {
      "text/plain": [
       "(array([ 2.,  3., 16., 37., 65., 38., 20., 23., 16., 11.]),\n",
       " array([-1.14285399, -0.93837495, -0.73389592, -0.52941688, -0.32493785,\n",
       "        -0.12045881,  0.08402022,  0.28849926,  0.49297829,  0.69745733,\n",
       "         0.90193636]),\n",
       " <BarContainer object of 10 artists>)"
      ]
     },
     "execution_count": 19,
     "metadata": {},
     "output_type": "execute_result"
    },
    {
     "data": {
      "image/png": "[encoded data removed]",
      "text/plain": [
       "<Figure size 432x288 with 1 Axes>"
      ]
     },
     "metadata": {
      "needs_background": "light"
     },
     "output_type": "display_data"
    }
   ],
   "source": [
    "plt.hist(y_test - predictions)"
   ]
  },
  {
   "cell_type": "code",
   "execution_count": 20,
   "id": "55b9f3f3",
   "metadata": {
    "execution": {
     "iopub.execute_input": "2022-04-10T18:06:44.345896Z",
     "iopub.status.busy": "2022-04-10T18:06:44.344982Z",
     "iopub.status.idle": "2022-04-10T18:06:44.349356Z",
     "shell.execute_reply": "2022-04-10T18:06:44.348677Z",
     "shell.execute_reply.started": "2022-04-10T18:04:53.686283Z"
    },
    "papermill": {
     "duration": 0.061043,
     "end_time": "2022-04-10T18:06:44.349503",
     "exception": false,
     "start_time": "2022-04-10T18:06:44.288460",
     "status": "completed"
    },
    "tags": []
   },
   "outputs": [
    {
     "data": {
      "text/plain": [
       "0.32727306304303627"
      ]
     },
     "execution_count": 20,
     "metadata": {},
     "output_type": "execute_result"
    }
   ],
   "source": [
    "#Mean Absolute Error (MAE)\n",
    "from sklearn import metrics\n",
    "mae(y_test, predictions)"
   ]
  },
  {
   "cell_type": "code",
   "execution_count": 21,
   "id": "3e6ac8fe",
   "metadata": {
    "execution": {
     "iopub.execute_input": "2022-04-10T18:06:44.452626Z",
     "iopub.status.busy": "2022-04-10T18:06:44.451873Z",
     "iopub.status.idle": "2022-04-10T18:06:44.454601Z",
     "shell.execute_reply": "2022-04-10T18:06:44.455095Z",
     "shell.execute_reply.started": "2022-04-10T18:04:53.947678Z"
    },
    "papermill": {
     "duration": 0.057263,
     "end_time": "2022-04-10T18:06:44.455289",
     "exception": false,
     "start_time": "2022-04-10T18:06:44.398026",
     "status": "completed"
    },
    "tags": []
   },
   "outputs": [
    {
     "data": {
      "text/plain": [
       "0.15468526736491772"
      ]
     },
     "execution_count": 21,
     "metadata": {},
     "output_type": "execute_result"
    }
   ],
   "source": [
    "#Mean Squared Error (MSE)\n",
    "mean_squared_error(y_test, predictions)"
   ]
  },
  {
   "cell_type": "code",
   "execution_count": 22,
   "id": "c606d893",
   "metadata": {
    "execution": {
     "iopub.execute_input": "2022-04-10T18:06:44.559720Z",
     "iopub.status.busy": "2022-04-10T18:06:44.558969Z",
     "iopub.status.idle": "2022-04-10T18:06:44.562947Z",
     "shell.execute_reply": "2022-04-10T18:06:44.562278Z",
     "shell.execute_reply.started": "2022-04-10T18:04:54.157273Z"
    },
    "papermill": {
     "duration": 0.060929,
     "end_time": "2022-04-10T18:06:44.563272",
     "exception": false,
     "start_time": "2022-04-10T18:06:44.502343",
     "status": "completed"
    },
    "tags": []
   },
   "outputs": [
    {
     "name": "stdout",
     "output_type": "stream",
     "text": [
      "RMSE :  0.3933004797415301\n"
     ]
    }
   ],
   "source": [
    "y_pred = model.predict(x_test)\n",
    "\n",
    "RMSE = np.sqrt(mean_squared_error(y_test, y_pred))\n",
    "print('RMSE : ',RMSE) # RMSE : Root Mean Square Error"
   ]
  },
  {
   "cell_type": "markdown",
   "id": "aeba5bef",
   "metadata": {
    "papermill": {
     "duration": 0.047148,
     "end_time": "2022-04-10T18:06:44.660699",
     "exception": false,
     "start_time": "2022-04-10T18:06:44.613551",
     "status": "completed"
    },
    "tags": []
   },
   "source": [
    "# 4. Logistic Regression"
   ]
  },
  {
   "cell_type": "code",
   "execution_count": 23,
   "id": "de706927",
   "metadata": {
    "execution": {
     "iopub.execute_input": "2022-04-10T18:06:44.764278Z",
     "iopub.status.busy": "2022-04-10T18:06:44.763541Z",
     "iopub.status.idle": "2022-04-10T18:06:44.798484Z",
     "shell.execute_reply": "2022-04-10T18:06:44.797667Z",
     "shell.execute_reply.started": "2022-04-10T18:04:54.272555Z"
    },
    "papermill": {
     "duration": 0.089858,
     "end_time": "2022-04-10T18:06:44.798639",
     "exception": false,
     "start_time": "2022-04-10T18:06:44.708781",
     "status": "completed"
    },
    "tags": []
   },
   "outputs": [
    {
     "name": "stdout",
     "output_type": "stream",
     "text": [
      "[[ 2.10489705e-01  2.69813479e-02 -3.64562988e-02 -9.58299955e-04\n",
      "  -1.76669137e-04  3.36751430e-02  2.19562755e+00 -1.08437837e-02]]\n"
     ]
    }
   ],
   "source": [
    "from sklearn.linear_model import LogisticRegression\n",
    "model = LogisticRegression()\n",
    "\n",
    "model.fit(x_train, y_train)\n",
    "print(model.coef_)"
   ]
  },
  {
   "cell_type": "code",
   "execution_count": 24,
   "id": "a8e42f24",
   "metadata": {
    "execution": {
     "iopub.execute_input": "2022-04-10T18:06:44.903028Z",
     "iopub.status.busy": "2022-04-10T18:06:44.902346Z",
     "iopub.status.idle": "2022-04-10T18:06:44.905739Z",
     "shell.execute_reply": "2022-04-10T18:06:44.906350Z",
     "shell.execute_reply.started": "2022-04-10T18:04:54.438342Z"
    },
    "papermill": {
     "duration": 0.05965,
     "end_time": "2022-04-10T18:06:44.906532",
     "exception": false,
     "start_time": "2022-04-10T18:06:44.846882",
     "status": "completed"
    },
    "tags": []
   },
   "outputs": [
    {
     "name": "stdout",
     "output_type": "stream",
     "text": [
      "[-3.73750607]\n"
     ]
    }
   ],
   "source": [
    "print(model.intercept_)"
   ]
  },
  {
   "cell_type": "code",
   "execution_count": 25,
   "id": "f6115821",
   "metadata": {
    "execution": {
     "iopub.execute_input": "2022-04-10T18:06:45.012619Z",
     "iopub.status.busy": "2022-04-10T18:06:45.011934Z",
     "iopub.status.idle": "2022-04-10T18:06:45.015418Z",
     "shell.execute_reply": "2022-04-10T18:06:45.014801Z",
     "shell.execute_reply.started": "2022-04-10T18:04:54.668530Z"
    },
    "papermill": {
     "duration": 0.060645,
     "end_time": "2022-04-10T18:06:45.015577",
     "exception": false,
     "start_time": "2022-04-10T18:06:44.954932",
     "status": "completed"
    },
    "tags": []
   },
   "outputs": [],
   "source": [
    "predictions = model.predict(x_test)"
   ]
  },
  {
   "cell_type": "code",
   "execution_count": 26,
   "id": "ec56ad31",
   "metadata": {
    "execution": {
     "iopub.execute_input": "2022-04-10T18:06:45.138388Z",
     "iopub.status.busy": "2022-04-10T18:06:45.137614Z",
     "iopub.status.idle": "2022-04-10T18:06:45.284481Z",
     "shell.execute_reply": "2022-04-10T18:06:45.283731Z",
     "shell.execute_reply.started": "2022-04-10T18:04:54.979757Z"
    },
    "papermill": {
     "duration": 0.220363,
     "end_time": "2022-04-10T18:06:45.284637",
     "exception": false,
     "start_time": "2022-04-10T18:06:45.064274",
     "status": "completed"
    },
    "tags": []
   },
   "outputs": [
    {
     "data": {
      "text/plain": [
       "<matplotlib.collections.PathCollection at 0x7ff87f6683d0>"
      ]
     },
     "execution_count": 26,
     "metadata": {},
     "output_type": "execute_result"
    },
    {
     "data": {
      "image/png": "[encoded data removed]",
      "text/plain": [
       "<Figure size 432x288 with 1 Axes>"
      ]
     },
     "metadata": {
      "needs_background": "light"
     },
     "output_type": "display_data"
    }
   ],
   "source": [
    "plt.scatter(y_test, predictions)"
   ]
  },
  {
   "cell_type": "code",
   "execution_count": 27,
   "id": "7fbb6e19",
   "metadata": {
    "execution": {
     "iopub.execute_input": "2022-04-10T18:06:45.393762Z",
     "iopub.status.busy": "2022-04-10T18:06:45.393041Z",
     "iopub.status.idle": "2022-04-10T18:06:45.395734Z",
     "shell.execute_reply": "2022-04-10T18:06:45.396235Z",
     "shell.execute_reply.started": "2022-04-10T18:04:55.195531Z"
    },
    "papermill": {
     "duration": 0.060914,
     "end_time": "2022-04-10T18:06:45.396421",
     "exception": false,
     "start_time": "2022-04-10T18:06:45.335507",
     "status": "completed"
    },
    "tags": []
   },
   "outputs": [
    {
     "data": {
      "text/plain": [
       "0.2597402597402597"
      ]
     },
     "execution_count": 27,
     "metadata": {},
     "output_type": "execute_result"
    }
   ],
   "source": [
    "#Mean Absolute Error (MAE)\n",
    "\n",
    "mae(y_test, predictions)"
   ]
  },
  {
   "cell_type": "code",
   "execution_count": 28,
   "id": "44173000",
   "metadata": {
    "execution": {
     "iopub.execute_input": "2022-04-10T18:06:45.503686Z",
     "iopub.status.busy": "2022-04-10T18:06:45.498928Z",
     "iopub.status.idle": "2022-04-10T18:06:45.506465Z",
     "shell.execute_reply": "2022-04-10T18:06:45.507094Z",
     "shell.execute_reply.started": "2022-04-10T18:04:55.331875Z"
    },
    "papermill": {
     "duration": 0.061189,
     "end_time": "2022-04-10T18:06:45.507282",
     "exception": false,
     "start_time": "2022-04-10T18:06:45.446093",
     "status": "completed"
    },
    "tags": []
   },
   "outputs": [
    {
     "data": {
      "text/plain": [
       "0.2597402597402597"
      ]
     },
     "execution_count": 28,
     "metadata": {},
     "output_type": "execute_result"
    }
   ],
   "source": [
    "#Mean Squared Error (MSE)\n",
    "mean_squared_error(y_test, predictions)"
   ]
  },
  {
   "cell_type": "code",
   "execution_count": 29,
   "id": "8e4d326e",
   "metadata": {
    "execution": {
     "iopub.execute_input": "2022-04-10T18:06:45.611714Z",
     "iopub.status.busy": "2022-04-10T18:06:45.611012Z",
     "iopub.status.idle": "2022-04-10T18:06:45.619343Z",
     "shell.execute_reply": "2022-04-10T18:06:45.619910Z",
     "shell.execute_reply.started": "2022-04-10T18:04:55.420973Z"
    },
    "papermill": {
     "duration": 0.062914,
     "end_time": "2022-04-10T18:06:45.620103",
     "exception": false,
     "start_time": "2022-04-10T18:06:45.557189",
     "status": "completed"
    },
    "tags": []
   },
   "outputs": [
    {
     "name": "stdout",
     "output_type": "stream",
     "text": [
      "RMSE :  0.5096471914376255\n"
     ]
    }
   ],
   "source": [
    "y_pred = model.predict(x_test)\n",
    "\n",
    "RMSE = np.sqrt(mean_squared_error(y_test, y_pred))\n",
    "print('RMSE : ',RMSE) # RMSE : Root Mean Square Error"
   ]
  },
  {
   "cell_type": "markdown",
   "id": "46022ad0",
   "metadata": {
    "papermill": {
     "duration": 0.051355,
     "end_time": "2022-04-10T18:06:45.724165",
     "exception": false,
     "start_time": "2022-04-10T18:06:45.672810",
     "status": "completed"
    },
    "tags": []
   },
   "source": [
    "# 5. Decision Tree\n"
   ]
  },
  {
   "cell_type": "code",
   "execution_count": 30,
   "id": "e935fd0f",
   "metadata": {
    "execution": {
     "iopub.execute_input": "2022-04-10T18:06:45.829750Z",
     "iopub.status.busy": "2022-04-10T18:06:45.828987Z",
     "iopub.status.idle": "2022-04-10T18:06:45.935163Z",
     "shell.execute_reply": "2022-04-10T18:06:45.934564Z",
     "shell.execute_reply.started": "2022-04-10T18:04:55.502932Z"
    },
    "papermill": {
     "duration": 0.160199,
     "end_time": "2022-04-10T18:06:45.935309",
     "exception": false,
     "start_time": "2022-04-10T18:06:45.775110",
     "status": "completed"
    },
    "tags": []
   },
   "outputs": [
    {
     "data": {
      "text/plain": [
       "DecisionTreeClassifier()"
      ]
     },
     "execution_count": 30,
     "metadata": {},
     "output_type": "execute_result"
    }
   ],
   "source": [
    "from sklearn.tree import DecisionTreeClassifier\n",
    "\n",
    "model = DecisionTreeClassifier()\n",
    "model.fit(x_train, y_train)"
   ]
  },
  {
   "cell_type": "code",
   "execution_count": 31,
   "id": "84ded6d5",
   "metadata": {
    "execution": {
     "iopub.execute_input": "2022-04-10T18:06:46.045979Z",
     "iopub.status.busy": "2022-04-10T18:06:46.045279Z",
     "iopub.status.idle": "2022-04-10T18:06:46.047950Z",
     "shell.execute_reply": "2022-04-10T18:06:46.047320Z",
     "shell.execute_reply.started": "2022-04-10T18:04:55.615701Z"
    },
    "papermill": {
     "duration": 0.061763,
     "end_time": "2022-04-10T18:06:46.048117",
     "exception": false,
     "start_time": "2022-04-10T18:06:45.986354",
     "status": "completed"
    },
    "tags": []
   },
   "outputs": [],
   "source": [
    "predictions = model.predict(x_test)"
   ]
  },
  {
   "cell_type": "code",
   "execution_count": 32,
   "id": "a07aa33d",
   "metadata": {
    "execution": {
     "iopub.execute_input": "2022-04-10T18:06:46.155477Z",
     "iopub.status.busy": "2022-04-10T18:06:46.154689Z",
     "iopub.status.idle": "2022-04-10T18:06:46.314857Z",
     "shell.execute_reply": "2022-04-10T18:06:46.314321Z",
     "shell.execute_reply.started": "2022-04-10T18:04:55.731294Z"
    },
    "papermill": {
     "duration": 0.216135,
     "end_time": "2022-04-10T18:06:46.315006",
     "exception": false,
     "start_time": "2022-04-10T18:06:46.098871",
     "status": "completed"
    },
    "tags": []
   },
   "outputs": [
    {
     "data": {
      "text/plain": [
       "<matplotlib.collections.PathCollection at 0x7ff87d4506d0>"
      ]
     },
     "execution_count": 32,
     "metadata": {},
     "output_type": "execute_result"
    },
    {
     "data": {
      "image/png": "[encoded data removed]",
      "text/plain": [
       "<Figure size 432x288 with 1 Axes>"
      ]
     },
     "metadata": {
      "needs_background": "light"
     },
     "output_type": "display_data"
    }
   ],
   "source": [
    "plt.scatter(y_test, predictions)"
   ]
  },
  {
   "cell_type": "code",
   "execution_count": 33,
   "id": "0c1d8a51",
   "metadata": {
    "execution": {
     "iopub.execute_input": "2022-04-10T18:06:46.428444Z",
     "iopub.status.busy": "2022-04-10T18:06:46.427419Z",
     "iopub.status.idle": "2022-04-10T18:06:46.435980Z",
     "shell.execute_reply": "2022-04-10T18:06:46.435338Z",
     "shell.execute_reply.started": "2022-04-10T18:04:55.945676Z"
    },
    "papermill": {
     "duration": 0.066668,
     "end_time": "2022-04-10T18:06:46.436143",
     "exception": false,
     "start_time": "2022-04-10T18:06:46.369475",
     "status": "completed"
    },
    "tags": []
   },
   "outputs": [
    {
     "data": {
      "text/plain": [
       "0.2727272727272727"
      ]
     },
     "execution_count": 33,
     "metadata": {},
     "output_type": "execute_result"
    }
   ],
   "source": [
    "#Mean Absolute Error (MAE)\n",
    "\n",
    "mae(y_test, predictions)"
   ]
  },
  {
   "cell_type": "code",
   "execution_count": 34,
   "id": "70dd3df7",
   "metadata": {
    "execution": {
     "iopub.execute_input": "2022-04-10T18:06:46.550687Z",
     "iopub.status.busy": "2022-04-10T18:06:46.549820Z",
     "iopub.status.idle": "2022-04-10T18:06:46.553132Z",
     "shell.execute_reply": "2022-04-10T18:06:46.553647Z",
     "shell.execute_reply.started": "2022-04-10T18:04:55.954305Z"
    },
    "papermill": {
     "duration": 0.063861,
     "end_time": "2022-04-10T18:06:46.553825",
     "exception": false,
     "start_time": "2022-04-10T18:06:46.489964",
     "status": "completed"
    },
    "tags": []
   },
   "outputs": [
    {
     "data": {
      "text/plain": [
       "0.2727272727272727"
      ]
     },
     "execution_count": 34,
     "metadata": {},
     "output_type": "execute_result"
    }
   ],
   "source": [
    "#Mean Squared Error (MSE)\n",
    "mean_squared_error(y_test, predictions)"
   ]
  },
  {
   "cell_type": "code",
   "execution_count": 35,
   "id": "32288f03",
   "metadata": {
    "execution": {
     "iopub.execute_input": "2022-04-10T18:06:46.669138Z",
     "iopub.status.busy": "2022-04-10T18:06:46.664389Z",
     "iopub.status.idle": "2022-04-10T18:06:46.675587Z",
     "shell.execute_reply": "2022-04-10T18:06:46.674622Z",
     "shell.execute_reply.started": "2022-04-10T18:04:56.017564Z"
    },
    "papermill": {
     "duration": 0.068442,
     "end_time": "2022-04-10T18:06:46.675785",
     "exception": false,
     "start_time": "2022-04-10T18:06:46.607343",
     "status": "completed"
    },
    "tags": []
   },
   "outputs": [
    {
     "name": "stdout",
     "output_type": "stream",
     "text": [
      "RMSE :  0.5222329678670935\n"
     ]
    }
   ],
   "source": [
    "y_pred = model.predict(x_test)\n",
    "\n",
    "RMSE = np.sqrt(mean_squared_error(y_test, y_pred))\n",
    "print('RMSE : ',RMSE) # RMSE : Root Mean Square Error"
   ]
  },
  {
   "cell_type": "markdown",
   "id": "c6ea430d",
   "metadata": {
    "papermill": {
     "duration": 0.05254,
     "end_time": "2022-04-10T18:06:46.783101",
     "exception": false,
     "start_time": "2022-04-10T18:06:46.730561",
     "status": "completed"
    },
    "tags": []
   },
   "source": [
    "# 6. Performance comparison of different algorithms"
   ]
  },
  {
   "cell_type": "markdown",
   "id": "815a4a6c",
   "metadata": {
    "papermill": {
     "duration": 0.05316,
     "end_time": "2022-04-10T18:06:46.890788",
     "exception": false,
     "start_time": "2022-04-10T18:06:46.837628",
     "status": "completed"
    },
    "tags": []
   },
   "source": [
    "The table below shows the MAE and MSE values for each algorithm used above.\n",
    "\n",
    "| Algorithm | MAE | MSE | RMSE |\n",
    "| --- | --- | --- | --- |\n",
    "| Linear Regression | 0.3289444112799123 | 0.15596593050244253 | 0.39492522140582836 |\n",
    "| Logistic Regression | 0.26406926406926406 | 0.26406926406926406 | 0.513876701232177 |\n",
    "| Decision Tree | 0.27705627705627706 | 0.27705627705627706 | 0.5263613559678152 |\n"
   ]
  },
  {
   "cell_type": "markdown",
   "id": "a9ad9e44",
   "metadata": {
    "papermill": {
     "duration": 0.054721,
     "end_time": "2022-04-10T18:06:47.001618",
     "exception": false,
     "start_time": "2022-04-10T18:06:46.946897",
     "status": "completed"
    },
    "tags": []
   },
   "source": [
    "We know that, both the MAE and RMSE can range from 0 to ∞. They are negatively-oriented scores: Lower values are better.[[Source](http://www.eumetrain.org/data/4/451/english/msg/ver_cont_var/uos3/uos3_ko1.htm#:~:text=Both%20the%20MAE%20and%20RMSE%20can%20range%20from%200%20to%20%E2%88%9E.%20They%20are%20negatively%2Doriented%20scores%3A%20Lower%20values%20are%20better.)]\n",
    "For MSE as well, the lower the value the better and 0 means the model is perfect. \n",
    "\n",
    "### **In the table above, we can see that Logistic Regression has the lowest MAE, MSE and RMSE values. Which means, out of the 3 algorithms used, Logistic Regression gives the best results, followed by Decision Tree. Linear Regression has the highest error measures because it's a regression algorithm while the problem is a classification problem.**"
   ]
  }
 ],
 "metadata": {
  "kernelspec": {
   "display_name": "Python 3",
   "language": "python",
   "name": "python3"
  },
  "language_info": {
   "codemirror_mode": {
    "name": "ipython",
    "version": 3
   },
   "file_extension": ".py",
   "mimetype": "text/x-python",
   "name": "python",
   "nbconvert_exporter": "python",
   "pygments_lexer": "ipython3",
   "version": "3.7.12"
  },
  "papermill": {
   "default_parameters": {},
   "duration": 18.316093,
   "end_time": "2022-04-10T18:06:47.867060",
   "environment_variables": {},
   "exception": null,
   "input_path": "__notebook__.ipynb",
   "output_path": "__notebook__.ipynb",
   "parameters": {},
   "start_time": "2022-04-10T18:06:29.550967",
   "version": "2.3.3"
  }
 },
 "nbformat": 4,
 "nbformat_minor": 5
}
