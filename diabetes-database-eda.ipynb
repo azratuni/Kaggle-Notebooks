{
 "cells": [
  {
   "cell_type": "markdown",
   "id": "85192683",
   "metadata": {
    "papermill": {
     "duration": 0.064671,
     "end_time": "2022-03-02T08:04:43.051643",
     "exception": false,
     "start_time": "2022-03-02T08:04:42.986972",
     "status": "completed"
    },
    "tags": []
   },
   "source": [
    "# Diabetes Database EDA\n",
    "\n",
    "The purpose of this notebook is to bring out insights and findings from the dataset. "
   ]
  },
  {
   "cell_type": "markdown",
   "id": "63edc962",
   "metadata": {
    "papermill": {
     "duration": 0.067382,
     "end_time": "2022-03-02T08:04:43.183050",
     "exception": false,
     "start_time": "2022-03-02T08:04:43.115668",
     "status": "completed"
    },
    "tags": []
   },
   "source": [
    "**Contents:**\n",
    "\n",
    "1. Import necessary libraries and load the dataset\n",
    "2. Descriptive Statistics of Dataset\n",
    "3. Checking missing values\n",
    "4. Handling columns with \"0\" values\n",
    "   * Handle: Glucose, BloodPressure, BMI\n",
    "       * Finding outliers: Glucose, BloodPressure, BMI\n",
    "       * Replace Values: Glucose, BloodPressure, BMI\n",
    "   * Handle: Insulin in respect to Glucose\n",
    "   * Handle: Skinthickness in respect to BMI\n",
    "5. Visualization\n",
    "6. Courtesy"
   ]
  },
  {
   "cell_type": "markdown",
   "id": "34b12032",
   "metadata": {
    "papermill": {
     "duration": 0.046051,
     "end_time": "2022-03-02T08:04:43.273195",
     "exception": false,
     "start_time": "2022-03-02T08:04:43.227144",
     "status": "completed"
    },
    "tags": []
   },
   "source": [
    "# 1. Import necessary libraries and load the dataset"
   ]
  },
  {
   "cell_type": "code",
   "execution_count": 1,
   "id": "71fae5d4",
   "metadata": {
    "_cell_guid": "b1076dfc-b9ad-4769-8c92-a6c4dae69d19",
    "_uuid": "8f2839f25d086af736a60e9eeb907d3b93b6e0e5",
    "execution": {
     "iopub.execute_input": "2022-03-02T08:04:43.360663Z",
     "iopub.status.busy": "2022-03-02T08:04:43.359689Z",
     "iopub.status.idle": "2022-03-02T08:04:44.949508Z",
     "shell.execute_reply": "2022-03-02T08:04:44.948364Z",
     "shell.execute_reply.started": "2022-03-02T08:03:54.228994Z"
    },
    "papermill": {
     "duration": 1.635213,
     "end_time": "2022-03-02T08:04:44.949770",
     "exception": false,
     "start_time": "2022-03-02T08:04:43.314557",
     "status": "completed"
    },
    "tags": []
   },
   "outputs": [
    {
     "name": "stdout",
     "output_type": "stream",
     "text": [
      "/kaggle/input/pima-indians-diabetes-database/diabetes.csv\n"
     ]
    }
   ],
   "source": [
    "# This Python 3 environment comes with many helpful analytics libraries installed\n",
    "# It is defined by the kaggle/python Docker image: https://github.com/kaggle/docker-python\n",
    "# For example, here's several helpful packages to load\n",
    "\n",
    "import numpy as np # linear algebra\n",
    "import pandas as pd # data processing, CSV file I/O (e.g. pd.read_csv)\n",
    "import matplotlib.pyplot as plt\n",
    "import seaborn as sns\n",
    "\n",
    "# Input data files are available in the read-only \"../input/\" directory\n",
    "# For example, running this (by clicking run or pressing Shift+Enter) will list all files under the input directory\n",
    "\n",
    "import os\n",
    "for dirname, _, filenames in os.walk('/kaggle/input'):\n",
    "    for filename in filenames:\n",
    "        print(os.path.join(dirname, filename))\n",
    "\n",
    "import warnings\n",
    "warnings.simplefilter(\"ignore\")"
   ]
  },
  {
   "cell_type": "code",
   "execution_count": 2,
   "id": "53afbfea",
   "metadata": {
    "execution": {
     "iopub.execute_input": "2022-03-02T08:04:45.041784Z",
     "iopub.status.busy": "2022-03-02T08:04:45.041192Z",
     "iopub.status.idle": "2022-03-02T08:04:45.060725Z",
     "shell.execute_reply": "2022-03-02T08:04:45.061161Z",
     "shell.execute_reply.started": "2022-03-02T08:03:55.358719Z"
    },
    "papermill": {
     "duration": 0.067811,
     "end_time": "2022-03-02T08:04:45.061350",
     "exception": false,
     "start_time": "2022-03-02T08:04:44.993539",
     "status": "completed"
    },
    "tags": []
   },
   "outputs": [],
   "source": [
    "df = pd.read_csv('../input/pima-indians-diabetes-database/diabetes.csv')"
   ]
  },
  {
   "cell_type": "code",
   "execution_count": 3,
   "id": "69593b24",
   "metadata": {
    "execution": {
     "iopub.execute_input": "2022-03-02T08:04:45.158080Z",
     "iopub.status.busy": "2022-03-02T08:04:45.157485Z",
     "iopub.status.idle": "2022-03-02T08:04:45.196911Z",
     "shell.execute_reply": "2022-03-02T08:04:45.196338Z",
     "shell.execute_reply.started": "2022-03-02T08:03:55.379438Z"
    },
    "papermill": {
     "duration": 0.088332,
     "end_time": "2022-03-02T08:04:45.197057",
     "exception": false,
     "start_time": "2022-03-02T08:04:45.108725",
     "status": "completed"
    },
    "tags": []
   },
   "outputs": [
    {
     "data": {
      "text/html": [
       "<div>\n",
       "<style scoped>\n",
       "    .dataframe tbody tr th:only-of-type {\n",
       "        vertical-align: middle;\n",
       "    }\n",
       "\n",
       "    .dataframe tbody tr th {\n",
       "        vertical-align: top;\n",
       "    }\n",
       "\n",
       "    .dataframe thead th {\n",
       "        text-align: right;\n",
       "    }\n",
       "</style>\n",
       "<table border=\"1\" class=\"dataframe\">\n",
       "  <thead>\n",
       "    <tr style=\"text-align: right;\">\n",
       "      <th></th>\n",
       "      <th>Pregnancies</th>\n",
       "      <th>Glucose</th>\n",
       "      <th>BloodPressure</th>\n",
       "      <th>SkinThickness</th>\n",
       "      <th>Insulin</th>\n",
       "      <th>BMI</th>\n",
       "      <th>DiabetesPedigreeFunction</th>\n",
       "      <th>Age</th>\n",
       "      <th>Outcome</th>\n",
       "    </tr>\n",
       "  </thead>\n",
       "  <tbody>\n",
       "    <tr>\n",
       "      <th>0</th>\n",
       "      <td>6</td>\n",
       "      <td>148</td>\n",
       "      <td>72</td>\n",
       "      <td>35</td>\n",
       "      <td>0</td>\n",
       "      <td>33.6</td>\n",
       "      <td>0.627</td>\n",
       "      <td>50</td>\n",
       "      <td>1</td>\n",
       "    </tr>\n",
       "    <tr>\n",
       "      <th>1</th>\n",
       "      <td>1</td>\n",
       "      <td>85</td>\n",
       "      <td>66</td>\n",
       "      <td>29</td>\n",
       "      <td>0</td>\n",
       "      <td>26.6</td>\n",
       "      <td>0.351</td>\n",
       "      <td>31</td>\n",
       "      <td>0</td>\n",
       "    </tr>\n",
       "    <tr>\n",
       "      <th>2</th>\n",
       "      <td>8</td>\n",
       "      <td>183</td>\n",
       "      <td>64</td>\n",
       "      <td>0</td>\n",
       "      <td>0</td>\n",
       "      <td>23.3</td>\n",
       "      <td>0.672</td>\n",
       "      <td>32</td>\n",
       "      <td>1</td>\n",
       "    </tr>\n",
       "    <tr>\n",
       "      <th>3</th>\n",
       "      <td>1</td>\n",
       "      <td>89</td>\n",
       "      <td>66</td>\n",
       "      <td>23</td>\n",
       "      <td>94</td>\n",
       "      <td>28.1</td>\n",
       "      <td>0.167</td>\n",
       "      <td>21</td>\n",
       "      <td>0</td>\n",
       "    </tr>\n",
       "    <tr>\n",
       "      <th>4</th>\n",
       "      <td>0</td>\n",
       "      <td>137</td>\n",
       "      <td>40</td>\n",
       "      <td>35</td>\n",
       "      <td>168</td>\n",
       "      <td>43.1</td>\n",
       "      <td>2.288</td>\n",
       "      <td>33</td>\n",
       "      <td>1</td>\n",
       "    </tr>\n",
       "  </tbody>\n",
       "</table>\n",
       "</div>"
      ],
      "text/plain": [
       "   Pregnancies  Glucose  BloodPressure  SkinThickness  Insulin   BMI  \\\n",
       "0            6      148             72             35        0  33.6   \n",
       "1            1       85             66             29        0  26.6   \n",
       "2            8      183             64              0        0  23.3   \n",
       "3            1       89             66             23       94  28.1   \n",
       "4            0      137             40             35      168  43.1   \n",
       "\n",
       "   DiabetesPedigreeFunction  Age  Outcome  \n",
       "0                     0.627   50        1  \n",
       "1                     0.351   31        0  \n",
       "2                     0.672   32        1  \n",
       "3                     0.167   21        0  \n",
       "4                     2.288   33        1  "
      ]
     },
     "metadata": {},
     "output_type": "display_data"
    },
    {
     "data": {
      "text/html": [
       "<div>\n",
       "<style scoped>\n",
       "    .dataframe tbody tr th:only-of-type {\n",
       "        vertical-align: middle;\n",
       "    }\n",
       "\n",
       "    .dataframe tbody tr th {\n",
       "        vertical-align: top;\n",
       "    }\n",
       "\n",
       "    .dataframe thead th {\n",
       "        text-align: right;\n",
       "    }\n",
       "</style>\n",
       "<table border=\"1\" class=\"dataframe\">\n",
       "  <thead>\n",
       "    <tr style=\"text-align: right;\">\n",
       "      <th></th>\n",
       "      <th>Pregnancies</th>\n",
       "      <th>Glucose</th>\n",
       "      <th>BloodPressure</th>\n",
       "      <th>SkinThickness</th>\n",
       "      <th>Insulin</th>\n",
       "      <th>BMI</th>\n",
       "      <th>DiabetesPedigreeFunction</th>\n",
       "      <th>Age</th>\n",
       "      <th>Outcome</th>\n",
       "    </tr>\n",
       "  </thead>\n",
       "  <tbody>\n",
       "    <tr>\n",
       "      <th>763</th>\n",
       "      <td>10</td>\n",
       "      <td>101</td>\n",
       "      <td>76</td>\n",
       "      <td>48</td>\n",
       "      <td>180</td>\n",
       "      <td>32.9</td>\n",
       "      <td>0.171</td>\n",
       "      <td>63</td>\n",
       "      <td>0</td>\n",
       "    </tr>\n",
       "    <tr>\n",
       "      <th>764</th>\n",
       "      <td>2</td>\n",
       "      <td>122</td>\n",
       "      <td>70</td>\n",
       "      <td>27</td>\n",
       "      <td>0</td>\n",
       "      <td>36.8</td>\n",
       "      <td>0.340</td>\n",
       "      <td>27</td>\n",
       "      <td>0</td>\n",
       "    </tr>\n",
       "    <tr>\n",
       "      <th>765</th>\n",
       "      <td>5</td>\n",
       "      <td>121</td>\n",
       "      <td>72</td>\n",
       "      <td>23</td>\n",
       "      <td>112</td>\n",
       "      <td>26.2</td>\n",
       "      <td>0.245</td>\n",
       "      <td>30</td>\n",
       "      <td>0</td>\n",
       "    </tr>\n",
       "    <tr>\n",
       "      <th>766</th>\n",
       "      <td>1</td>\n",
       "      <td>126</td>\n",
       "      <td>60</td>\n",
       "      <td>0</td>\n",
       "      <td>0</td>\n",
       "      <td>30.1</td>\n",
       "      <td>0.349</td>\n",
       "      <td>47</td>\n",
       "      <td>1</td>\n",
       "    </tr>\n",
       "    <tr>\n",
       "      <th>767</th>\n",
       "      <td>1</td>\n",
       "      <td>93</td>\n",
       "      <td>70</td>\n",
       "      <td>31</td>\n",
       "      <td>0</td>\n",
       "      <td>30.4</td>\n",
       "      <td>0.315</td>\n",
       "      <td>23</td>\n",
       "      <td>0</td>\n",
       "    </tr>\n",
       "  </tbody>\n",
       "</table>\n",
       "</div>"
      ],
      "text/plain": [
       "     Pregnancies  Glucose  BloodPressure  SkinThickness  Insulin   BMI  \\\n",
       "763           10      101             76             48      180  32.9   \n",
       "764            2      122             70             27        0  36.8   \n",
       "765            5      121             72             23      112  26.2   \n",
       "766            1      126             60              0        0  30.1   \n",
       "767            1       93             70             31        0  30.4   \n",
       "\n",
       "     DiabetesPedigreeFunction  Age  Outcome  \n",
       "763                     0.171   63        0  \n",
       "764                     0.340   27        0  \n",
       "765                     0.245   30        0  \n",
       "766                     0.349   47        1  \n",
       "767                     0.315   23        0  "
      ]
     },
     "metadata": {},
     "output_type": "display_data"
    }
   ],
   "source": [
    "display(df.head())\n",
    "display(df.tail())"
   ]
  },
  {
   "cell_type": "markdown",
   "id": "cd5738d6",
   "metadata": {
    "papermill": {
     "duration": 0.047879,
     "end_time": "2022-03-02T08:04:45.292360",
     "exception": false,
     "start_time": "2022-03-02T08:04:45.244481",
     "status": "completed"
    },
    "tags": []
   },
   "source": [
    "In the \"Insulin\" column there are \"0\" values which is not possible."
   ]
  },
  {
   "cell_type": "markdown",
   "id": "befb6799",
   "metadata": {
    "papermill": {
     "duration": 0.04628,
     "end_time": "2022-03-02T08:04:45.387659",
     "exception": false,
     "start_time": "2022-03-02T08:04:45.341379",
     "status": "completed"
    },
    "tags": []
   },
   "source": [
    "# 2. Descriptive Statistics of Dataset"
   ]
  },
  {
   "cell_type": "code",
   "execution_count": 4,
   "id": "4c2b71ec",
   "metadata": {
    "execution": {
     "iopub.execute_input": "2022-03-02T08:04:45.492125Z",
     "iopub.status.busy": "2022-03-02T08:04:45.491553Z",
     "iopub.status.idle": "2022-03-02T08:04:45.508208Z",
     "shell.execute_reply": "2022-03-02T08:04:45.507665Z",
     "shell.execute_reply.started": "2022-03-02T08:03:55.415110Z"
    },
    "papermill": {
     "duration": 0.075589,
     "end_time": "2022-03-02T08:04:45.508335",
     "exception": false,
     "start_time": "2022-03-02T08:04:45.432746",
     "status": "completed"
    },
    "tags": []
   },
   "outputs": [
    {
     "name": "stdout",
     "output_type": "stream",
     "text": [
      "<class 'pandas.core.frame.DataFrame'>\n",
      "RangeIndex: 768 entries, 0 to 767\n",
      "Data columns (total 9 columns):\n",
      " #   Column                    Non-Null Count  Dtype  \n",
      "---  ------                    --------------  -----  \n",
      " 0   Pregnancies               768 non-null    int64  \n",
      " 1   Glucose                   768 non-null    int64  \n",
      " 2   BloodPressure             768 non-null    int64  \n",
      " 3   SkinThickness             768 non-null    int64  \n",
      " 4   Insulin                   768 non-null    int64  \n",
      " 5   BMI                       768 non-null    float64\n",
      " 6   DiabetesPedigreeFunction  768 non-null    float64\n",
      " 7   Age                       768 non-null    int64  \n",
      " 8   Outcome                   768 non-null    int64  \n",
      "dtypes: float64(2), int64(7)\n",
      "memory usage: 54.1 KB\n"
     ]
    }
   ],
   "source": [
    "df.info()\n"
   ]
  },
  {
   "cell_type": "code",
   "execution_count": 5,
   "id": "00880782",
   "metadata": {
    "execution": {
     "iopub.execute_input": "2022-03-02T08:04:45.609287Z",
     "iopub.status.busy": "2022-03-02T08:04:45.608507Z",
     "iopub.status.idle": "2022-03-02T08:04:45.646737Z",
     "shell.execute_reply": "2022-03-02T08:04:45.647127Z",
     "shell.execute_reply.started": "2022-03-02T08:03:55.441243Z"
    },
    "papermill": {
     "duration": 0.093666,
     "end_time": "2022-03-02T08:04:45.647281",
     "exception": false,
     "start_time": "2022-03-02T08:04:45.553615",
     "status": "completed"
    },
    "tags": []
   },
   "outputs": [
    {
     "data": {
      "text/html": [
       "<div>\n",
       "<style scoped>\n",
       "    .dataframe tbody tr th:only-of-type {\n",
       "        vertical-align: middle;\n",
       "    }\n",
       "\n",
       "    .dataframe tbody tr th {\n",
       "        vertical-align: top;\n",
       "    }\n",
       "\n",
       "    .dataframe thead th {\n",
       "        text-align: right;\n",
       "    }\n",
       "</style>\n",
       "<table border=\"1\" class=\"dataframe\">\n",
       "  <thead>\n",
       "    <tr style=\"text-align: right;\">\n",
       "      <th></th>\n",
       "      <th>Pregnancies</th>\n",
       "      <th>Glucose</th>\n",
       "      <th>BloodPressure</th>\n",
       "      <th>SkinThickness</th>\n",
       "      <th>Insulin</th>\n",
       "      <th>BMI</th>\n",
       "      <th>DiabetesPedigreeFunction</th>\n",
       "      <th>Age</th>\n",
       "      <th>Outcome</th>\n",
       "    </tr>\n",
       "  </thead>\n",
       "  <tbody>\n",
       "    <tr>\n",
       "      <th>count</th>\n",
       "      <td>768.000000</td>\n",
       "      <td>768.000000</td>\n",
       "      <td>768.000000</td>\n",
       "      <td>768.000000</td>\n",
       "      <td>768.000000</td>\n",
       "      <td>768.000000</td>\n",
       "      <td>768.000000</td>\n",
       "      <td>768.000000</td>\n",
       "      <td>768.000000</td>\n",
       "    </tr>\n",
       "    <tr>\n",
       "      <th>mean</th>\n",
       "      <td>3.845052</td>\n",
       "      <td>120.894531</td>\n",
       "      <td>69.105469</td>\n",
       "      <td>20.536458</td>\n",
       "      <td>79.799479</td>\n",
       "      <td>31.992578</td>\n",
       "      <td>0.471876</td>\n",
       "      <td>33.240885</td>\n",
       "      <td>0.348958</td>\n",
       "    </tr>\n",
       "    <tr>\n",
       "      <th>std</th>\n",
       "      <td>3.369578</td>\n",
       "      <td>31.972618</td>\n",
       "      <td>19.355807</td>\n",
       "      <td>15.952218</td>\n",
       "      <td>115.244002</td>\n",
       "      <td>7.884160</td>\n",
       "      <td>0.331329</td>\n",
       "      <td>11.760232</td>\n",
       "      <td>0.476951</td>\n",
       "    </tr>\n",
       "    <tr>\n",
       "      <th>min</th>\n",
       "      <td>0.000000</td>\n",
       "      <td>0.000000</td>\n",
       "      <td>0.000000</td>\n",
       "      <td>0.000000</td>\n",
       "      <td>0.000000</td>\n",
       "      <td>0.000000</td>\n",
       "      <td>0.078000</td>\n",
       "      <td>21.000000</td>\n",
       "      <td>0.000000</td>\n",
       "    </tr>\n",
       "    <tr>\n",
       "      <th>25%</th>\n",
       "      <td>1.000000</td>\n",
       "      <td>99.000000</td>\n",
       "      <td>62.000000</td>\n",
       "      <td>0.000000</td>\n",
       "      <td>0.000000</td>\n",
       "      <td>27.300000</td>\n",
       "      <td>0.243750</td>\n",
       "      <td>24.000000</td>\n",
       "      <td>0.000000</td>\n",
       "    </tr>\n",
       "    <tr>\n",
       "      <th>50%</th>\n",
       "      <td>3.000000</td>\n",
       "      <td>117.000000</td>\n",
       "      <td>72.000000</td>\n",
       "      <td>23.000000</td>\n",
       "      <td>30.500000</td>\n",
       "      <td>32.000000</td>\n",
       "      <td>0.372500</td>\n",
       "      <td>29.000000</td>\n",
       "      <td>0.000000</td>\n",
       "    </tr>\n",
       "    <tr>\n",
       "      <th>75%</th>\n",
       "      <td>6.000000</td>\n",
       "      <td>140.250000</td>\n",
       "      <td>80.000000</td>\n",
       "      <td>32.000000</td>\n",
       "      <td>127.250000</td>\n",
       "      <td>36.600000</td>\n",
       "      <td>0.626250</td>\n",
       "      <td>41.000000</td>\n",
       "      <td>1.000000</td>\n",
       "    </tr>\n",
       "    <tr>\n",
       "      <th>max</th>\n",
       "      <td>17.000000</td>\n",
       "      <td>199.000000</td>\n",
       "      <td>122.000000</td>\n",
       "      <td>99.000000</td>\n",
       "      <td>846.000000</td>\n",
       "      <td>67.100000</td>\n",
       "      <td>2.420000</td>\n",
       "      <td>81.000000</td>\n",
       "      <td>1.000000</td>\n",
       "    </tr>\n",
       "  </tbody>\n",
       "</table>\n",
       "</div>"
      ],
      "text/plain": [
       "       Pregnancies     Glucose  BloodPressure  SkinThickness     Insulin  \\\n",
       "count   768.000000  768.000000     768.000000     768.000000  768.000000   \n",
       "mean      3.845052  120.894531      69.105469      20.536458   79.799479   \n",
       "std       3.369578   31.972618      19.355807      15.952218  115.244002   \n",
       "min       0.000000    0.000000       0.000000       0.000000    0.000000   \n",
       "25%       1.000000   99.000000      62.000000       0.000000    0.000000   \n",
       "50%       3.000000  117.000000      72.000000      23.000000   30.500000   \n",
       "75%       6.000000  140.250000      80.000000      32.000000  127.250000   \n",
       "max      17.000000  199.000000     122.000000      99.000000  846.000000   \n",
       "\n",
       "              BMI  DiabetesPedigreeFunction         Age     Outcome  \n",
       "count  768.000000                768.000000  768.000000  768.000000  \n",
       "mean    31.992578                  0.471876   33.240885    0.348958  \n",
       "std      7.884160                  0.331329   11.760232    0.476951  \n",
       "min      0.000000                  0.078000   21.000000    0.000000  \n",
       "25%     27.300000                  0.243750   24.000000    0.000000  \n",
       "50%     32.000000                  0.372500   29.000000    0.000000  \n",
       "75%     36.600000                  0.626250   41.000000    1.000000  \n",
       "max     67.100000                  2.420000   81.000000    1.000000  "
      ]
     },
     "execution_count": 5,
     "metadata": {},
     "output_type": "execute_result"
    }
   ],
   "source": [
    "df.describe()\n"
   ]
  },
  {
   "cell_type": "code",
   "execution_count": 6,
   "id": "75b529f0",
   "metadata": {
    "execution": {
     "iopub.execute_input": "2022-03-02T08:04:45.744368Z",
     "iopub.status.busy": "2022-03-02T08:04:45.743823Z",
     "iopub.status.idle": "2022-03-02T08:04:45.766463Z",
     "shell.execute_reply": "2022-03-02T08:04:45.766931Z",
     "shell.execute_reply.started": "2022-03-02T08:03:55.490679Z"
    },
    "papermill": {
     "duration": 0.07669,
     "end_time": "2022-03-02T08:04:45.767107",
     "exception": false,
     "start_time": "2022-03-02T08:04:45.690417",
     "status": "completed"
    },
    "tags": []
   },
   "outputs": [
    {
     "data": {
      "text/plain": [
       "Index(['Pregnancies', 'Glucose', 'BloodPressure', 'SkinThickness', 'Insulin',\n",
       "       'BMI', 'DiabetesPedigreeFunction', 'Age', 'Outcome'],\n",
       "      dtype='object')"
      ]
     },
     "execution_count": 6,
     "metadata": {},
     "output_type": "execute_result"
    }
   ],
   "source": [
    "df.describe().columns\n"
   ]
  },
  {
   "cell_type": "code",
   "execution_count": 7,
   "id": "eadc928b",
   "metadata": {
    "execution": {
     "iopub.execute_input": "2022-03-02T08:04:45.862007Z",
     "iopub.status.busy": "2022-03-02T08:04:45.861194Z",
     "iopub.status.idle": "2022-03-02T08:04:45.868655Z",
     "shell.execute_reply": "2022-03-02T08:04:45.869215Z",
     "shell.execute_reply.started": "2022-03-02T08:03:55.523848Z"
    },
    "papermill": {
     "duration": 0.05597,
     "end_time": "2022-03-02T08:04:45.869454",
     "exception": false,
     "start_time": "2022-03-02T08:04:45.813484",
     "status": "completed"
    },
    "tags": []
   },
   "outputs": [
    {
     "data": {
      "text/plain": [
       "(768, 9)"
      ]
     },
     "execution_count": 7,
     "metadata": {},
     "output_type": "execute_result"
    }
   ],
   "source": [
    "df.shape"
   ]
  },
  {
   "cell_type": "markdown",
   "id": "4328e91a",
   "metadata": {
    "papermill": {
     "duration": 0.068921,
     "end_time": "2022-03-02T08:04:46.010526",
     "exception": false,
     "start_time": "2022-03-02T08:04:45.941605",
     "status": "completed"
    },
    "tags": []
   },
   "source": [
    "# 3. Checking missing values"
   ]
  },
  {
   "cell_type": "code",
   "execution_count": 8,
   "id": "f74c8ee1",
   "metadata": {
    "execution": {
     "iopub.execute_input": "2022-03-02T08:04:46.165020Z",
     "iopub.status.busy": "2022-03-02T08:04:46.164231Z",
     "iopub.status.idle": "2022-03-02T08:04:46.167223Z",
     "shell.execute_reply": "2022-03-02T08:04:46.167991Z",
     "shell.execute_reply.started": "2022-03-02T08:03:55.532561Z"
    },
    "papermill": {
     "duration": 0.087658,
     "end_time": "2022-03-02T08:04:46.168394",
     "exception": false,
     "start_time": "2022-03-02T08:04:46.080736",
     "status": "completed"
    },
    "tags": []
   },
   "outputs": [
    {
     "data": {
      "text/plain": [
       "False"
      ]
     },
     "execution_count": 8,
     "metadata": {},
     "output_type": "execute_result"
    }
   ],
   "source": [
    "df.isnull().values.any()\n"
   ]
  },
  {
   "cell_type": "code",
   "execution_count": 9,
   "id": "44f08481",
   "metadata": {
    "execution": {
     "iopub.execute_input": "2022-03-02T08:04:46.348658Z",
     "iopub.status.busy": "2022-03-02T08:04:46.347541Z",
     "iopub.status.idle": "2022-03-02T08:04:46.362860Z",
     "shell.execute_reply": "2022-03-02T08:04:46.363532Z",
     "shell.execute_reply.started": "2022-03-02T08:03:55.544122Z"
    },
    "papermill": {
     "duration": 0.112283,
     "end_time": "2022-03-02T08:04:46.363745",
     "exception": false,
     "start_time": "2022-03-02T08:04:46.251462",
     "status": "completed"
    },
    "tags": []
   },
   "outputs": [
    {
     "data": {
      "text/plain": [
       "Pregnancies                 0\n",
       "Glucose                     0\n",
       "BloodPressure               0\n",
       "SkinThickness               0\n",
       "Insulin                     0\n",
       "BMI                         0\n",
       "DiabetesPedigreeFunction    0\n",
       "Age                         0\n",
       "Outcome                     0\n",
       "dtype: int64"
      ]
     },
     "execution_count": 9,
     "metadata": {},
     "output_type": "execute_result"
    }
   ],
   "source": [
    "df.isnull().sum()\n"
   ]
  },
  {
   "cell_type": "markdown",
   "id": "a84b180a",
   "metadata": {
    "papermill": {
     "duration": 0.072863,
     "end_time": "2022-03-02T08:04:46.508584",
     "exception": false,
     "start_time": "2022-03-02T08:04:46.435721",
     "status": "completed"
    },
    "tags": []
   },
   "source": [
    "Here, we can see that there are no null values in the dataset. However, earlier we found that in the column there are \"0\" values. This might be the case for other columns as well. We have to take care of the \"0\" values. "
   ]
  },
  {
   "cell_type": "markdown",
   "id": "7f5c529a",
   "metadata": {
    "papermill": {
     "duration": 0.069826,
     "end_time": "2022-03-02T08:04:46.652235",
     "exception": false,
     "start_time": "2022-03-02T08:04:46.582409",
     "status": "completed"
    },
    "tags": []
   },
   "source": [
    "# 4. Handling columns with \"0\" values"
   ]
  },
  {
   "cell_type": "code",
   "execution_count": 10,
   "id": "5be66177",
   "metadata": {
    "execution": {
     "iopub.execute_input": "2022-03-02T08:04:46.799652Z",
     "iopub.status.busy": "2022-03-02T08:04:46.798918Z",
     "iopub.status.idle": "2022-03-02T08:04:46.807631Z",
     "shell.execute_reply": "2022-03-02T08:04:46.808155Z",
     "shell.execute_reply.started": "2022-03-02T08:03:55.560808Z"
    },
    "papermill": {
     "duration": 0.082038,
     "end_time": "2022-03-02T08:04:46.808307",
     "exception": false,
     "start_time": "2022-03-02T08:04:46.726269",
     "status": "completed"
    },
    "tags": []
   },
   "outputs": [
    {
     "name": "stdout",
     "output_type": "stream",
     "text": [
      "Pregnancies                 111\n",
      "Glucose                       5\n",
      "BloodPressure                35\n",
      "SkinThickness               227\n",
      "Insulin                     374\n",
      "BMI                          11\n",
      "DiabetesPedigreeFunction      0\n",
      "Age                           0\n",
      "Outcome                     500\n",
      "dtype: int64\n"
     ]
    }
   ],
   "source": [
    "print((df[df.columns] == 0).sum())"
   ]
  },
  {
   "cell_type": "markdown",
   "id": "653a8a3e",
   "metadata": {
    "papermill": {
     "duration": 0.048061,
     "end_time": "2022-03-02T08:04:46.903313",
     "exception": false,
     "start_time": "2022-03-02T08:04:46.855252",
     "status": "completed"
    },
    "tags": []
   },
   "source": [
    "We can not drop the \"0\" values because the dataset is small and has only 768 columns or cases.\n",
    "\n",
    "\"0\" Pregnancies are a real possibility so I'll work with all the other columns consisting of \"0\" values except the Pregnancies column. \n",
    "\n",
    "Now I'll replace all the \"0\" values with NaN/ Null values. "
   ]
  },
  {
   "cell_type": "code",
   "execution_count": 11,
   "id": "b6c91e0f",
   "metadata": {
    "execution": {
     "iopub.execute_input": "2022-03-02T08:04:46.998262Z",
     "iopub.status.busy": "2022-03-02T08:04:46.997709Z",
     "iopub.status.idle": "2022-03-02T08:04:47.007394Z",
     "shell.execute_reply": "2022-03-02T08:04:47.007885Z",
     "shell.execute_reply.started": "2022-03-02T08:03:55.575845Z"
    },
    "papermill": {
     "duration": 0.058444,
     "end_time": "2022-03-02T08:04:47.008054",
     "exception": false,
     "start_time": "2022-03-02T08:04:46.949610",
     "status": "completed"
    },
    "tags": []
   },
   "outputs": [],
   "source": [
    "df[['Glucose','BloodPressure','SkinThickness','Insulin','BMI']] = df[['Glucose','BloodPressure','SkinThickness','Insulin','BMI']].replace(0,np.NaN)"
   ]
  },
  {
   "cell_type": "code",
   "execution_count": 12,
   "id": "27943d40",
   "metadata": {
    "execution": {
     "iopub.execute_input": "2022-03-02T08:04:47.109350Z",
     "iopub.status.busy": "2022-03-02T08:04:47.108776Z",
     "iopub.status.idle": "2022-03-02T08:04:47.129472Z",
     "shell.execute_reply": "2022-03-02T08:04:47.130017Z",
     "shell.execute_reply.started": "2022-03-02T08:03:55.587302Z"
    },
    "papermill": {
     "duration": 0.075642,
     "end_time": "2022-03-02T08:04:47.130191",
     "exception": false,
     "start_time": "2022-03-02T08:04:47.054549",
     "status": "completed"
    },
    "tags": []
   },
   "outputs": [
    {
     "data": {
      "text/html": [
       "<div>\n",
       "<style scoped>\n",
       "    .dataframe tbody tr th:only-of-type {\n",
       "        vertical-align: middle;\n",
       "    }\n",
       "\n",
       "    .dataframe tbody tr th {\n",
       "        vertical-align: top;\n",
       "    }\n",
       "\n",
       "    .dataframe thead th {\n",
       "        text-align: right;\n",
       "    }\n",
       "</style>\n",
       "<table border=\"1\" class=\"dataframe\">\n",
       "  <thead>\n",
       "    <tr style=\"text-align: right;\">\n",
       "      <th></th>\n",
       "      <th>Pregnancies</th>\n",
       "      <th>Glucose</th>\n",
       "      <th>BloodPressure</th>\n",
       "      <th>SkinThickness</th>\n",
       "      <th>Insulin</th>\n",
       "      <th>BMI</th>\n",
       "      <th>DiabetesPedigreeFunction</th>\n",
       "      <th>Age</th>\n",
       "      <th>Outcome</th>\n",
       "    </tr>\n",
       "  </thead>\n",
       "  <tbody>\n",
       "    <tr>\n",
       "      <th>0</th>\n",
       "      <td>6</td>\n",
       "      <td>148.0</td>\n",
       "      <td>72.0</td>\n",
       "      <td>35.0</td>\n",
       "      <td>NaN</td>\n",
       "      <td>33.6</td>\n",
       "      <td>0.627</td>\n",
       "      <td>50</td>\n",
       "      <td>1</td>\n",
       "    </tr>\n",
       "    <tr>\n",
       "      <th>1</th>\n",
       "      <td>1</td>\n",
       "      <td>85.0</td>\n",
       "      <td>66.0</td>\n",
       "      <td>29.0</td>\n",
       "      <td>NaN</td>\n",
       "      <td>26.6</td>\n",
       "      <td>0.351</td>\n",
       "      <td>31</td>\n",
       "      <td>0</td>\n",
       "    </tr>\n",
       "    <tr>\n",
       "      <th>2</th>\n",
       "      <td>8</td>\n",
       "      <td>183.0</td>\n",
       "      <td>64.0</td>\n",
       "      <td>NaN</td>\n",
       "      <td>NaN</td>\n",
       "      <td>23.3</td>\n",
       "      <td>0.672</td>\n",
       "      <td>32</td>\n",
       "      <td>1</td>\n",
       "    </tr>\n",
       "    <tr>\n",
       "      <th>3</th>\n",
       "      <td>1</td>\n",
       "      <td>89.0</td>\n",
       "      <td>66.0</td>\n",
       "      <td>23.0</td>\n",
       "      <td>94.0</td>\n",
       "      <td>28.1</td>\n",
       "      <td>0.167</td>\n",
       "      <td>21</td>\n",
       "      <td>0</td>\n",
       "    </tr>\n",
       "    <tr>\n",
       "      <th>4</th>\n",
       "      <td>0</td>\n",
       "      <td>137.0</td>\n",
       "      <td>40.0</td>\n",
       "      <td>35.0</td>\n",
       "      <td>168.0</td>\n",
       "      <td>43.1</td>\n",
       "      <td>2.288</td>\n",
       "      <td>33</td>\n",
       "      <td>1</td>\n",
       "    </tr>\n",
       "  </tbody>\n",
       "</table>\n",
       "</div>"
      ],
      "text/plain": [
       "   Pregnancies  Glucose  BloodPressure  SkinThickness  Insulin   BMI  \\\n",
       "0            6    148.0           72.0           35.0      NaN  33.6   \n",
       "1            1     85.0           66.0           29.0      NaN  26.6   \n",
       "2            8    183.0           64.0            NaN      NaN  23.3   \n",
       "3            1     89.0           66.0           23.0     94.0  28.1   \n",
       "4            0    137.0           40.0           35.0    168.0  43.1   \n",
       "\n",
       "   DiabetesPedigreeFunction  Age  Outcome  \n",
       "0                     0.627   50        1  \n",
       "1                     0.351   31        0  \n",
       "2                     0.672   32        1  \n",
       "3                     0.167   21        0  \n",
       "4                     2.288   33        1  "
      ]
     },
     "execution_count": 12,
     "metadata": {},
     "output_type": "execute_result"
    }
   ],
   "source": [
    "df.head()"
   ]
  },
  {
   "cell_type": "code",
   "execution_count": 13,
   "id": "5c4aac6d",
   "metadata": {
    "execution": {
     "iopub.execute_input": "2022-03-02T08:04:47.228022Z",
     "iopub.status.busy": "2022-03-02T08:04:47.227374Z",
     "iopub.status.idle": "2022-03-02T08:04:47.237272Z",
     "shell.execute_reply": "2022-03-02T08:04:47.237753Z",
     "shell.execute_reply.started": "2022-03-02T08:03:55.608097Z"
    },
    "papermill": {
     "duration": 0.060013,
     "end_time": "2022-03-02T08:04:47.237931",
     "exception": false,
     "start_time": "2022-03-02T08:04:47.177918",
     "status": "completed"
    },
    "tags": []
   },
   "outputs": [
    {
     "data": {
      "text/plain": [
       "Pregnancies                   0\n",
       "Glucose                       5\n",
       "BloodPressure                35\n",
       "SkinThickness               227\n",
       "Insulin                     374\n",
       "BMI                          11\n",
       "DiabetesPedigreeFunction      0\n",
       "Age                           0\n",
       "Outcome                       0\n",
       "dtype: int64"
      ]
     },
     "execution_count": 13,
     "metadata": {},
     "output_type": "execute_result"
    }
   ],
   "source": [
    "df.isnull().sum()"
   ]
  },
  {
   "cell_type": "markdown",
   "id": "ed5a7ebb",
   "metadata": {
    "papermill": {
     "duration": 0.048411,
     "end_time": "2022-03-02T08:04:47.335226",
     "exception": false,
     "start_time": "2022-03-02T08:04:47.286815",
     "status": "completed"
    },
    "tags": []
   },
   "source": [
    "# 4.1 Handle: Glucose, BloodPressure, BMI"
   ]
  },
  {
   "cell_type": "markdown",
   "id": "b5f3f5a7",
   "metadata": {
    "papermill": {
     "duration": 0.047862,
     "end_time": "2022-03-02T08:04:47.433233",
     "exception": false,
     "start_time": "2022-03-02T08:04:47.385371",
     "status": "completed"
    },
    "tags": []
   },
   "source": [
    "Null values can be replaced by Mean/Median/Mode values. How to decide which value to replace Null values with?\n",
    "\n",
    "The mean of the numerical column data is used to replace null values when the data is normally distributed. Median is used if the data comprised of outliers. Mode is used when the data having more occurences of a particular value or more frequent value. [[ref](https://medium.com/bycodegarage/a-comprehensive-guide-on-handling-missing-values-b1257a4866d1#:~:text=The%20mean%20of%20the%20numerical%20column%20data%20is%20used%20to%20replace%20null%20values%20when%20the%20data%20is%20normally%20distributed.%20Median%20is%20used%20if%20the%20data%20comprised%20of%20outliers.%20Mode%20is%20used%20when%20the%20data%20having%20more%20occurences%20of%20a%20particular%20value%20or%20more%20frequent%20value.)]"
   ]
  },
  {
   "cell_type": "markdown",
   "id": "b65b41c2",
   "metadata": {
    "papermill": {
     "duration": 0.048,
     "end_time": "2022-03-02T08:04:47.532585",
     "exception": false,
     "start_time": "2022-03-02T08:04:47.484585",
     "status": "completed"
    },
    "tags": []
   },
   "source": [
    "# 4.1.1 Finding outliers: Glucose, BloodPressure, BMI"
   ]
  },
  {
   "cell_type": "code",
   "execution_count": 14,
   "id": "8351ae1e",
   "metadata": {
    "execution": {
     "iopub.execute_input": "2022-03-02T08:04:47.633063Z",
     "iopub.status.busy": "2022-03-02T08:04:47.632472Z",
     "iopub.status.idle": "2022-03-02T08:04:47.899130Z",
     "shell.execute_reply": "2022-03-02T08:04:47.898496Z",
     "shell.execute_reply.started": "2022-03-02T08:03:55.622534Z"
    },
    "papermill": {
     "duration": 0.317267,
     "end_time": "2022-03-02T08:04:47.899294",
     "exception": false,
     "start_time": "2022-03-02T08:04:47.582027",
     "status": "completed"
    },
    "tags": []
   },
   "outputs": [
    {
     "data": {
      "image/png": "[encoded data removed]",
      "text/plain": [
       "<Figure size 720x432 with 1 Axes>"
      ]
     },
     "metadata": {
      "needs_background": "light"
     },
     "output_type": "display_data"
    }
   ],
   "source": [
    "fig = plt.figure(figsize=(10,6))\n",
    "y = range(768)\n",
    "plt.scatter(df[\"BMI\"],y)\n",
    "plt.title(\"BMI\")\n",
    "plt.show()"
   ]
  },
  {
   "cell_type": "code",
   "execution_count": 15,
   "id": "71f12fcc",
   "metadata": {
    "execution": {
     "iopub.execute_input": "2022-03-02T08:04:48.075707Z",
     "iopub.status.busy": "2022-03-02T08:04:48.074587Z",
     "iopub.status.idle": "2022-03-02T08:04:48.340152Z",
     "shell.execute_reply": "2022-03-02T08:04:48.339360Z",
     "shell.execute_reply.started": "2022-03-02T08:03:55.880972Z"
    },
    "papermill": {
     "duration": 0.355995,
     "end_time": "2022-03-02T08:04:48.340323",
     "exception": false,
     "start_time": "2022-03-02T08:04:47.984328",
     "status": "completed"
    },
    "tags": []
   },
   "outputs": [
    {
     "data": {
      "image/png": "[encoded data removed]",
      "text/plain": [
       "<Figure size 720x432 with 1 Axes>"
      ]
     },
     "metadata": {
      "needs_background": "light"
     },
     "output_type": "display_data"
    }
   ],
   "source": [
    "fig = plt.figure(figsize=(10,6))\n",
    "y = range(768)\n",
    "plt.scatter(df[\"Glucose\"],y)\n",
    "plt.title(\"Glucose\")\n",
    "plt.show()"
   ]
  },
  {
   "cell_type": "code",
   "execution_count": 16,
   "id": "7ebe03c0",
   "metadata": {
    "execution": {
     "iopub.execute_input": "2022-03-02T08:04:48.529239Z",
     "iopub.status.busy": "2022-03-02T08:04:48.528411Z",
     "iopub.status.idle": "2022-03-02T08:04:48.738139Z",
     "shell.execute_reply": "2022-03-02T08:04:48.737490Z",
     "shell.execute_reply.started": "2022-03-02T08:03:56.062276Z"
    },
    "papermill": {
     "duration": 0.307705,
     "end_time": "2022-03-02T08:04:48.738307",
     "exception": false,
     "start_time": "2022-03-02T08:04:48.430602",
     "status": "completed"
    },
    "tags": []
   },
   "outputs": [
    {
     "data": {
      "image/png": "[encoded data removed]",
      "text/plain": [
       "<Figure size 720x432 with 1 Axes>"
      ]
     },
     "metadata": {
      "needs_background": "light"
     },
     "output_type": "display_data"
    }
   ],
   "source": [
    "fig = plt.figure(figsize=(10,6))\n",
    "y = range(768)\n",
    "plt.scatter(df[\"BloodPressure\"],y)\n",
    "plt.title(\"BloodPressure\")\n",
    "plt.show()"
   ]
  },
  {
   "cell_type": "markdown",
   "id": "3f49a06c",
   "metadata": {
    "papermill": {
     "duration": 0.079327,
     "end_time": "2022-03-02T08:04:48.905025",
     "exception": false,
     "start_time": "2022-03-02T08:04:48.825698",
     "status": "completed"
    },
    "tags": []
   },
   "source": [
    "We can see that there are outliers present in BMI,BloodPressure & Glucose columns. So, we'll replace the Null values with Median in all 3 columns. "
   ]
  },
  {
   "cell_type": "markdown",
   "id": "de781632",
   "metadata": {
    "papermill": {
     "duration": 0.07963,
     "end_time": "2022-03-02T08:04:49.062662",
     "exception": false,
     "start_time": "2022-03-02T08:04:48.983032",
     "status": "completed"
    },
    "tags": []
   },
   "source": [
    "# 4.1.2 Replace Values: Glucose, BloodPressure, BMI"
   ]
  },
  {
   "cell_type": "code",
   "execution_count": 17,
   "id": "04848e64",
   "metadata": {
    "execution": {
     "iopub.execute_input": "2022-03-02T08:04:49.229054Z",
     "iopub.status.busy": "2022-03-02T08:04:49.228211Z",
     "iopub.status.idle": "2022-03-02T08:04:49.236668Z",
     "shell.execute_reply": "2022-03-02T08:04:49.235974Z",
     "shell.execute_reply.started": "2022-03-02T08:03:56.226213Z"
    },
    "papermill": {
     "duration": 0.091833,
     "end_time": "2022-03-02T08:04:49.236841",
     "exception": false,
     "start_time": "2022-03-02T08:04:49.145008",
     "status": "completed"
    },
    "tags": []
   },
   "outputs": [],
   "source": [
    "df['Glucose'].fillna(df['Glucose'].median(), inplace =True)\n",
    "\n",
    "df['BloodPressure'].fillna(df['BloodPressure'].median(), inplace =True)\n",
    "\n",
    "df['BMI'].fillna(df['BMI'].median(), inplace =True)"
   ]
  },
  {
   "cell_type": "markdown",
   "id": "f8a468a7",
   "metadata": {
    "papermill": {
     "duration": 0.076071,
     "end_time": "2022-03-02T08:04:49.389330",
     "exception": false,
     "start_time": "2022-03-02T08:04:49.313259",
     "status": "completed"
    },
    "tags": []
   },
   "source": [
    "# 4.2 Handle: Insulin in respect to Glucose"
   ]
  },
  {
   "cell_type": "markdown",
   "id": "baf37e4c",
   "metadata": {
    "papermill": {
     "duration": 0.085946,
     "end_time": "2022-03-02T08:04:49.552411",
     "exception": false,
     "start_time": "2022-03-02T08:04:49.466465",
     "status": "completed"
    },
    "tags": []
   },
   "source": [
    "Insulin has an effect on a number of cells, including muscle, red blood cells, and fat cells. In response to insulin, these cells absorb glucose out of the blood, having the net effect of lowering the high blood glucose levels into the normal range. [[ref](https://www.google.com/search?q=insuling+and+glucose+corelation&oq=insuling+and+glucose+corelation&aqs=edge..69i57j0i8i13i30j0i390l4.11998j0j1&sourceid=chrome&ie=UTF-8#:~:text=insulin%20has%20an%20effect%20on%20a%20number%20of%20cells%2C%20including%20muscle%2C%20red%20blood%20cells%2C%20and%20fat%20cells.%20In%20response%20to%20insulin%2C%20these%20cells%20absorb%20glucose%20out%20of%20the%20blood%2C%20having%20the%20net%20effect%20of%20lowering%20the%20high%20blood%20glucose%20levels%20into%20the%20normal%20range.)]\n",
    "\n",
    "Since Insulin and Glucose are correlated, we'll handle Null values in Insulin column in respect to Glucose."
   ]
  },
  {
   "cell_type": "code",
   "execution_count": 18,
   "id": "7bb2b3d1",
   "metadata": {
    "execution": {
     "iopub.execute_input": "2022-03-02T08:04:49.728219Z",
     "iopub.status.busy": "2022-03-02T08:04:49.727388Z",
     "iopub.status.idle": "2022-03-02T08:04:49.785377Z",
     "shell.execute_reply": "2022-03-02T08:04:49.784640Z",
     "shell.execute_reply.started": "2022-03-02T08:03:56.233912Z"
    },
    "papermill": {
     "duration": 0.151861,
     "end_time": "2022-03-02T08:04:49.785574",
     "exception": false,
     "start_time": "2022-03-02T08:04:49.633713",
     "status": "completed"
    },
    "tags": []
   },
   "outputs": [],
   "source": [
    "by_Glucose_Age_Insulin_Grp = df.groupby(['Glucose'])\n",
    "\n",
    "def fill_Insulin(series):\n",
    "    return series.fillna(series.median())\n",
    "df['Insulin'] = by_Glucose_Age_Insulin_Grp['Insulin'].transform(fill_Insulin)"
   ]
  },
  {
   "cell_type": "code",
   "execution_count": 19,
   "id": "0a8faaf6",
   "metadata": {
    "execution": {
     "iopub.execute_input": "2022-03-02T08:04:49.950508Z",
     "iopub.status.busy": "2022-03-02T08:04:49.949714Z",
     "iopub.status.idle": "2022-03-02T08:04:49.952979Z",
     "shell.execute_reply": "2022-03-02T08:04:49.953593Z",
     "shell.execute_reply.started": "2022-03-02T08:03:56.287227Z"
    },
    "papermill": {
     "duration": 0.087234,
     "end_time": "2022-03-02T08:04:49.953794",
     "exception": false,
     "start_time": "2022-03-02T08:04:49.866560",
     "status": "completed"
    },
    "tags": []
   },
   "outputs": [],
   "source": [
    "df['Insulin'] = df['Insulin'].fillna(df['Insulin'].mean())"
   ]
  },
  {
   "cell_type": "markdown",
   "id": "2de8d57f",
   "metadata": {
    "papermill": {
     "duration": 0.079262,
     "end_time": "2022-03-02T08:04:50.108649",
     "exception": false,
     "start_time": "2022-03-02T08:04:50.029387",
     "status": "completed"
    },
    "tags": []
   },
   "source": [
    "# 4.3 Handle: Skinthickness in respect to BMI"
   ]
  },
  {
   "cell_type": "markdown",
   "id": "c8300b5e",
   "metadata": {
    "papermill": {
     "duration": 0.080146,
     "end_time": "2022-03-02T08:04:50.269955",
     "exception": false,
     "start_time": "2022-03-02T08:04:50.189809",
     "status": "completed"
    },
    "tags": []
   },
   "source": [
    "Skinfold thicknesses are more strongly associated with body fatness, as estimated by various reference methods, than is BMI (8–12). Because of these stronger associations with body fatness, it is frequently assumed that skinfold thicknesses would be better predictors of adverse health outcomes than BMI. [[ref](https://www.google.com/search?q=skin+thickeness+and+bmi+corelation&oq=skin+thickeness+and+bmi+corelation&aqs=edge..69i57.22834j0j9&sourceid=chrome&ie=UTF-8#:~:text=Skinfold%20thicknesses%20are,outcomes%20than%20BMI.)]\n",
    "\n",
    "Since Skinthickness and BMI are correlated, we'll handle Null values in Skinthickness column in respect to BMI."
   ]
  },
  {
   "cell_type": "code",
   "execution_count": 20,
   "id": "a1da9796",
   "metadata": {
    "execution": {
     "iopub.execute_input": "2022-03-02T08:04:50.437644Z",
     "iopub.status.busy": "2022-03-02T08:04:50.430691Z",
     "iopub.status.idle": "2022-03-02T08:04:50.492607Z",
     "shell.execute_reply": "2022-03-02T08:04:50.493197Z",
     "shell.execute_reply.started": "2022-03-02T08:03:56.294037Z"
    },
    "papermill": {
     "duration": 0.143308,
     "end_time": "2022-03-02T08:04:50.493417",
     "exception": false,
     "start_time": "2022-03-02T08:04:50.350109",
     "status": "completed"
    },
    "tags": []
   },
   "outputs": [],
   "source": [
    "by_BMI_Insulin = df.groupby(['BMI'])\n",
    "\n",
    "def fill_Skinthickness(series):\n",
    "    return series.fillna(series.mean())\n",
    "df['SkinThickness'] = by_BMI_Insulin['SkinThickness'].transform(fill_Skinthickness)"
   ]
  },
  {
   "cell_type": "code",
   "execution_count": 21,
   "id": "39aa1b2b",
   "metadata": {
    "execution": {
     "iopub.execute_input": "2022-03-02T08:04:50.656160Z",
     "iopub.status.busy": "2022-03-02T08:04:50.655264Z",
     "iopub.status.idle": "2022-03-02T08:04:50.659547Z",
     "shell.execute_reply": "2022-03-02T08:04:50.660066Z",
     "shell.execute_reply.started": "2022-03-02T08:03:56.368075Z"
    },
    "papermill": {
     "duration": 0.087049,
     "end_time": "2022-03-02T08:04:50.660253",
     "exception": false,
     "start_time": "2022-03-02T08:04:50.573204",
     "status": "completed"
    },
    "tags": []
   },
   "outputs": [],
   "source": [
    "df['SkinThickness'].fillna(df['SkinThickness'].mean(),inplace= True)"
   ]
  },
  {
   "cell_type": "code",
   "execution_count": 22,
   "id": "40ce7d06",
   "metadata": {
    "execution": {
     "iopub.execute_input": "2022-03-02T08:04:50.821074Z",
     "iopub.status.busy": "2022-03-02T08:04:50.820178Z",
     "iopub.status.idle": "2022-03-02T08:04:50.828486Z",
     "shell.execute_reply": "2022-03-02T08:04:50.829086Z",
     "shell.execute_reply.started": "2022-03-02T08:03:56.376262Z"
    },
    "papermill": {
     "duration": 0.092182,
     "end_time": "2022-03-02T08:04:50.829288",
     "exception": false,
     "start_time": "2022-03-02T08:04:50.737106",
     "status": "completed"
    },
    "tags": []
   },
   "outputs": [
    {
     "data": {
      "text/plain": [
       "Pregnancies                 0\n",
       "Glucose                     0\n",
       "BloodPressure               0\n",
       "SkinThickness               0\n",
       "Insulin                     0\n",
       "BMI                         0\n",
       "DiabetesPedigreeFunction    0\n",
       "Age                         0\n",
       "Outcome                     0\n",
       "dtype: int64"
      ]
     },
     "execution_count": 22,
     "metadata": {},
     "output_type": "execute_result"
    }
   ],
   "source": [
    "df.isnull().sum()"
   ]
  },
  {
   "cell_type": "markdown",
   "id": "d51d20bc",
   "metadata": {
    "papermill": {
     "duration": 0.076536,
     "end_time": "2022-03-02T08:04:50.987591",
     "exception": false,
     "start_time": "2022-03-02T08:04:50.911055",
     "status": "completed"
    },
    "tags": []
   },
   "source": [
    "**All the missing values have been replaced, there are no remaining missing values.**"
   ]
  },
  {
   "cell_type": "markdown",
   "id": "f9717389",
   "metadata": {
    "papermill": {
     "duration": 0.079523,
     "end_time": "2022-03-02T08:04:51.147689",
     "exception": false,
     "start_time": "2022-03-02T08:04:51.068166",
     "status": "completed"
    },
    "tags": []
   },
   "source": [
    "# 5. Visualization"
   ]
  },
  {
   "cell_type": "code",
   "execution_count": 23,
   "id": "6f7e1d14",
   "metadata": {
    "execution": {
     "iopub.execute_input": "2022-03-02T08:04:51.316353Z",
     "iopub.status.busy": "2022-03-02T08:04:51.315618Z",
     "iopub.status.idle": "2022-03-02T08:04:51.328497Z",
     "shell.execute_reply": "2022-03-02T08:04:51.327798Z",
     "shell.execute_reply.started": "2022-03-02T08:03:56.392601Z"
    },
    "papermill": {
     "duration": 0.096555,
     "end_time": "2022-03-02T08:04:51.328657",
     "exception": false,
     "start_time": "2022-03-02T08:04:51.232102",
     "status": "completed"
    },
    "tags": []
   },
   "outputs": [
    {
     "data": {
      "text/plain": [
       "99.0     17\n",
       "100.0    17\n",
       "117.0    16\n",
       "129.0    14\n",
       "125.0    14\n",
       "         ..\n",
       "191.0     1\n",
       "177.0     1\n",
       "44.0      1\n",
       "62.0      1\n",
       "190.0     1\n",
       "Name: Glucose, Length: 135, dtype: int64"
      ]
     },
     "execution_count": 23,
     "metadata": {},
     "output_type": "execute_result"
    }
   ],
   "source": [
    "df[\"Glucose\"].value_counts()"
   ]
  },
  {
   "cell_type": "code",
   "execution_count": 24,
   "id": "d6a4e2c0",
   "metadata": {
    "execution": {
     "iopub.execute_input": "2022-03-02T08:04:51.491539Z",
     "iopub.status.busy": "2022-03-02T08:04:51.490339Z",
     "iopub.status.idle": "2022-03-02T08:04:51.500499Z",
     "shell.execute_reply": "2022-03-02T08:04:51.501123Z",
     "shell.execute_reply.started": "2022-03-02T08:03:56.415273Z"
    },
    "papermill": {
     "duration": 0.093409,
     "end_time": "2022-03-02T08:04:51.501378",
     "exception": false,
     "start_time": "2022-03-02T08:04:51.407969",
     "status": "completed"
    },
    "tags": []
   },
   "outputs": [
    {
     "data": {
      "text/plain": [
       "22    72\n",
       "21    63\n",
       "25    48\n",
       "24    46\n",
       "23    38\n",
       "28    35\n",
       "26    33\n",
       "27    32\n",
       "29    29\n",
       "31    24\n",
       "41    22\n",
       "30    21\n",
       "37    19\n",
       "42    18\n",
       "33    17\n",
       "38    16\n",
       "36    16\n",
       "32    16\n",
       "45    15\n",
       "34    14\n",
       "46    13\n",
       "43    13\n",
       "40    13\n",
       "39    12\n",
       "35    10\n",
       "50     8\n",
       "51     8\n",
       "52     8\n",
       "44     8\n",
       "58     7\n",
       "47     6\n",
       "54     6\n",
       "49     5\n",
       "48     5\n",
       "57     5\n",
       "53     5\n",
       "60     5\n",
       "66     4\n",
       "63     4\n",
       "62     4\n",
       "55     4\n",
       "67     3\n",
       "56     3\n",
       "59     3\n",
       "65     3\n",
       "69     2\n",
       "61     2\n",
       "72     1\n",
       "81     1\n",
       "64     1\n",
       "70     1\n",
       "68     1\n",
       "Name: Age, dtype: int64"
      ]
     },
     "execution_count": 24,
     "metadata": {},
     "output_type": "execute_result"
    }
   ],
   "source": [
    "df[\"Age\"].value_counts()"
   ]
  },
  {
   "cell_type": "code",
   "execution_count": 25,
   "id": "f3e7b1c1",
   "metadata": {
    "execution": {
     "iopub.execute_input": "2022-03-02T08:04:51.674345Z",
     "iopub.status.busy": "2022-03-02T08:04:51.673517Z",
     "iopub.status.idle": "2022-03-02T08:04:51.798665Z",
     "shell.execute_reply": "2022-03-02T08:04:51.796268Z",
     "shell.execute_reply.started": "2022-03-02T08:03:56.426014Z"
    },
    "papermill": {
     "duration": 0.214897,
     "end_time": "2022-03-02T08:04:51.798988",
     "exception": false,
     "start_time": "2022-03-02T08:04:51.584091",
     "status": "completed"
    },
    "tags": []
   },
   "outputs": [
    {
     "data": {
      "text/plain": [
       "array([<AxesSubplot:ylabel='Outcome'>], dtype=object)"
      ]
     },
     "execution_count": 25,
     "metadata": {},
     "output_type": "execute_result"
    },
    {
     "data": {
      "image/png": "[encoded data removed]",
      "text/plain": [
       "<Figure size 432x288 with 1 Axes>"
      ]
     },
     "metadata": {},
     "output_type": "display_data"
    }
   ],
   "source": [
    "labels = [\"Healthy\", \"Diabetic\"]\n",
    "\n",
    "df[\"Outcome\"].value_counts().plot(kind=\"pie\",labels=labels,subplots=True,autopct='%1.0f%%')"
   ]
  },
  {
   "cell_type": "code",
   "execution_count": 26,
   "id": "9d5b5b65",
   "metadata": {
    "execution": {
     "iopub.execute_input": "2022-03-02T08:04:51.991503Z",
     "iopub.status.busy": "2022-03-02T08:04:51.990487Z",
     "iopub.status.idle": "2022-03-02T08:04:52.341519Z",
     "shell.execute_reply": "2022-03-02T08:04:52.342121Z",
     "shell.execute_reply.started": "2022-03-02T08:03:56.539111Z"
    },
    "papermill": {
     "duration": 0.435366,
     "end_time": "2022-03-02T08:04:52.342320",
     "exception": false,
     "start_time": "2022-03-02T08:04:51.906954",
     "status": "completed"
    },
    "tags": []
   },
   "outputs": [
    {
     "data": {
      "image/png": "[encoded data removed]",
      "text/plain": [
       "<Figure size 432x432 with 1 Axes>"
      ]
     },
     "metadata": {
      "needs_background": "light"
     },
     "output_type": "display_data"
    }
   ],
   "source": [
    "y = df[\"Pregnancies\"].value_counts()\n",
    "plt.figure(figsize = (6,6))\n",
    "sns.barplot(x='Pregnancies', y= y, data=df)\n",
    "plt.show()"
   ]
  },
  {
   "cell_type": "code",
   "execution_count": 27,
   "id": "05b14c87",
   "metadata": {
    "execution": {
     "iopub.execute_input": "2022-03-02T08:04:52.503935Z",
     "iopub.status.busy": "2022-03-02T08:04:52.503134Z",
     "iopub.status.idle": "2022-03-02T08:04:52.700395Z",
     "shell.execute_reply": "2022-03-02T08:04:52.700968Z",
     "shell.execute_reply.started": "2022-03-02T08:03:56.949144Z"
    },
    "papermill": {
     "duration": 0.279525,
     "end_time": "2022-03-02T08:04:52.701195",
     "exception": false,
     "start_time": "2022-03-02T08:04:52.421670",
     "status": "completed"
    },
    "tags": []
   },
   "outputs": [
    {
     "data": {
      "image/png": "[encoded data removed]",
      "text/plain": [
       "<Figure size 432x288 with 1 Axes>"
      ]
     },
     "metadata": {
      "needs_background": "light"
     },
     "output_type": "display_data"
    }
   ],
   "source": [
    "Pregnancies1=df['Pregnancies'].dropna()\n",
    "sns.distplot(Pregnancies1)         \n",
    "plt.show()"
   ]
  },
  {
   "cell_type": "code",
   "execution_count": 28,
   "id": "84acc48b",
   "metadata": {
    "execution": {
     "iopub.execute_input": "2022-03-02T08:04:52.870861Z",
     "iopub.status.busy": "2022-03-02T08:04:52.869850Z",
     "iopub.status.idle": "2022-03-02T08:04:53.109819Z",
     "shell.execute_reply": "2022-03-02T08:04:53.109025Z",
     "shell.execute_reply.started": "2022-03-02T08:03:57.139706Z"
    },
    "papermill": {
     "duration": 0.326288,
     "end_time": "2022-03-02T08:04:53.110007",
     "exception": false,
     "start_time": "2022-03-02T08:04:52.783719",
     "status": "completed"
    },
    "tags": []
   },
   "outputs": [
    {
     "data": {
      "image/png": "[encoded data removed]",
      "text/plain": [
       "<Figure size 432x288 with 1 Axes>"
      ]
     },
     "metadata": {
      "needs_background": "light"
     },
     "output_type": "display_data"
    }
   ],
   "source": [
    "Glucose1=df['Glucose'].dropna()\n",
    "sns.distplot(Glucose1)         \n",
    "plt.show()"
   ]
  },
  {
   "cell_type": "code",
   "execution_count": 29,
   "id": "75244cbc",
   "metadata": {
    "execution": {
     "iopub.execute_input": "2022-03-02T08:04:53.302074Z",
     "iopub.status.busy": "2022-03-02T08:04:53.298280Z",
     "iopub.status.idle": "2022-03-02T08:04:53.512417Z",
     "shell.execute_reply": "2022-03-02T08:04:53.511844Z",
     "shell.execute_reply.started": "2022-03-02T08:03:57.414456Z"
    },
    "papermill": {
     "duration": 0.317485,
     "end_time": "2022-03-02T08:04:53.512592",
     "exception": false,
     "start_time": "2022-03-02T08:04:53.195107",
     "status": "completed"
    },
    "tags": []
   },
   "outputs": [
    {
     "data": {
      "image/png": "[encoded data removed]",
      "text/plain": [
       "<Figure size 432x288 with 1 Axes>"
      ]
     },
     "metadata": {
      "needs_background": "light"
     },
     "output_type": "display_data"
    }
   ],
   "source": [
    "BloodPressure1 =df['BloodPressure'].dropna()\n",
    "sns.distplot(BloodPressure1)         \n",
    "plt.show()"
   ]
  },
  {
   "cell_type": "code",
   "execution_count": 30,
   "id": "d1df92f9",
   "metadata": {
    "execution": {
     "iopub.execute_input": "2022-03-02T08:04:53.725526Z",
     "iopub.status.busy": "2022-03-02T08:04:53.718944Z",
     "iopub.status.idle": "2022-03-02T08:04:53.952913Z",
     "shell.execute_reply": "2022-03-02T08:04:53.952062Z",
     "shell.execute_reply.started": "2022-03-02T08:03:57.663903Z"
    },
    "papermill": {
     "duration": 0.350413,
     "end_time": "2022-03-02T08:04:53.953079",
     "exception": false,
     "start_time": "2022-03-02T08:04:53.602666",
     "status": "completed"
    },
    "tags": []
   },
   "outputs": [
    {
     "data": {
      "image/png": "[encoded data removed]",
      "text/plain": [
       "<Figure size 432x288 with 1 Axes>"
      ]
     },
     "metadata": {
      "needs_background": "light"
     },
     "output_type": "display_data"
    }
   ],
   "source": [
    "SkinThickness1 =df['SkinThickness'].dropna()\n",
    "sns.distplot(SkinThickness1)         \n",
    "plt.show()"
   ]
  },
  {
   "cell_type": "code",
   "execution_count": 31,
   "id": "251cad88",
   "metadata": {
    "execution": {
     "iopub.execute_input": "2022-03-02T08:04:54.137147Z",
     "iopub.status.busy": "2022-03-02T08:04:54.136248Z",
     "iopub.status.idle": "2022-03-02T08:04:54.543674Z",
     "shell.execute_reply": "2022-03-02T08:04:54.542525Z",
     "shell.execute_reply.started": "2022-03-02T08:03:57.929773Z"
    },
    "papermill": {
     "duration": 0.500045,
     "end_time": "2022-03-02T08:04:54.543924",
     "exception": false,
     "start_time": "2022-03-02T08:04:54.043879",
     "status": "completed"
    },
    "tags": []
   },
   "outputs": [
    {
     "data": {
      "image/png": "[encoded data removed]",
      "text/plain": [
       "<Figure size 432x288 with 1 Axes>"
      ]
     },
     "metadata": {
      "needs_background": "light"
     },
     "output_type": "display_data"
    }
   ],
   "source": [
    "Insulin1 =df['Insulin'].dropna()\n",
    "sns.distplot(Insulin1)         \n",
    "plt.show()"
   ]
  },
  {
   "cell_type": "code",
   "execution_count": 32,
   "id": "44a45617",
   "metadata": {
    "execution": {
     "iopub.execute_input": "2022-03-02T08:04:54.802707Z",
     "iopub.status.busy": "2022-03-02T08:04:54.801832Z",
     "iopub.status.idle": "2022-03-02T08:04:55.147398Z",
     "shell.execute_reply": "2022-03-02T08:04:55.148109Z",
     "shell.execute_reply.started": "2022-03-02T08:03:58.337036Z"
    },
    "papermill": {
     "duration": 0.501199,
     "end_time": "2022-03-02T08:04:55.148322",
     "exception": false,
     "start_time": "2022-03-02T08:04:54.647123",
     "status": "completed"
    },
    "tags": []
   },
   "outputs": [
    {
     "data": {
      "image/png": "[encoded data removed]",
      "text/plain": [
       "<Figure size 432x288 with 1 Axes>"
      ]
     },
     "metadata": {
      "needs_background": "light"
     },
     "output_type": "display_data"
    }
   ],
   "source": [
    "BMI1 =df['BMI'].dropna()\n",
    "sns.distplot(BMI1)         \n",
    "plt.show()"
   ]
  },
  {
   "cell_type": "code",
   "execution_count": 33,
   "id": "b5e5eba1",
   "metadata": {
    "execution": {
     "iopub.execute_input": "2022-03-02T08:04:55.352010Z",
     "iopub.status.busy": "2022-03-02T08:04:55.348399Z",
     "iopub.status.idle": "2022-03-02T08:04:55.612574Z",
     "shell.execute_reply": "2022-03-02T08:04:55.613245Z",
     "shell.execute_reply.started": "2022-03-02T08:03:58.586603Z"
    },
    "papermill": {
     "duration": 0.368159,
     "end_time": "2022-03-02T08:04:55.613485",
     "exception": false,
     "start_time": "2022-03-02T08:04:55.245326",
     "status": "completed"
    },
    "tags": []
   },
   "outputs": [
    {
     "data": {
      "image/png": "[encoded data removed]",
      "text/plain": [
       "<Figure size 432x288 with 1 Axes>"
      ]
     },
     "metadata": {
      "needs_background": "light"
     },
     "output_type": "display_data"
    }
   ],
   "source": [
    "DiabetesPedigreeFunction1 =df['DiabetesPedigreeFunction'].dropna()\n",
    "sns.distplot(DiabetesPedigreeFunction1)         \n",
    "plt.show()"
   ]
  },
  {
   "cell_type": "code",
   "execution_count": 34,
   "id": "5a95e341",
   "metadata": {
    "execution": {
     "iopub.execute_input": "2022-03-02T08:04:55.821827Z",
     "iopub.status.busy": "2022-03-02T08:04:55.803364Z",
     "iopub.status.idle": "2022-03-02T08:04:56.059076Z",
     "shell.execute_reply": "2022-03-02T08:04:56.058079Z",
     "shell.execute_reply.started": "2022-03-02T08:03:58.831810Z"
    },
    "papermill": {
     "duration": 0.341353,
     "end_time": "2022-03-02T08:04:56.059249",
     "exception": false,
     "start_time": "2022-03-02T08:04:55.717896",
     "status": "completed"
    },
    "tags": []
   },
   "outputs": [
    {
     "data": {
      "image/png": "[encoded data removed]",
      "text/plain": [
       "<Figure size 432x288 with 1 Axes>"
      ]
     },
     "metadata": {
      "needs_background": "light"
     },
     "output_type": "display_data"
    }
   ],
   "source": [
    "Age1 =df['Age'].dropna()\n",
    "sns.distplot(Age1)         \n",
    "plt.show()"
   ]
  },
  {
   "cell_type": "markdown",
   "id": "da5ea54d",
   "metadata": {
    "papermill": {
     "duration": 0.068907,
     "end_time": "2022-03-02T08:04:56.193721",
     "exception": false,
     "start_time": "2022-03-02T08:04:56.124814",
     "status": "completed"
    },
    "tags": []
   },
   "source": [
    "# 6. Courtesy\n",
    "\n",
    "Courtesy to HARSH JAIN's notebook: https://www.kaggle.com/harshjain123/diabetes-eda-model"
   ]
  }
 ],
 "metadata": {
  "kernelspec": {
   "display_name": "Python 3",
   "language": "python",
   "name": "python3"
  },
  "language_info": {
   "codemirror_mode": {
    "name": "ipython",
    "version": 3
   },
   "file_extension": ".py",
   "mimetype": "text/x-python",
   "name": "python",
   "nbconvert_exporter": "python",
   "pygments_lexer": "ipython3",
   "version": "3.7.12"
  },
  "papermill": {
   "default_parameters": {},
   "duration": 29.275088,
   "end_time": "2022-03-02T08:04:57.376135",
   "environment_variables": {},
   "exception": null,
   "input_path": "__notebook__.ipynb",
   "output_path": "__notebook__.ipynb",
   "parameters": {},
   "start_time": "2022-03-02T08:04:28.101047",
   "version": "2.3.3"
  }
 },
 "nbformat": 4,
 "nbformat_minor": 5
}
