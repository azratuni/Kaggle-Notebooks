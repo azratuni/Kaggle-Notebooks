{
 "cells": [
  {
   "cell_type": "markdown",
   "id": "07dea59f",
   "metadata": {
    "papermill": {
     "duration": 0.080926,
     "end_time": "2022-02-25T16:06:19.967269",
     "exception": false,
     "start_time": "2022-02-25T16:06:19.886343",
     "status": "completed"
    },
    "tags": []
   },
   "source": [
    "# Titanic ML Prediction - Decision Tree\n",
    "\n",
    "This is my first competition notebook on Kaggle. Hope it will be the start of many more to come.\n",
    "\n",
    "I will predict the survival of passengers using Decision Tree algoritm. \n",
    "\n",
    "NB (version 2): It still has some code snippets from v1 so it's very unorganized plus I didn't try the pruning part of Decision Tree. Hope to fix these issues in the next version."
   ]
  },
  {
   "cell_type": "markdown",
   "id": "933ad8f7",
   "metadata": {
    "papermill": {
     "duration": 0.080918,
     "end_time": "2022-02-25T16:06:20.129068",
     "exception": false,
     "start_time": "2022-02-25T16:06:20.048150",
     "status": "completed"
    },
    "tags": []
   },
   "source": [
    "Courtesy to @aysenurozkann 's notebook: https://www.kaggle.com/aysenurozkann/titanic-decisiontreeclassifier/notebook"
   ]
  },
  {
   "cell_type": "code",
   "execution_count": 1,
   "id": "a93acdaf",
   "metadata": {
    "_cell_guid": "b1076dfc-b9ad-4769-8c92-a6c4dae69d19",
    "_uuid": "8f2839f25d086af736a60e9eeb907d3b93b6e0e5",
    "execution": {
     "iopub.execute_input": "2022-02-25T16:06:20.293687Z",
     "iopub.status.busy": "2022-02-25T16:06:20.291944Z",
     "iopub.status.idle": "2022-02-25T16:06:21.394798Z",
     "shell.execute_reply": "2022-02-25T16:06:21.395303Z",
     "shell.execute_reply.started": "2022-02-25T16:03:14.105867Z"
    },
    "papermill": {
     "duration": 1.187509,
     "end_time": "2022-02-25T16:06:21.395582",
     "exception": false,
     "start_time": "2022-02-25T16:06:20.208073",
     "status": "completed"
    },
    "tags": []
   },
   "outputs": [
    {
     "name": "stdout",
     "output_type": "stream",
     "text": [
      "/kaggle/input/titanic/train.csv\n",
      "/kaggle/input/titanic/test.csv\n",
      "/kaggle/input/titanic/gender_submission.csv\n"
     ]
    }
   ],
   "source": [
    "import numpy as np\n",
    "import pandas as pd\n",
    "import seaborn as sns \n",
    "import matplotlib.pyplot as plt\n",
    "from sklearn.preprocessing import LabelEncoder\n",
    "\n",
    "import os\n",
    "for dirname, _, filenames in os.walk('/kaggle/input'):\n",
    "    for filename in filenames:\n",
    "        print(os.path.join(dirname, filename))\n",
    "\n",
    "        \n",
    "import warnings\n",
    "warnings.simplefilter(\"ignore\")"
   ]
  },
  {
   "cell_type": "markdown",
   "id": "9af851af",
   "metadata": {
    "papermill": {
     "duration": 0.079493,
     "end_time": "2022-02-25T16:06:21.555228",
     "exception": false,
     "start_time": "2022-02-25T16:06:21.475735",
     "status": "completed"
    },
    "tags": []
   },
   "source": [
    "**Import train and test data**"
   ]
  },
  {
   "cell_type": "code",
   "execution_count": 2,
   "id": "f8d2f0fc",
   "metadata": {
    "execution": {
     "iopub.execute_input": "2022-02-25T16:06:21.718956Z",
     "iopub.status.busy": "2022-02-25T16:06:21.718037Z",
     "iopub.status.idle": "2022-02-25T16:06:21.748569Z",
     "shell.execute_reply": "2022-02-25T16:06:21.748024Z",
     "shell.execute_reply.started": "2022-02-25T16:03:14.125890Z"
    },
    "papermill": {
     "duration": 0.113613,
     "end_time": "2022-02-25T16:06:21.748702",
     "exception": false,
     "start_time": "2022-02-25T16:06:21.635089",
     "status": "completed"
    },
    "tags": []
   },
   "outputs": [],
   "source": [
    "train = pd.read_csv('/kaggle/input/titanic/train.csv')\n",
    "test = pd.read_csv('/kaggle/input/titanic/test.csv')"
   ]
  },
  {
   "cell_type": "markdown",
   "id": "ad7f6b3f",
   "metadata": {
    "papermill": {
     "duration": 0.080353,
     "end_time": "2022-02-25T16:06:21.910227",
     "exception": false,
     "start_time": "2022-02-25T16:06:21.829874",
     "status": "completed"
    },
    "tags": []
   },
   "source": [
    "# Planning\n",
    "This is just an outline of the things I want to look at before I start working with the ML model.\n",
    "\n",
    "* data.shape, head(), tail(), info(), describe(), value_counts()\n",
    "* histogram\n",
    "* missing values\n",
    "* correlation between features"
   ]
  },
  {
   "cell_type": "code",
   "execution_count": 3,
   "id": "e917bf85",
   "metadata": {
    "execution": {
     "iopub.execute_input": "2022-02-25T16:06:22.083639Z",
     "iopub.status.busy": "2022-02-25T16:06:22.082657Z",
     "iopub.status.idle": "2022-02-25T16:06:22.100827Z",
     "shell.execute_reply": "2022-02-25T16:06:22.101333Z",
     "shell.execute_reply.started": "2022-02-25T16:03:14.147160Z"
    },
    "papermill": {
     "duration": 0.109559,
     "end_time": "2022-02-25T16:06:22.101492",
     "exception": false,
     "start_time": "2022-02-25T16:06:21.991933",
     "status": "completed"
    },
    "tags": []
   },
   "outputs": [
    {
     "name": "stdout",
     "output_type": "stream",
     "text": [
      "<class 'pandas.core.frame.DataFrame'>\n",
      "RangeIndex: 891 entries, 0 to 890\n",
      "Data columns (total 12 columns):\n",
      " #   Column       Non-Null Count  Dtype  \n",
      "---  ------       --------------  -----  \n",
      " 0   PassengerId  891 non-null    int64  \n",
      " 1   Survived     891 non-null    int64  \n",
      " 2   Pclass       891 non-null    int64  \n",
      " 3   Name         891 non-null    object \n",
      " 4   Sex          891 non-null    object \n",
      " 5   Age          714 non-null    float64\n",
      " 6   SibSp        891 non-null    int64  \n",
      " 7   Parch        891 non-null    int64  \n",
      " 8   Ticket       891 non-null    object \n",
      " 9   Fare         891 non-null    float64\n",
      " 10  Cabin        204 non-null    object \n",
      " 11  Embarked     889 non-null    object \n",
      "dtypes: float64(2), int64(5), object(5)\n",
      "memory usage: 83.7+ KB\n"
     ]
    }
   ],
   "source": [
    "train.info()"
   ]
  },
  {
   "cell_type": "code",
   "execution_count": 4,
   "id": "38d94893",
   "metadata": {
    "execution": {
     "iopub.execute_input": "2022-02-25T16:06:22.267938Z",
     "iopub.status.busy": "2022-02-25T16:06:22.266963Z",
     "iopub.status.idle": "2022-02-25T16:06:22.302837Z",
     "shell.execute_reply": "2022-02-25T16:06:22.303268Z",
     "shell.execute_reply.started": "2022-02-25T16:03:14.165125Z"
    },
    "papermill": {
     "duration": 0.120727,
     "end_time": "2022-02-25T16:06:22.303433",
     "exception": false,
     "start_time": "2022-02-25T16:06:22.182706",
     "status": "completed"
    },
    "tags": []
   },
   "outputs": [
    {
     "data": {
      "text/html": [
       "<div>\n",
       "<style scoped>\n",
       "    .dataframe tbody tr th:only-of-type {\n",
       "        vertical-align: middle;\n",
       "    }\n",
       "\n",
       "    .dataframe tbody tr th {\n",
       "        vertical-align: top;\n",
       "    }\n",
       "\n",
       "    .dataframe thead th {\n",
       "        text-align: right;\n",
       "    }\n",
       "</style>\n",
       "<table border=\"1\" class=\"dataframe\">\n",
       "  <thead>\n",
       "    <tr style=\"text-align: right;\">\n",
       "      <th></th>\n",
       "      <th>PassengerId</th>\n",
       "      <th>Survived</th>\n",
       "      <th>Pclass</th>\n",
       "      <th>Age</th>\n",
       "      <th>SibSp</th>\n",
       "      <th>Parch</th>\n",
       "      <th>Fare</th>\n",
       "    </tr>\n",
       "  </thead>\n",
       "  <tbody>\n",
       "    <tr>\n",
       "      <th>count</th>\n",
       "      <td>891.000000</td>\n",
       "      <td>891.000000</td>\n",
       "      <td>891.000000</td>\n",
       "      <td>714.000000</td>\n",
       "      <td>891.000000</td>\n",
       "      <td>891.000000</td>\n",
       "      <td>891.000000</td>\n",
       "    </tr>\n",
       "    <tr>\n",
       "      <th>mean</th>\n",
       "      <td>446.000000</td>\n",
       "      <td>0.383838</td>\n",
       "      <td>2.308642</td>\n",
       "      <td>29.699118</td>\n",
       "      <td>0.523008</td>\n",
       "      <td>0.381594</td>\n",
       "      <td>32.204208</td>\n",
       "    </tr>\n",
       "    <tr>\n",
       "      <th>std</th>\n",
       "      <td>257.353842</td>\n",
       "      <td>0.486592</td>\n",
       "      <td>0.836071</td>\n",
       "      <td>14.526497</td>\n",
       "      <td>1.102743</td>\n",
       "      <td>0.806057</td>\n",
       "      <td>49.693429</td>\n",
       "    </tr>\n",
       "    <tr>\n",
       "      <th>min</th>\n",
       "      <td>1.000000</td>\n",
       "      <td>0.000000</td>\n",
       "      <td>1.000000</td>\n",
       "      <td>0.420000</td>\n",
       "      <td>0.000000</td>\n",
       "      <td>0.000000</td>\n",
       "      <td>0.000000</td>\n",
       "    </tr>\n",
       "    <tr>\n",
       "      <th>25%</th>\n",
       "      <td>223.500000</td>\n",
       "      <td>0.000000</td>\n",
       "      <td>2.000000</td>\n",
       "      <td>20.125000</td>\n",
       "      <td>0.000000</td>\n",
       "      <td>0.000000</td>\n",
       "      <td>7.910400</td>\n",
       "    </tr>\n",
       "    <tr>\n",
       "      <th>50%</th>\n",
       "      <td>446.000000</td>\n",
       "      <td>0.000000</td>\n",
       "      <td>3.000000</td>\n",
       "      <td>28.000000</td>\n",
       "      <td>0.000000</td>\n",
       "      <td>0.000000</td>\n",
       "      <td>14.454200</td>\n",
       "    </tr>\n",
       "    <tr>\n",
       "      <th>75%</th>\n",
       "      <td>668.500000</td>\n",
       "      <td>1.000000</td>\n",
       "      <td>3.000000</td>\n",
       "      <td>38.000000</td>\n",
       "      <td>1.000000</td>\n",
       "      <td>0.000000</td>\n",
       "      <td>31.000000</td>\n",
       "    </tr>\n",
       "    <tr>\n",
       "      <th>max</th>\n",
       "      <td>891.000000</td>\n",
       "      <td>1.000000</td>\n",
       "      <td>3.000000</td>\n",
       "      <td>80.000000</td>\n",
       "      <td>8.000000</td>\n",
       "      <td>6.000000</td>\n",
       "      <td>512.329200</td>\n",
       "    </tr>\n",
       "  </tbody>\n",
       "</table>\n",
       "</div>"
      ],
      "text/plain": [
       "       PassengerId    Survived      Pclass         Age       SibSp  \\\n",
       "count   891.000000  891.000000  891.000000  714.000000  891.000000   \n",
       "mean    446.000000    0.383838    2.308642   29.699118    0.523008   \n",
       "std     257.353842    0.486592    0.836071   14.526497    1.102743   \n",
       "min       1.000000    0.000000    1.000000    0.420000    0.000000   \n",
       "25%     223.500000    0.000000    2.000000   20.125000    0.000000   \n",
       "50%     446.000000    0.000000    3.000000   28.000000    0.000000   \n",
       "75%     668.500000    1.000000    3.000000   38.000000    1.000000   \n",
       "max     891.000000    1.000000    3.000000   80.000000    8.000000   \n",
       "\n",
       "            Parch        Fare  \n",
       "count  891.000000  891.000000  \n",
       "mean     0.381594   32.204208  \n",
       "std      0.806057   49.693429  \n",
       "min      0.000000    0.000000  \n",
       "25%      0.000000    7.910400  \n",
       "50%      0.000000   14.454200  \n",
       "75%      0.000000   31.000000  \n",
       "max      6.000000  512.329200  "
      ]
     },
     "execution_count": 4,
     "metadata": {},
     "output_type": "execute_result"
    }
   ],
   "source": [
    "train.describe()"
   ]
  },
  {
   "cell_type": "code",
   "execution_count": 5,
   "id": "041718c3",
   "metadata": {
    "execution": {
     "iopub.execute_input": "2022-02-25T16:06:22.471459Z",
     "iopub.status.busy": "2022-02-25T16:06:22.470556Z",
     "iopub.status.idle": "2022-02-25T16:06:22.490258Z",
     "shell.execute_reply": "2022-02-25T16:06:22.490708Z",
     "shell.execute_reply.started": "2022-02-25T16:03:14.208219Z"
    },
    "papermill": {
     "duration": 0.105194,
     "end_time": "2022-02-25T16:06:22.490915",
     "exception": false,
     "start_time": "2022-02-25T16:06:22.385721",
     "status": "completed"
    },
    "tags": []
   },
   "outputs": [
    {
     "data": {
      "text/plain": [
       "Index(['PassengerId', 'Survived', 'Pclass', 'Age', 'SibSp', 'Parch', 'Fare'], dtype='object')"
      ]
     },
     "execution_count": 5,
     "metadata": {},
     "output_type": "execute_result"
    }
   ],
   "source": [
    "train.describe().columns"
   ]
  },
  {
   "cell_type": "code",
   "execution_count": 6,
   "id": "d7bf6291",
   "metadata": {
    "execution": {
     "iopub.execute_input": "2022-02-25T16:06:22.655728Z",
     "iopub.status.busy": "2022-02-25T16:06:22.654790Z",
     "iopub.status.idle": "2022-02-25T16:06:22.672203Z",
     "shell.execute_reply": "2022-02-25T16:06:22.672667Z",
     "shell.execute_reply.started": "2022-02-25T16:03:14.239710Z"
    },
    "papermill": {
     "duration": 0.101182,
     "end_time": "2022-02-25T16:06:22.672838",
     "exception": false,
     "start_time": "2022-02-25T16:06:22.571656",
     "status": "completed"
    },
    "tags": []
   },
   "outputs": [
    {
     "data": {
      "text/plain": [
       "Index(['PassengerId', 'Pclass', 'Age', 'SibSp', 'Parch', 'Fare'], dtype='object')"
      ]
     },
     "execution_count": 6,
     "metadata": {},
     "output_type": "execute_result"
    }
   ],
   "source": [
    "test.describe().columns"
   ]
  },
  {
   "cell_type": "code",
   "execution_count": 7,
   "id": "82b4912a",
   "metadata": {
    "execution": {
     "iopub.execute_input": "2022-02-25T16:06:22.840415Z",
     "iopub.status.busy": "2022-02-25T16:06:22.839239Z",
     "iopub.status.idle": "2022-02-25T16:06:22.845081Z",
     "shell.execute_reply": "2022-02-25T16:06:22.845541Z",
     "shell.execute_reply.started": "2022-02-25T16:03:14.268046Z"
    },
    "papermill": {
     "duration": 0.091911,
     "end_time": "2022-02-25T16:06:22.845714",
     "exception": false,
     "start_time": "2022-02-25T16:06:22.753803",
     "status": "completed"
    },
    "tags": []
   },
   "outputs": [
    {
     "data": {
      "text/plain": [
       "(418, 11)"
      ]
     },
     "execution_count": 7,
     "metadata": {},
     "output_type": "execute_result"
    }
   ],
   "source": [
    "test.shape"
   ]
  },
  {
   "cell_type": "code",
   "execution_count": 8,
   "id": "5910cfd8",
   "metadata": {
    "execution": {
     "iopub.execute_input": "2022-02-25T16:06:23.013465Z",
     "iopub.status.busy": "2022-02-25T16:06:23.012581Z",
     "iopub.status.idle": "2022-02-25T16:06:23.026657Z",
     "shell.execute_reply": "2022-02-25T16:06:23.027152Z",
     "shell.execute_reply.started": "2022-02-25T16:03:14.277814Z"
    },
    "papermill": {
     "duration": 0.099456,
     "end_time": "2022-02-25T16:06:23.027309",
     "exception": false,
     "start_time": "2022-02-25T16:06:22.927853",
     "status": "completed"
    },
    "tags": []
   },
   "outputs": [
    {
     "data": {
      "text/html": [
       "<div>\n",
       "<style scoped>\n",
       "    .dataframe tbody tr th:only-of-type {\n",
       "        vertical-align: middle;\n",
       "    }\n",
       "\n",
       "    .dataframe tbody tr th {\n",
       "        vertical-align: top;\n",
       "    }\n",
       "\n",
       "    .dataframe thead th {\n",
       "        text-align: right;\n",
       "    }\n",
       "</style>\n",
       "<table border=\"1\" class=\"dataframe\">\n",
       "  <thead>\n",
       "    <tr style=\"text-align: right;\">\n",
       "      <th></th>\n",
       "      <th>PassengerId</th>\n",
       "      <th>Survived</th>\n",
       "      <th>Pclass</th>\n",
       "      <th>Name</th>\n",
       "      <th>Sex</th>\n",
       "      <th>Age</th>\n",
       "      <th>SibSp</th>\n",
       "      <th>Parch</th>\n",
       "      <th>Ticket</th>\n",
       "      <th>Fare</th>\n",
       "      <th>Cabin</th>\n",
       "      <th>Embarked</th>\n",
       "    </tr>\n",
       "  </thead>\n",
       "  <tbody>\n",
       "    <tr>\n",
       "      <th>0</th>\n",
       "      <td>1</td>\n",
       "      <td>0</td>\n",
       "      <td>3</td>\n",
       "      <td>Braund, Mr. Owen Harris</td>\n",
       "      <td>male</td>\n",
       "      <td>22.0</td>\n",
       "      <td>1</td>\n",
       "      <td>0</td>\n",
       "      <td>A/5 21171</td>\n",
       "      <td>7.2500</td>\n",
       "      <td>NaN</td>\n",
       "      <td>S</td>\n",
       "    </tr>\n",
       "    <tr>\n",
       "      <th>1</th>\n",
       "      <td>2</td>\n",
       "      <td>1</td>\n",
       "      <td>1</td>\n",
       "      <td>Cumings, Mrs. John Bradley (Florence Briggs Th...</td>\n",
       "      <td>female</td>\n",
       "      <td>38.0</td>\n",
       "      <td>1</td>\n",
       "      <td>0</td>\n",
       "      <td>PC 17599</td>\n",
       "      <td>71.2833</td>\n",
       "      <td>C85</td>\n",
       "      <td>C</td>\n",
       "    </tr>\n",
       "    <tr>\n",
       "      <th>2</th>\n",
       "      <td>3</td>\n",
       "      <td>1</td>\n",
       "      <td>3</td>\n",
       "      <td>Heikkinen, Miss. Laina</td>\n",
       "      <td>female</td>\n",
       "      <td>26.0</td>\n",
       "      <td>0</td>\n",
       "      <td>0</td>\n",
       "      <td>STON/O2. 3101282</td>\n",
       "      <td>7.9250</td>\n",
       "      <td>NaN</td>\n",
       "      <td>S</td>\n",
       "    </tr>\n",
       "    <tr>\n",
       "      <th>3</th>\n",
       "      <td>4</td>\n",
       "      <td>1</td>\n",
       "      <td>1</td>\n",
       "      <td>Futrelle, Mrs. Jacques Heath (Lily May Peel)</td>\n",
       "      <td>female</td>\n",
       "      <td>35.0</td>\n",
       "      <td>1</td>\n",
       "      <td>0</td>\n",
       "      <td>113803</td>\n",
       "      <td>53.1000</td>\n",
       "      <td>C123</td>\n",
       "      <td>S</td>\n",
       "    </tr>\n",
       "    <tr>\n",
       "      <th>4</th>\n",
       "      <td>5</td>\n",
       "      <td>0</td>\n",
       "      <td>3</td>\n",
       "      <td>Allen, Mr. William Henry</td>\n",
       "      <td>male</td>\n",
       "      <td>35.0</td>\n",
       "      <td>0</td>\n",
       "      <td>0</td>\n",
       "      <td>373450</td>\n",
       "      <td>8.0500</td>\n",
       "      <td>NaN</td>\n",
       "      <td>S</td>\n",
       "    </tr>\n",
       "  </tbody>\n",
       "</table>\n",
       "</div>"
      ],
      "text/plain": [
       "   PassengerId  Survived  Pclass  \\\n",
       "0            1         0       3   \n",
       "1            2         1       1   \n",
       "2            3         1       3   \n",
       "3            4         1       1   \n",
       "4            5         0       3   \n",
       "\n",
       "                                                Name     Sex   Age  SibSp  \\\n",
       "0                            Braund, Mr. Owen Harris    male  22.0      1   \n",
       "1  Cumings, Mrs. John Bradley (Florence Briggs Th...  female  38.0      1   \n",
       "2                             Heikkinen, Miss. Laina  female  26.0      0   \n",
       "3       Futrelle, Mrs. Jacques Heath (Lily May Peel)  female  35.0      1   \n",
       "4                           Allen, Mr. William Henry    male  35.0      0   \n",
       "\n",
       "   Parch            Ticket     Fare Cabin Embarked  \n",
       "0      0         A/5 21171   7.2500   NaN        S  \n",
       "1      0          PC 17599  71.2833   C85        C  \n",
       "2      0  STON/O2. 3101282   7.9250   NaN        S  \n",
       "3      0            113803  53.1000  C123        S  \n",
       "4      0            373450   8.0500   NaN        S  "
      ]
     },
     "execution_count": 8,
     "metadata": {},
     "output_type": "execute_result"
    }
   ],
   "source": [
    "train.head()"
   ]
  },
  {
   "cell_type": "markdown",
   "id": "5ab7ab23",
   "metadata": {
    "papermill": {
     "duration": 0.083645,
     "end_time": "2022-02-25T16:06:23.194983",
     "exception": false,
     "start_time": "2022-02-25T16:06:23.111338",
     "status": "completed"
    },
    "tags": []
   },
   "source": [
    "**Separating Numeric and Categorical values**"
   ]
  },
  {
   "cell_type": "code",
   "execution_count": 9,
   "id": "8fa7d274",
   "metadata": {
    "execution": {
     "iopub.execute_input": "2022-02-25T16:06:23.367408Z",
     "iopub.status.busy": "2022-02-25T16:06:23.366375Z",
     "iopub.status.idle": "2022-02-25T16:06:23.371949Z",
     "shell.execute_reply": "2022-02-25T16:06:23.372401Z",
     "shell.execute_reply.started": "2022-02-25T16:03:14.302885Z"
    },
    "papermill": {
     "duration": 0.093282,
     "end_time": "2022-02-25T16:06:23.372557",
     "exception": false,
     "start_time": "2022-02-25T16:06:23.279275",
     "status": "completed"
    },
    "tags": []
   },
   "outputs": [],
   "source": [
    "train_num = train[['Age', 'SibSp', 'Parch', 'Fare']]\n",
    "train_cat = train[['Survived','Pclass','Sex','Ticket','Cabin','Embarked']]"
   ]
  },
  {
   "cell_type": "markdown",
   "id": "80f238a3",
   "metadata": {
    "papermill": {
     "duration": 0.082117,
     "end_time": "2022-02-25T16:06:23.537091",
     "exception": false,
     "start_time": "2022-02-25T16:06:23.454974",
     "status": "completed"
    },
    "tags": []
   },
   "source": [
    "# Histogram of all numeric variables"
   ]
  },
  {
   "cell_type": "code",
   "execution_count": 10,
   "id": "6e212891",
   "metadata": {
    "execution": {
     "iopub.execute_input": "2022-02-25T16:06:23.712614Z",
     "iopub.status.busy": "2022-02-25T16:06:23.711628Z",
     "iopub.status.idle": "2022-02-25T16:06:23.940216Z",
     "shell.execute_reply": "2022-02-25T16:06:23.939677Z",
     "shell.execute_reply.started": "2022-02-25T16:03:14.319865Z"
    },
    "papermill": {
     "duration": 0.320322,
     "end_time": "2022-02-25T16:06:23.940359",
     "exception": false,
     "start_time": "2022-02-25T16:06:23.620037",
     "status": "completed"
    },
    "tags": []
   },
   "outputs": [
    {
     "data": {
      "image/png": "[encoded data removed]",
      "text/plain": [
       "<Figure size 432x288 with 1 Axes>"
      ]
     },
     "metadata": {
      "needs_background": "light"
     },
     "output_type": "display_data"
    }
   ],
   "source": [
    "plt.hist(train_num['Age'], bins=10)\n",
    "plt.title(\"Age\")\n",
    "plt.show()"
   ]
  },
  {
   "cell_type": "code",
   "execution_count": 11,
   "id": "9828c471",
   "metadata": {
    "execution": {
     "iopub.execute_input": "2022-02-25T16:06:24.113072Z",
     "iopub.status.busy": "2022-02-25T16:06:24.112098Z",
     "iopub.status.idle": "2022-02-25T16:06:24.310053Z",
     "shell.execute_reply": "2022-02-25T16:06:24.310576Z",
     "shell.execute_reply.started": "2022-02-25T16:03:14.550206Z"
    },
    "papermill": {
     "duration": 0.285876,
     "end_time": "2022-02-25T16:06:24.310740",
     "exception": false,
     "start_time": "2022-02-25T16:06:24.024864",
     "status": "completed"
    },
    "tags": []
   },
   "outputs": [
    {
     "data": {
      "image/png": "[encoded data removed]",
      "text/plain": [
       "<Figure size 432x288 with 1 Axes>"
      ]
     },
     "metadata": {
      "needs_background": "light"
     },
     "output_type": "display_data"
    }
   ],
   "source": [
    "plt.hist(train_num['SibSp'], bins=10)\n",
    "plt.title(\"Sibling/Spouse\")\n",
    "plt.show()"
   ]
  },
  {
   "cell_type": "code",
   "execution_count": 12,
   "id": "fad26060",
   "metadata": {
    "execution": {
     "iopub.execute_input": "2022-02-25T16:06:24.486075Z",
     "iopub.status.busy": "2022-02-25T16:06:24.485119Z",
     "iopub.status.idle": "2022-02-25T16:06:24.681197Z",
     "shell.execute_reply": "2022-02-25T16:06:24.681669Z",
     "shell.execute_reply.started": "2022-02-25T16:03:14.772992Z"
    },
    "papermill": {
     "duration": 0.284708,
     "end_time": "2022-02-25T16:06:24.681853",
     "exception": false,
     "start_time": "2022-02-25T16:06:24.397145",
     "status": "completed"
    },
    "tags": []
   },
   "outputs": [
    {
     "data": {
      "image/png": "[encoded data removed]",
      "text/plain": [
       "<Figure size 432x288 with 1 Axes>"
      ]
     },
     "metadata": {
      "needs_background": "light"
     },
     "output_type": "display_data"
    }
   ],
   "source": [
    "plt.hist(train_num['Parch'], bins=10)\n",
    "plt.title(\"Parent/Child\")\n",
    "plt.show()"
   ]
  },
  {
   "cell_type": "code",
   "execution_count": 13,
   "id": "4493f117",
   "metadata": {
    "execution": {
     "iopub.execute_input": "2022-02-25T16:06:24.860218Z",
     "iopub.status.busy": "2022-02-25T16:06:24.859237Z",
     "iopub.status.idle": "2022-02-25T16:06:25.048694Z",
     "shell.execute_reply": "2022-02-25T16:06:25.048190Z",
     "shell.execute_reply.started": "2022-02-25T16:03:14.978083Z"
    },
    "papermill": {
     "duration": 0.279342,
     "end_time": "2022-02-25T16:06:25.048870",
     "exception": false,
     "start_time": "2022-02-25T16:06:24.769528",
     "status": "completed"
    },
    "tags": []
   },
   "outputs": [
    {
     "data": {
      "image/png": "[encoded data removed]",
      "text/plain": [
       "<Figure size 432x288 with 1 Axes>"
      ]
     },
     "metadata": {
      "needs_background": "light"
     },
     "output_type": "display_data"
    }
   ],
   "source": [
    "plt.hist(train_num['Fare'], bins=10)\n",
    "plt.title(\"Fare\")\n",
    "plt.show()"
   ]
  },
  {
   "cell_type": "markdown",
   "id": "c788ee2a",
   "metadata": {
    "papermill": {
     "duration": 0.08653,
     "end_time": "2022-02-25T16:06:25.223467",
     "exception": false,
     "start_time": "2022-02-25T16:06:25.136937",
     "status": "completed"
    },
    "tags": []
   },
   "source": [
    "**Finding correlation among numeric variables**"
   ]
  },
  {
   "cell_type": "code",
   "execution_count": 14,
   "id": "6551deb9",
   "metadata": {
    "execution": {
     "iopub.execute_input": "2022-02-25T16:06:25.398532Z",
     "iopub.status.busy": "2022-02-25T16:06:25.397951Z",
     "iopub.status.idle": "2022-02-25T16:06:25.650291Z",
     "shell.execute_reply": "2022-02-25T16:06:25.649724Z",
     "shell.execute_reply.started": "2022-02-25T16:03:15.181412Z"
    },
    "papermill": {
     "duration": 0.340898,
     "end_time": "2022-02-25T16:06:25.650436",
     "exception": false,
     "start_time": "2022-02-25T16:06:25.309538",
     "status": "completed"
    },
    "tags": []
   },
   "outputs": [
    {
     "name": "stdout",
     "output_type": "stream",
     "text": [
      "            Age     SibSp     Parch      Fare\n",
      "Age    1.000000 -0.308247 -0.189119  0.096067\n",
      "SibSp -0.308247  1.000000  0.414838  0.159651\n",
      "Parch -0.189119  0.414838  1.000000  0.216225\n",
      "Fare   0.096067  0.159651  0.216225  1.000000\n"
     ]
    },
    {
     "data": {
      "text/plain": [
       "<AxesSubplot:>"
      ]
     },
     "execution_count": 14,
     "metadata": {},
     "output_type": "execute_result"
    },
    {
     "data": {
      "image/png": "[encoded data removed]",
      "text/plain": [
       "<Figure size 432x288 with 2 Axes>"
      ]
     },
     "metadata": {
      "needs_background": "light"
     },
     "output_type": "display_data"
    }
   ],
   "source": [
    "print(train_num.corr())\n",
    "sns.heatmap(train_num.corr())"
   ]
  },
  {
   "cell_type": "markdown",
   "id": "04aa08b4",
   "metadata": {
    "papermill": {
     "duration": 0.08725,
     "end_time": "2022-02-25T16:06:25.824535",
     "exception": false,
     "start_time": "2022-02-25T16:06:25.737285",
     "status": "completed"
    },
    "tags": []
   },
   "source": [
    "**Compare survival rate across Age, SibSp, Parch, and Fare**"
   ]
  },
  {
   "cell_type": "code",
   "execution_count": 15,
   "id": "80986fd3",
   "metadata": {
    "execution": {
     "iopub.execute_input": "2022-02-25T16:06:26.017269Z",
     "iopub.status.busy": "2022-02-25T16:06:26.016635Z",
     "iopub.status.idle": "2022-02-25T16:06:26.027335Z",
     "shell.execute_reply": "2022-02-25T16:06:26.027957Z",
     "shell.execute_reply.started": "2022-02-25T16:03:15.457016Z"
    },
    "papermill": {
     "duration": 0.115011,
     "end_time": "2022-02-25T16:06:26.028131",
     "exception": false,
     "start_time": "2022-02-25T16:06:25.913120",
     "status": "completed"
    },
    "tags": []
   },
   "outputs": [
    {
     "data": {
      "text/html": [
       "<div>\n",
       "<style scoped>\n",
       "    .dataframe tbody tr th:only-of-type {\n",
       "        vertical-align: middle;\n",
       "    }\n",
       "\n",
       "    .dataframe tbody tr th {\n",
       "        vertical-align: top;\n",
       "    }\n",
       "\n",
       "    .dataframe thead th {\n",
       "        text-align: right;\n",
       "    }\n",
       "</style>\n",
       "<table border=\"1\" class=\"dataframe\">\n",
       "  <thead>\n",
       "    <tr style=\"text-align: right;\">\n",
       "      <th></th>\n",
       "      <th>Age</th>\n",
       "      <th>Fare</th>\n",
       "      <th>Parch</th>\n",
       "      <th>SibSp</th>\n",
       "    </tr>\n",
       "    <tr>\n",
       "      <th>Survived</th>\n",
       "      <th></th>\n",
       "      <th></th>\n",
       "      <th></th>\n",
       "      <th></th>\n",
       "    </tr>\n",
       "  </thead>\n",
       "  <tbody>\n",
       "    <tr>\n",
       "      <th>0</th>\n",
       "      <td>30.626179</td>\n",
       "      <td>22.117887</td>\n",
       "      <td>0.329690</td>\n",
       "      <td>0.553734</td>\n",
       "    </tr>\n",
       "    <tr>\n",
       "      <th>1</th>\n",
       "      <td>28.343690</td>\n",
       "      <td>48.395408</td>\n",
       "      <td>0.464912</td>\n",
       "      <td>0.473684</td>\n",
       "    </tr>\n",
       "  </tbody>\n",
       "</table>\n",
       "</div>"
      ],
      "text/plain": [
       "                Age       Fare     Parch     SibSp\n",
       "Survived                                          \n",
       "0         30.626179  22.117887  0.329690  0.553734\n",
       "1         28.343690  48.395408  0.464912  0.473684"
      ]
     },
     "execution_count": 15,
     "metadata": {},
     "output_type": "execute_result"
    }
   ],
   "source": [
    "pd.pivot_table(train, index = 'Survived', values = ['Age','SibSp','Parch','Fare'])"
   ]
  },
  {
   "cell_type": "markdown",
   "id": "ada09513",
   "metadata": {
    "papermill": {
     "duration": 0.088596,
     "end_time": "2022-02-25T16:06:26.205601",
     "exception": false,
     "start_time": "2022-02-25T16:06:26.117005",
     "status": "completed"
    },
    "tags": []
   },
   "source": [
    "# Barplot of all categorical variables"
   ]
  },
  {
   "cell_type": "code",
   "execution_count": 16,
   "id": "ec034b22",
   "metadata": {
    "execution": {
     "iopub.execute_input": "2022-02-25T16:06:26.384733Z",
     "iopub.status.busy": "2022-02-25T16:06:26.383810Z",
     "iopub.status.idle": "2022-02-25T16:06:26.391552Z",
     "shell.execute_reply": "2022-02-25T16:06:26.392049Z",
     "shell.execute_reply.started": "2022-02-25T16:03:15.484945Z"
    },
    "papermill": {
     "duration": 0.098843,
     "end_time": "2022-02-25T16:06:26.392212",
     "exception": false,
     "start_time": "2022-02-25T16:06:26.293369",
     "status": "completed"
    },
    "tags": []
   },
   "outputs": [
    {
     "data": {
      "text/plain": [
       "0    0.616162\n",
       "1    0.383838\n",
       "Name: Survived, dtype: float64"
      ]
     },
     "execution_count": 16,
     "metadata": {},
     "output_type": "execute_result"
    }
   ],
   "source": [
    "train_cat[\"Survived\"].value_counts(normalize=True)"
   ]
  },
  {
   "cell_type": "code",
   "execution_count": 17,
   "id": "31fa20c4",
   "metadata": {
    "execution": {
     "iopub.execute_input": "2022-02-25T16:06:26.575927Z",
     "iopub.status.busy": "2022-02-25T16:06:26.575211Z",
     "iopub.status.idle": "2022-02-25T16:06:26.577691Z",
     "shell.execute_reply": "2022-02-25T16:06:26.578172Z",
     "shell.execute_reply.started": "2022-02-25T16:03:15.505465Z"
    },
    "papermill": {
     "duration": 0.097311,
     "end_time": "2022-02-25T16:06:26.578335",
     "exception": false,
     "start_time": "2022-02-25T16:06:26.481024",
     "status": "completed"
    },
    "tags": []
   },
   "outputs": [
    {
     "data": {
      "text/plain": [
       "pandas.core.series.Series"
      ]
     },
     "execution_count": 17,
     "metadata": {},
     "output_type": "execute_result"
    }
   ],
   "source": [
    "Survived = train_cat[\"Survived\"].value_counts(normalize=True)\n",
    "\n",
    "type(Survived)"
   ]
  },
  {
   "cell_type": "code",
   "execution_count": 18,
   "id": "778ee316",
   "metadata": {
    "execution": {
     "iopub.execute_input": "2022-02-25T16:06:26.762393Z",
     "iopub.status.busy": "2022-02-25T16:06:26.761767Z",
     "iopub.status.idle": "2022-02-25T16:06:26.771450Z",
     "shell.execute_reply": "2022-02-25T16:06:26.770970Z",
     "shell.execute_reply.started": "2022-02-25T16:03:15.517701Z"
    },
    "papermill": {
     "duration": 0.102198,
     "end_time": "2022-02-25T16:06:26.771614",
     "exception": false,
     "start_time": "2022-02-25T16:06:26.669416",
     "status": "completed"
    },
    "tags": []
   },
   "outputs": [
    {
     "data": {
      "text/html": [
       "<div>\n",
       "<style scoped>\n",
       "    .dataframe tbody tr th:only-of-type {\n",
       "        vertical-align: middle;\n",
       "    }\n",
       "\n",
       "    .dataframe tbody tr th {\n",
       "        vertical-align: top;\n",
       "    }\n",
       "\n",
       "    .dataframe thead th {\n",
       "        text-align: right;\n",
       "    }\n",
       "</style>\n",
       "<table border=\"1\" class=\"dataframe\">\n",
       "  <thead>\n",
       "    <tr style=\"text-align: right;\">\n",
       "      <th></th>\n",
       "      <th>Survived</th>\n",
       "    </tr>\n",
       "  </thead>\n",
       "  <tbody>\n",
       "    <tr>\n",
       "      <th>0</th>\n",
       "      <td>0.616162</td>\n",
       "    </tr>\n",
       "    <tr>\n",
       "      <th>1</th>\n",
       "      <td>0.383838</td>\n",
       "    </tr>\n",
       "  </tbody>\n",
       "</table>\n",
       "</div>"
      ],
      "text/plain": [
       "   Survived\n",
       "0  0.616162\n",
       "1  0.383838"
      ]
     },
     "metadata": {},
     "output_type": "display_data"
    }
   ],
   "source": [
    "## Survived now is a pandas.series\n",
    "## Must convert to dataframe\n",
    "\n",
    "Survived = train_cat[\"Survived\"].value_counts(normalize=True)\n",
    "Survived = pd.DataFrame(Survived)\n",
    "\n",
    "display(Survived)"
   ]
  },
  {
   "cell_type": "code",
   "execution_count": 19,
   "id": "1d557266",
   "metadata": {
    "execution": {
     "iopub.execute_input": "2022-02-25T16:06:26.967996Z",
     "iopub.status.busy": "2022-02-25T16:06:26.966942Z",
     "iopub.status.idle": "2022-02-25T16:06:26.982731Z",
     "shell.execute_reply": "2022-02-25T16:06:26.983230Z",
     "shell.execute_reply.started": "2022-02-25T16:03:15.541123Z"
    },
    "papermill": {
     "duration": 0.1217,
     "end_time": "2022-02-25T16:06:26.983398",
     "exception": false,
     "start_time": "2022-02-25T16:06:26.861698",
     "status": "completed"
    },
    "tags": []
   },
   "outputs": [
    {
     "name": "stdout",
     "output_type": "stream",
     "text": [
      "Int64Index([0, 1], dtype='int64')\n"
     ]
    },
    {
     "data": {
      "text/html": [
       "<div>\n",
       "<style scoped>\n",
       "    .dataframe tbody tr th:only-of-type {\n",
       "        vertical-align: middle;\n",
       "    }\n",
       "\n",
       "    .dataframe tbody tr th {\n",
       "        vertical-align: top;\n",
       "    }\n",
       "\n",
       "    .dataframe thead th {\n",
       "        text-align: right;\n",
       "    }\n",
       "</style>\n",
       "<table border=\"1\" class=\"dataframe\">\n",
       "  <thead>\n",
       "    <tr style=\"text-align: right;\">\n",
       "      <th></th>\n",
       "      <th>index</th>\n",
       "      <th>Survived</th>\n",
       "    </tr>\n",
       "  </thead>\n",
       "  <tbody>\n",
       "    <tr>\n",
       "      <th>0</th>\n",
       "      <td>0</td>\n",
       "      <td>0.616162</td>\n",
       "    </tr>\n",
       "    <tr>\n",
       "      <th>1</th>\n",
       "      <td>1</td>\n",
       "      <td>0.383838</td>\n",
       "    </tr>\n",
       "  </tbody>\n",
       "</table>\n",
       "</div>"
      ],
      "text/plain": [
       "   index  Survived\n",
       "0      0  0.616162\n",
       "1      1  0.383838"
      ]
     },
     "metadata": {},
     "output_type": "display_data"
    },
    {
     "data": {
      "text/html": [
       "<div>\n",
       "<style scoped>\n",
       "    .dataframe tbody tr th:only-of-type {\n",
       "        vertical-align: middle;\n",
       "    }\n",
       "\n",
       "    .dataframe tbody tr th {\n",
       "        vertical-align: top;\n",
       "    }\n",
       "\n",
       "    .dataframe thead th {\n",
       "        text-align: right;\n",
       "    }\n",
       "</style>\n",
       "<table border=\"1\" class=\"dataframe\">\n",
       "  <thead>\n",
       "    <tr style=\"text-align: right;\">\n",
       "      <th></th>\n",
       "      <th>Survived</th>\n",
       "      <th>% of Survivors</th>\n",
       "    </tr>\n",
       "  </thead>\n",
       "  <tbody>\n",
       "    <tr>\n",
       "      <th>0</th>\n",
       "      <td>0</td>\n",
       "      <td>61.616162</td>\n",
       "    </tr>\n",
       "    <tr>\n",
       "      <th>1</th>\n",
       "      <td>1</td>\n",
       "      <td>38.383838</td>\n",
       "    </tr>\n",
       "  </tbody>\n",
       "</table>\n",
       "</div>"
      ],
      "text/plain": [
       "   Survived  % of Survivors\n",
       "0         0       61.616162\n",
       "1         1       38.383838"
      ]
     },
     "metadata": {},
     "output_type": "display_data"
    },
    {
     "data": {
      "text/html": [
       "<div>\n",
       "<style scoped>\n",
       "    .dataframe tbody tr th:only-of-type {\n",
       "        vertical-align: middle;\n",
       "    }\n",
       "\n",
       "    .dataframe tbody tr th {\n",
       "        vertical-align: top;\n",
       "    }\n",
       "\n",
       "    .dataframe thead th {\n",
       "        text-align: right;\n",
       "    }\n",
       "</style>\n",
       "<table border=\"1\" class=\"dataframe\">\n",
       "  <thead>\n",
       "    <tr style=\"text-align: right;\">\n",
       "      <th></th>\n",
       "      <th>Survived</th>\n",
       "      <th>% of Survivors</th>\n",
       "    </tr>\n",
       "  </thead>\n",
       "  <tbody>\n",
       "    <tr>\n",
       "      <th>0</th>\n",
       "      <td>0</td>\n",
       "      <td>61.62</td>\n",
       "    </tr>\n",
       "    <tr>\n",
       "      <th>1</th>\n",
       "      <td>1</td>\n",
       "      <td>38.38</td>\n",
       "    </tr>\n",
       "  </tbody>\n",
       "</table>\n",
       "</div>"
      ],
      "text/plain": [
       "   Survived  % of Survivors\n",
       "0         0           61.62\n",
       "1         1           38.38"
      ]
     },
     "metadata": {},
     "output_type": "display_data"
    }
   ],
   "source": [
    "## Convert the index into a column\n",
    "\n",
    "Survived = train_cat[\"Survived\"].value_counts(normalize=True)\n",
    "Survived = pd.DataFrame(Survived)\n",
    "print(Survived.index)\n",
    "\n",
    "Survived = Survived.reset_index()\n",
    "display(Survived)\n",
    "\n",
    "## Fixing column names\n",
    "\n",
    "Survived = Survived.rename(columns={\"index\":\"Survived\", \"Survived\":\"% of Survivors\"})\n",
    "\n",
    "Survived[\"% of Survivors\"]= Survived[\"% of Survivors\"]*100\n",
    "display(Survived)\n",
    "\n",
    "Survived[\"% of Survivors\"]= np.round(Survived[\"% of Survivors\"],2)\n",
    "display(Survived)"
   ]
  },
  {
   "cell_type": "markdown",
   "id": "bd336a28",
   "metadata": {
    "papermill": {
     "duration": 0.091994,
     "end_time": "2022-02-25T16:06:27.167965",
     "exception": false,
     "start_time": "2022-02-25T16:06:27.075971",
     "status": "completed"
    },
    "tags": []
   },
   "source": [
    "**BarPlot for \"Survived\" column**"
   ]
  },
  {
   "cell_type": "code",
   "execution_count": 20,
   "id": "4029e367",
   "metadata": {
    "execution": {
     "iopub.execute_input": "2022-02-25T16:06:27.356850Z",
     "iopub.status.busy": "2022-02-25T16:06:27.356216Z",
     "iopub.status.idle": "2022-02-25T16:06:27.518094Z",
     "shell.execute_reply": "2022-02-25T16:06:27.517583Z",
     "shell.execute_reply.started": "2022-02-25T16:03:16.005778Z"
    },
    "papermill": {
     "duration": 0.256463,
     "end_time": "2022-02-25T16:06:27.518234",
     "exception": false,
     "start_time": "2022-02-25T16:06:27.261771",
     "status": "completed"
    },
    "tags": []
   },
   "outputs": [
    {
     "data": {
      "image/png": "[encoded data removed]",
      "text/plain": [
       "<Figure size 432x360 with 1 Axes>"
      ]
     },
     "metadata": {
      "needs_background": "light"
     },
     "output_type": "display_data"
    }
   ],
   "source": [
    "plt.figure(figsize = (6,5))\n",
    "sns.barplot(x='Survived', y='% of Survivors', data= Survived)\n",
    "plt.title(\"Percent of survival rate\")\n",
    "plt.show()"
   ]
  },
  {
   "cell_type": "markdown",
   "id": "858e583f",
   "metadata": {
    "papermill": {
     "duration": 0.09305,
     "end_time": "2022-02-25T16:06:27.705552",
     "exception": false,
     "start_time": "2022-02-25T16:06:27.612502",
     "status": "completed"
    },
    "tags": []
   },
   "source": [
    "**BarPlot for \"Pclass\" column**"
   ]
  },
  {
   "cell_type": "code",
   "execution_count": 21,
   "id": "66f0e513",
   "metadata": {
    "execution": {
     "iopub.execute_input": "2022-02-25T16:06:27.904619Z",
     "iopub.status.busy": "2022-02-25T16:06:27.899734Z",
     "iopub.status.idle": "2022-02-25T16:06:27.907330Z",
     "shell.execute_reply": "2022-02-25T16:06:27.907942Z",
     "shell.execute_reply.started": "2022-02-25T16:03:16.180141Z"
    },
    "papermill": {
     "duration": 0.110211,
     "end_time": "2022-02-25T16:06:27.908105",
     "exception": false,
     "start_time": "2022-02-25T16:06:27.797894",
     "status": "completed"
    },
    "tags": []
   },
   "outputs": [
    {
     "data": {
      "text/html": [
       "<div>\n",
       "<style scoped>\n",
       "    .dataframe tbody tr th:only-of-type {\n",
       "        vertical-align: middle;\n",
       "    }\n",
       "\n",
       "    .dataframe tbody tr th {\n",
       "        vertical-align: top;\n",
       "    }\n",
       "\n",
       "    .dataframe thead th {\n",
       "        text-align: right;\n",
       "    }\n",
       "</style>\n",
       "<table border=\"1\" class=\"dataframe\">\n",
       "  <thead>\n",
       "    <tr style=\"text-align: right;\">\n",
       "      <th></th>\n",
       "      <th>Class</th>\n",
       "      <th>% of passengers</th>\n",
       "    </tr>\n",
       "  </thead>\n",
       "  <tbody>\n",
       "    <tr>\n",
       "      <th>1</th>\n",
       "      <td>1</td>\n",
       "      <td>24.24</td>\n",
       "    </tr>\n",
       "    <tr>\n",
       "      <th>2</th>\n",
       "      <td>2</td>\n",
       "      <td>20.65</td>\n",
       "    </tr>\n",
       "    <tr>\n",
       "      <th>0</th>\n",
       "      <td>3</td>\n",
       "      <td>55.11</td>\n",
       "    </tr>\n",
       "  </tbody>\n",
       "</table>\n",
       "</div>"
      ],
      "text/plain": [
       "   Class  % of passengers\n",
       "1      1            24.24\n",
       "2      2            20.65\n",
       "0      3            55.11"
      ]
     },
     "metadata": {},
     "output_type": "display_data"
    }
   ],
   "source": [
    "Pclass = train_cat[\"Pclass\"].value_counts(normalize=True)\n",
    "Pclass = pd.DataFrame(Pclass)\n",
    "\n",
    "Pclass = Pclass.reset_index()\n",
    "\n",
    "## Fixing column names\n",
    "\n",
    "Pclass = Pclass.rename(columns={\"index\":\"Class\", \"Pclass\":\"% of passengers\"})\n",
    "\n",
    "Pclass = Pclass.sort_values(by='Class')\n",
    "\n",
    "Pclass[\"% of passengers\"]= Pclass[\"% of passengers\"]*100\n",
    "\n",
    "Pclass[\"% of passengers\"]= np.round(Pclass[\"% of passengers\"],2)\n",
    "display(Pclass)"
   ]
  },
  {
   "cell_type": "code",
   "execution_count": 22,
   "id": "8be8b5ff",
   "metadata": {
    "execution": {
     "iopub.execute_input": "2022-02-25T16:06:28.106030Z",
     "iopub.status.busy": "2022-02-25T16:06:28.102091Z",
     "iopub.status.idle": "2022-02-25T16:06:28.265252Z",
     "shell.execute_reply": "2022-02-25T16:06:28.264393Z",
     "shell.execute_reply.started": "2022-02-25T16:03:16.199001Z"
    },
    "papermill": {
     "duration": 0.262131,
     "end_time": "2022-02-25T16:06:28.265424",
     "exception": false,
     "start_time": "2022-02-25T16:06:28.003293",
     "status": "completed"
    },
    "tags": []
   },
   "outputs": [
    {
     "data": {
      "image/png": "[encoded data removed]",
      "text/plain": [
       "<Figure size 432x360 with 1 Axes>"
      ]
     },
     "metadata": {
      "needs_background": "light"
     },
     "output_type": "display_data"
    }
   ],
   "source": [
    "plt.figure(figsize = (6,5))\n",
    "sns.barplot(x='Class', y='% of passengers', data= Pclass)\n",
    "plt.title(\"Percent of Pclass\")\n",
    "plt.show()"
   ]
  },
  {
   "cell_type": "markdown",
   "id": "ac36270e",
   "metadata": {
    "papermill": {
     "duration": 0.094634,
     "end_time": "2022-02-25T16:06:28.454598",
     "exception": false,
     "start_time": "2022-02-25T16:06:28.359964",
     "status": "completed"
    },
    "tags": []
   },
   "source": [
    "**BarPlot for \"Sex\" column**"
   ]
  },
  {
   "cell_type": "code",
   "execution_count": 23,
   "id": "066b0880",
   "metadata": {
    "execution": {
     "iopub.execute_input": "2022-02-25T16:06:28.649580Z",
     "iopub.status.busy": "2022-02-25T16:06:28.648908Z",
     "iopub.status.idle": "2022-02-25T16:06:28.659018Z",
     "shell.execute_reply": "2022-02-25T16:06:28.659570Z",
     "shell.execute_reply.started": "2022-02-25T16:03:16.386979Z"
    },
    "papermill": {
     "duration": 0.110472,
     "end_time": "2022-02-25T16:06:28.659727",
     "exception": false,
     "start_time": "2022-02-25T16:06:28.549255",
     "status": "completed"
    },
    "tags": []
   },
   "outputs": [
    {
     "data": {
      "text/html": [
       "<div>\n",
       "<style scoped>\n",
       "    .dataframe tbody tr th:only-of-type {\n",
       "        vertical-align: middle;\n",
       "    }\n",
       "\n",
       "    .dataframe tbody tr th {\n",
       "        vertical-align: top;\n",
       "    }\n",
       "\n",
       "    .dataframe thead th {\n",
       "        text-align: right;\n",
       "    }\n",
       "</style>\n",
       "<table border=\"1\" class=\"dataframe\">\n",
       "  <thead>\n",
       "    <tr style=\"text-align: right;\">\n",
       "      <th></th>\n",
       "      <th>Sex</th>\n",
       "      <th>% of passengers</th>\n",
       "    </tr>\n",
       "  </thead>\n",
       "  <tbody>\n",
       "    <tr>\n",
       "      <th>1</th>\n",
       "      <td>female</td>\n",
       "      <td>35.24</td>\n",
       "    </tr>\n",
       "    <tr>\n",
       "      <th>0</th>\n",
       "      <td>male</td>\n",
       "      <td>64.76</td>\n",
       "    </tr>\n",
       "  </tbody>\n",
       "</table>\n",
       "</div>"
      ],
      "text/plain": [
       "      Sex  % of passengers\n",
       "1  female            35.24\n",
       "0    male            64.76"
      ]
     },
     "metadata": {},
     "output_type": "display_data"
    }
   ],
   "source": [
    "Sex = train_cat[\"Sex\"].value_counts(normalize=True)\n",
    "Sex = pd.DataFrame(Sex)\n",
    "\n",
    "Sex = Sex.reset_index()\n",
    "\n",
    "## Fixing column names\n",
    "\n",
    "Sex = Sex.rename(columns={\"index\":\"Sex\", \"Sex\":\"% of passengers\"})\n",
    "\n",
    "Sex = Sex.sort_values(by='Sex')\n",
    "\n",
    "Sex[\"% of passengers\"]= Sex[\"% of passengers\"]*100\n",
    "\n",
    "Sex[\"% of passengers\"]= np.round(Sex[\"% of passengers\"],2)\n",
    "display(Sex)"
   ]
  },
  {
   "cell_type": "code",
   "execution_count": 24,
   "id": "71c287ef",
   "metadata": {
    "execution": {
     "iopub.execute_input": "2022-02-25T16:06:28.857269Z",
     "iopub.status.busy": "2022-02-25T16:06:28.855043Z",
     "iopub.status.idle": "2022-02-25T16:06:29.016876Z",
     "shell.execute_reply": "2022-02-25T16:06:29.016383Z",
     "shell.execute_reply.started": "2022-02-25T16:03:16.410082Z"
    },
    "papermill": {
     "duration": 0.260197,
     "end_time": "2022-02-25T16:06:29.017014",
     "exception": false,
     "start_time": "2022-02-25T16:06:28.756817",
     "status": "completed"
    },
    "tags": []
   },
   "outputs": [
    {
     "data": {
      "image/png": "[encoded data removed]",
      "text/plain": [
       "<Figure size 432x360 with 1 Axes>"
      ]
     },
     "metadata": {
      "needs_background": "light"
     },
     "output_type": "display_data"
    }
   ],
   "source": [
    "plt.figure(figsize = (6,5))\n",
    "sns.barplot(x='Sex', y='% of passengers', data= Sex)\n",
    "plt.title(\"Percent of Gender\")\n",
    "plt.show()"
   ]
  },
  {
   "cell_type": "markdown",
   "id": "200fb844",
   "metadata": {
    "papermill": {
     "duration": 0.097389,
     "end_time": "2022-02-25T16:06:29.211962",
     "exception": false,
     "start_time": "2022-02-25T16:06:29.114573",
     "status": "completed"
    },
    "tags": []
   },
   "source": [
    "**BarPlot for \"Ticket\" column**\n"
   ]
  },
  {
   "cell_type": "code",
   "execution_count": 25,
   "id": "17b0c630",
   "metadata": {
    "execution": {
     "iopub.execute_input": "2022-02-25T16:06:29.411470Z",
     "iopub.status.busy": "2022-02-25T16:06:29.410845Z",
     "iopub.status.idle": "2022-02-25T16:06:29.427990Z",
     "shell.execute_reply": "2022-02-25T16:06:29.428488Z",
     "shell.execute_reply.started": "2022-02-25T16:03:16.589219Z"
    },
    "papermill": {
     "duration": 0.119785,
     "end_time": "2022-02-25T16:06:29.428666",
     "exception": false,
     "start_time": "2022-02-25T16:06:29.308881",
     "status": "completed"
    },
    "tags": []
   },
   "outputs": [
    {
     "data": {
      "text/html": [
       "<div>\n",
       "<style scoped>\n",
       "    .dataframe tbody tr th:only-of-type {\n",
       "        vertical-align: middle;\n",
       "    }\n",
       "\n",
       "    .dataframe tbody tr th {\n",
       "        vertical-align: top;\n",
       "    }\n",
       "\n",
       "    .dataframe thead th {\n",
       "        text-align: right;\n",
       "    }\n",
       "</style>\n",
       "<table border=\"1\" class=\"dataframe\">\n",
       "  <thead>\n",
       "    <tr style=\"text-align: right;\">\n",
       "      <th></th>\n",
       "      <th>Ticket</th>\n",
       "      <th>% of passengers</th>\n",
       "    </tr>\n",
       "  </thead>\n",
       "  <tbody>\n",
       "    <tr>\n",
       "      <th>0</th>\n",
       "      <td>347082</td>\n",
       "      <td>0.79</td>\n",
       "    </tr>\n",
       "    <tr>\n",
       "      <th>1</th>\n",
       "      <td>CA. 2343</td>\n",
       "      <td>0.79</td>\n",
       "    </tr>\n",
       "    <tr>\n",
       "      <th>2</th>\n",
       "      <td>1601</td>\n",
       "      <td>0.79</td>\n",
       "    </tr>\n",
       "    <tr>\n",
       "      <th>3</th>\n",
       "      <td>3101295</td>\n",
       "      <td>0.67</td>\n",
       "    </tr>\n",
       "    <tr>\n",
       "      <th>4</th>\n",
       "      <td>CA 2144</td>\n",
       "      <td>0.67</td>\n",
       "    </tr>\n",
       "    <tr>\n",
       "      <th>...</th>\n",
       "      <td>...</td>\n",
       "      <td>...</td>\n",
       "    </tr>\n",
       "    <tr>\n",
       "      <th>676</th>\n",
       "      <td>9234</td>\n",
       "      <td>0.11</td>\n",
       "    </tr>\n",
       "    <tr>\n",
       "      <th>677</th>\n",
       "      <td>19988</td>\n",
       "      <td>0.11</td>\n",
       "    </tr>\n",
       "    <tr>\n",
       "      <th>678</th>\n",
       "      <td>2693</td>\n",
       "      <td>0.11</td>\n",
       "    </tr>\n",
       "    <tr>\n",
       "      <th>679</th>\n",
       "      <td>PC 17612</td>\n",
       "      <td>0.11</td>\n",
       "    </tr>\n",
       "    <tr>\n",
       "      <th>680</th>\n",
       "      <td>370376</td>\n",
       "      <td>0.11</td>\n",
       "    </tr>\n",
       "  </tbody>\n",
       "</table>\n",
       "<p>681 rows × 2 columns</p>\n",
       "</div>"
      ],
      "text/plain": [
       "       Ticket  % of passengers\n",
       "0      347082             0.79\n",
       "1    CA. 2343             0.79\n",
       "2        1601             0.79\n",
       "3     3101295             0.67\n",
       "4     CA 2144             0.67\n",
       "..        ...              ...\n",
       "676      9234             0.11\n",
       "677     19988             0.11\n",
       "678      2693             0.11\n",
       "679  PC 17612             0.11\n",
       "680    370376             0.11\n",
       "\n",
       "[681 rows x 2 columns]"
      ]
     },
     "metadata": {},
     "output_type": "display_data"
    }
   ],
   "source": [
    "Ticket = train_cat[\"Ticket\"].value_counts(normalize=True)\n",
    "Ticket = pd.DataFrame(Ticket)\n",
    "\n",
    "Ticket = Ticket.reset_index()\n",
    "\n",
    "## Fixing column names\n",
    "\n",
    "Ticket = Ticket.rename(columns={\"index\":\"Ticket\", \"Ticket\":\"% of passengers\"})\n",
    "\n",
    "#Ticket = Ticket.sort_values(by='Ticket')\n",
    "\n",
    "Ticket[\"% of passengers\"]= Ticket[\"% of passengers\"]*100\n",
    "\n",
    "Ticket[\"% of passengers\"]= np.round(Ticket[\"% of passengers\"],2)\n",
    "display(Ticket)"
   ]
  },
  {
   "cell_type": "code",
   "execution_count": 26,
   "id": "0307339a",
   "metadata": {
    "execution": {
     "iopub.execute_input": "2022-02-25T16:06:29.629532Z",
     "iopub.status.busy": "2022-02-25T16:06:29.624607Z",
     "iopub.status.idle": "2022-02-25T16:06:38.134306Z",
     "shell.execute_reply": "2022-02-25T16:06:38.133796Z",
     "shell.execute_reply.started": "2022-02-25T16:03:16.609331Z"
    },
    "papermill": {
     "duration": 8.60821,
     "end_time": "2022-02-25T16:06:38.134441",
     "exception": false,
     "start_time": "2022-02-25T16:06:29.526231",
     "status": "completed"
    },
    "tags": []
   },
   "outputs": [
    {
     "data": {
      "image/png": "[encoded data removed]",
      "text/plain": [
       "<Figure size 432x360 with 1 Axes>"
      ]
     },
     "metadata": {
      "needs_background": "light"
     },
     "output_type": "display_data"
    }
   ],
   "source": [
    "plt.figure(figsize = (6,5))\n",
    "sns.barplot(x='Ticket', y='% of passengers', data= Ticket)\n",
    "plt.title(\"Percent of Ticket\")\n",
    "plt.show()"
   ]
  },
  {
   "cell_type": "markdown",
   "id": "49d915ab",
   "metadata": {
    "papermill": {
     "duration": 0.099303,
     "end_time": "2022-02-25T16:06:38.333111",
     "exception": false,
     "start_time": "2022-02-25T16:06:38.233808",
     "status": "completed"
    },
    "tags": []
   },
   "source": [
    "**BarPlot for \"Cabin\" column**"
   ]
  },
  {
   "cell_type": "code",
   "execution_count": 27,
   "id": "d646a286",
   "metadata": {
    "execution": {
     "iopub.execute_input": "2022-02-25T16:06:38.537749Z",
     "iopub.status.busy": "2022-02-25T16:06:38.536816Z",
     "iopub.status.idle": "2022-02-25T16:06:38.553432Z",
     "shell.execute_reply": "2022-02-25T16:06:38.553979Z",
     "shell.execute_reply.started": "2022-02-25T16:03:25.792461Z"
    },
    "papermill": {
     "duration": 0.120858,
     "end_time": "2022-02-25T16:06:38.554132",
     "exception": false,
     "start_time": "2022-02-25T16:06:38.433274",
     "status": "completed"
    },
    "tags": []
   },
   "outputs": [
    {
     "data": {
      "text/html": [
       "<div>\n",
       "<style scoped>\n",
       "    .dataframe tbody tr th:only-of-type {\n",
       "        vertical-align: middle;\n",
       "    }\n",
       "\n",
       "    .dataframe tbody tr th {\n",
       "        vertical-align: top;\n",
       "    }\n",
       "\n",
       "    .dataframe thead th {\n",
       "        text-align: right;\n",
       "    }\n",
       "</style>\n",
       "<table border=\"1\" class=\"dataframe\">\n",
       "  <thead>\n",
       "    <tr style=\"text-align: right;\">\n",
       "      <th></th>\n",
       "      <th>Cabin</th>\n",
       "      <th>% of passengers</th>\n",
       "    </tr>\n",
       "  </thead>\n",
       "  <tbody>\n",
       "    <tr>\n",
       "      <th>0</th>\n",
       "      <td>B96 B98</td>\n",
       "      <td>1.96</td>\n",
       "    </tr>\n",
       "    <tr>\n",
       "      <th>1</th>\n",
       "      <td>G6</td>\n",
       "      <td>1.96</td>\n",
       "    </tr>\n",
       "    <tr>\n",
       "      <th>2</th>\n",
       "      <td>C23 C25 C27</td>\n",
       "      <td>1.96</td>\n",
       "    </tr>\n",
       "    <tr>\n",
       "      <th>3</th>\n",
       "      <td>C22 C26</td>\n",
       "      <td>1.47</td>\n",
       "    </tr>\n",
       "    <tr>\n",
       "      <th>4</th>\n",
       "      <td>F33</td>\n",
       "      <td>1.47</td>\n",
       "    </tr>\n",
       "    <tr>\n",
       "      <th>...</th>\n",
       "      <td>...</td>\n",
       "      <td>...</td>\n",
       "    </tr>\n",
       "    <tr>\n",
       "      <th>142</th>\n",
       "      <td>E34</td>\n",
       "      <td>0.49</td>\n",
       "    </tr>\n",
       "    <tr>\n",
       "      <th>143</th>\n",
       "      <td>C7</td>\n",
       "      <td>0.49</td>\n",
       "    </tr>\n",
       "    <tr>\n",
       "      <th>144</th>\n",
       "      <td>C54</td>\n",
       "      <td>0.49</td>\n",
       "    </tr>\n",
       "    <tr>\n",
       "      <th>145</th>\n",
       "      <td>E36</td>\n",
       "      <td>0.49</td>\n",
       "    </tr>\n",
       "    <tr>\n",
       "      <th>146</th>\n",
       "      <td>C148</td>\n",
       "      <td>0.49</td>\n",
       "    </tr>\n",
       "  </tbody>\n",
       "</table>\n",
       "<p>147 rows × 2 columns</p>\n",
       "</div>"
      ],
      "text/plain": [
       "           Cabin  % of passengers\n",
       "0        B96 B98             1.96\n",
       "1             G6             1.96\n",
       "2    C23 C25 C27             1.96\n",
       "3        C22 C26             1.47\n",
       "4            F33             1.47\n",
       "..           ...              ...\n",
       "142          E34             0.49\n",
       "143           C7             0.49\n",
       "144          C54             0.49\n",
       "145          E36             0.49\n",
       "146         C148             0.49\n",
       "\n",
       "[147 rows x 2 columns]"
      ]
     },
     "metadata": {},
     "output_type": "display_data"
    }
   ],
   "source": [
    "Cabin = train_cat[\"Cabin\"].value_counts(normalize=True)\n",
    "Cabin = pd.DataFrame(Cabin)\n",
    "\n",
    "Cabin = Cabin.reset_index()\n",
    "\n",
    "## Fixing column names\n",
    "\n",
    "Cabin = Cabin.rename(columns={\"index\":\"Cabin\", \"Cabin\":\"% of passengers\"})\n",
    "\n",
    "Cabin[\"% of passengers\"]= Cabin[\"% of passengers\"]*100\n",
    "\n",
    "Cabin[\"% of passengers\"]= np.round(Cabin[\"% of passengers\"],2)\n",
    "display(Cabin)"
   ]
  },
  {
   "cell_type": "code",
   "execution_count": 28,
   "id": "87709c57",
   "metadata": {
    "execution": {
     "iopub.execute_input": "2022-02-25T16:06:38.754700Z",
     "iopub.status.busy": "2022-02-25T16:06:38.753770Z",
     "iopub.status.idle": "2022-02-25T16:06:40.642392Z",
     "shell.execute_reply": "2022-02-25T16:06:40.642946Z",
     "shell.execute_reply.started": "2022-02-25T16:03:25.817083Z"
    },
    "papermill": {
     "duration": 1.990741,
     "end_time": "2022-02-25T16:06:40.643140",
     "exception": false,
     "start_time": "2022-02-25T16:06:38.652399",
     "status": "completed"
    },
    "tags": []
   },
   "outputs": [
    {
     "data": {
      "image/png": "[encoded data removed]",
      "text/plain": [
       "<Figure size 432x360 with 1 Axes>"
      ]
     },
     "metadata": {
      "needs_background": "light"
     },
     "output_type": "display_data"
    }
   ],
   "source": [
    "plt.figure(figsize = (6,5))\n",
    "sns.barplot(x='Cabin', y='% of passengers', data= Cabin)\n",
    "plt.title(\"Percent of Cabin\")\n",
    "plt.show()"
   ]
  },
  {
   "cell_type": "markdown",
   "id": "13d7b943",
   "metadata": {
    "papermill": {
     "duration": 0.100093,
     "end_time": "2022-02-25T16:06:40.841835",
     "exception": false,
     "start_time": "2022-02-25T16:06:40.741742",
     "status": "completed"
    },
    "tags": []
   },
   "source": [
    "**BarPlot for \"Embarked\" column**"
   ]
  },
  {
   "cell_type": "code",
   "execution_count": 29,
   "id": "e5d30596",
   "metadata": {
    "execution": {
     "iopub.execute_input": "2022-02-25T16:06:41.047843Z",
     "iopub.status.busy": "2022-02-25T16:06:41.046884Z",
     "iopub.status.idle": "2022-02-25T16:06:41.060108Z",
     "shell.execute_reply": "2022-02-25T16:06:41.060641Z",
     "shell.execute_reply.started": "2022-02-25T16:03:27.632987Z"
    },
    "papermill": {
     "duration": 0.118607,
     "end_time": "2022-02-25T16:06:41.060815",
     "exception": false,
     "start_time": "2022-02-25T16:06:40.942208",
     "status": "completed"
    },
    "tags": []
   },
   "outputs": [
    {
     "data": {
      "text/html": [
       "<div>\n",
       "<style scoped>\n",
       "    .dataframe tbody tr th:only-of-type {\n",
       "        vertical-align: middle;\n",
       "    }\n",
       "\n",
       "    .dataframe tbody tr th {\n",
       "        vertical-align: top;\n",
       "    }\n",
       "\n",
       "    .dataframe thead th {\n",
       "        text-align: right;\n",
       "    }\n",
       "</style>\n",
       "<table border=\"1\" class=\"dataframe\">\n",
       "  <thead>\n",
       "    <tr style=\"text-align: right;\">\n",
       "      <th></th>\n",
       "      <th>Embarked</th>\n",
       "      <th>% of passengers</th>\n",
       "    </tr>\n",
       "  </thead>\n",
       "  <tbody>\n",
       "    <tr>\n",
       "      <th>0</th>\n",
       "      <td>S</td>\n",
       "      <td>72.44</td>\n",
       "    </tr>\n",
       "    <tr>\n",
       "      <th>1</th>\n",
       "      <td>C</td>\n",
       "      <td>18.90</td>\n",
       "    </tr>\n",
       "    <tr>\n",
       "      <th>2</th>\n",
       "      <td>Q</td>\n",
       "      <td>8.66</td>\n",
       "    </tr>\n",
       "  </tbody>\n",
       "</table>\n",
       "</div>"
      ],
      "text/plain": [
       "  Embarked  % of passengers\n",
       "0        S            72.44\n",
       "1        C            18.90\n",
       "2        Q             8.66"
      ]
     },
     "metadata": {},
     "output_type": "display_data"
    }
   ],
   "source": [
    "Embarked = train_cat[\"Embarked\"].value_counts(normalize=True)\n",
    "Embarked = pd.DataFrame(Embarked)\n",
    "\n",
    "Embarked = Embarked.reset_index()\n",
    "\n",
    "## Fixing column names\n",
    "\n",
    "Embarked = Embarked.rename(columns={\"index\":\"Embarked\", \"Embarked\":\"% of passengers\"})\n",
    "\n",
    "Embarked[\"% of passengers\"]= Embarked[\"% of passengers\"]*100\n",
    "\n",
    "Embarked[\"% of passengers\"]= np.round(Embarked[\"% of passengers\"],2)\n",
    "display(Embarked)"
   ]
  },
  {
   "cell_type": "code",
   "execution_count": 30,
   "id": "d2c05a1f",
   "metadata": {
    "execution": {
     "iopub.execute_input": "2022-02-25T16:06:41.261562Z",
     "iopub.status.busy": "2022-02-25T16:06:41.260597Z",
     "iopub.status.idle": "2022-02-25T16:06:41.433351Z",
     "shell.execute_reply": "2022-02-25T16:06:41.432733Z",
     "shell.execute_reply.started": "2022-02-25T16:03:27.650108Z"
    },
    "papermill": {
     "duration": 0.274289,
     "end_time": "2022-02-25T16:06:41.433491",
     "exception": false,
     "start_time": "2022-02-25T16:06:41.159202",
     "status": "completed"
    },
    "tags": []
   },
   "outputs": [
    {
     "data": {
      "image/png": "[encoded data removed]",
      "text/plain": [
       "<Figure size 432x360 with 1 Axes>"
      ]
     },
     "metadata": {
      "needs_background": "light"
     },
     "output_type": "display_data"
    }
   ],
   "source": [
    "plt.figure(figsize = (6,5))\n",
    "sns.barplot(x='Embarked', y='% of passengers', data= Embarked)\n",
    "plt.title(\"Percent of Embarkation\")\n",
    "plt.show()"
   ]
  },
  {
   "cell_type": "markdown",
   "id": "b3e6e11f",
   "metadata": {
    "papermill": {
     "duration": 0.100397,
     "end_time": "2022-02-25T16:06:41.643363",
     "exception": false,
     "start_time": "2022-02-25T16:06:41.542966",
     "status": "completed"
    },
    "tags": []
   },
   "source": [
    "The graphs for Cabin and ticket columns are very cluttered. "
   ]
  },
  {
   "cell_type": "markdown",
   "id": "ab3ff3ec",
   "metadata": {
    "papermill": {
     "duration": 0.099093,
     "end_time": "2022-02-25T16:06:41.842340",
     "exception": false,
     "start_time": "2022-02-25T16:06:41.743247",
     "status": "completed"
    },
    "tags": []
   },
   "source": [
    "# Data preparation for ML model"
   ]
  },
  {
   "cell_type": "code",
   "execution_count": 31,
   "id": "236f99dd",
   "metadata": {
    "execution": {
     "iopub.execute_input": "2022-02-25T16:06:42.050907Z",
     "iopub.status.busy": "2022-02-25T16:06:42.049928Z",
     "iopub.status.idle": "2022-02-25T16:06:42.056308Z",
     "shell.execute_reply": "2022-02-25T16:06:42.056904Z",
     "shell.execute_reply.started": "2022-02-25T16:03:27.834909Z"
    },
    "papermill": {
     "duration": 0.112907,
     "end_time": "2022-02-25T16:06:42.057063",
     "exception": false,
     "start_time": "2022-02-25T16:06:41.944156",
     "status": "completed"
    },
    "tags": []
   },
   "outputs": [
    {
     "data": {
      "text/plain": [
       "True"
      ]
     },
     "execution_count": 31,
     "metadata": {},
     "output_type": "execute_result"
    }
   ],
   "source": [
    "train.isnull().values.any()"
   ]
  },
  {
   "cell_type": "markdown",
   "id": "bc282f7a",
   "metadata": {
    "papermill": {
     "duration": 0.099691,
     "end_time": "2022-02-25T16:06:42.259304",
     "exception": false,
     "start_time": "2022-02-25T16:06:42.159613",
     "status": "completed"
    },
    "tags": []
   },
   "source": [
    "From above cell, it is confirmed that there are Null values in the dataset."
   ]
  },
  {
   "cell_type": "code",
   "execution_count": 32,
   "id": "0949e16a",
   "metadata": {
    "execution": {
     "iopub.execute_input": "2022-02-25T16:06:42.465054Z",
     "iopub.status.busy": "2022-02-25T16:06:42.464107Z",
     "iopub.status.idle": "2022-02-25T16:06:42.472313Z",
     "shell.execute_reply": "2022-02-25T16:06:42.472914Z",
     "shell.execute_reply.started": "2022-02-25T16:03:27.845071Z"
    },
    "papermill": {
     "duration": 0.113315,
     "end_time": "2022-02-25T16:06:42.473061",
     "exception": false,
     "start_time": "2022-02-25T16:06:42.359746",
     "status": "completed"
    },
    "tags": []
   },
   "outputs": [
    {
     "data": {
      "text/plain": [
       "PassengerId      0\n",
       "Survived         0\n",
       "Pclass           0\n",
       "Name             0\n",
       "Sex              0\n",
       "Age            177\n",
       "SibSp            0\n",
       "Parch            0\n",
       "Ticket           0\n",
       "Fare             0\n",
       "Cabin          687\n",
       "Embarked         2\n",
       "dtype: int64"
      ]
     },
     "execution_count": 32,
     "metadata": {},
     "output_type": "execute_result"
    }
   ],
   "source": [
    "train.isnull().sum()"
   ]
  },
  {
   "cell_type": "markdown",
   "id": "8ba3620d",
   "metadata": {
    "papermill": {
     "duration": 0.100488,
     "end_time": "2022-02-25T16:06:42.676247",
     "exception": false,
     "start_time": "2022-02-25T16:06:42.575759",
     "status": "completed"
    },
    "tags": []
   },
   "source": [
    "To predict the survival of passengers, all the columns are not needed. I'll drop those columns, for example, PassengerId."
   ]
  },
  {
   "cell_type": "code",
   "execution_count": 33,
   "id": "cbfab60b",
   "metadata": {
    "execution": {
     "iopub.execute_input": "2022-02-25T16:06:42.883777Z",
     "iopub.status.busy": "2022-02-25T16:06:42.882784Z",
     "iopub.status.idle": "2022-02-25T16:06:42.895628Z",
     "shell.execute_reply": "2022-02-25T16:06:42.896237Z",
     "shell.execute_reply.started": "2022-02-25T16:03:27.865761Z"
    },
    "papermill": {
     "duration": 0.119255,
     "end_time": "2022-02-25T16:06:42.896387",
     "exception": false,
     "start_time": "2022-02-25T16:06:42.777132",
     "status": "completed"
    },
    "tags": []
   },
   "outputs": [
    {
     "data": {
      "text/html": [
       "<div>\n",
       "<style scoped>\n",
       "    .dataframe tbody tr th:only-of-type {\n",
       "        vertical-align: middle;\n",
       "    }\n",
       "\n",
       "    .dataframe tbody tr th {\n",
       "        vertical-align: top;\n",
       "    }\n",
       "\n",
       "    .dataframe thead th {\n",
       "        text-align: right;\n",
       "    }\n",
       "</style>\n",
       "<table border=\"1\" class=\"dataframe\">\n",
       "  <thead>\n",
       "    <tr style=\"text-align: right;\">\n",
       "      <th></th>\n",
       "      <th>Survived</th>\n",
       "      <th>Pclass</th>\n",
       "      <th>Sex</th>\n",
       "      <th>Age</th>\n",
       "      <th>Fare</th>\n",
       "    </tr>\n",
       "  </thead>\n",
       "  <tbody>\n",
       "    <tr>\n",
       "      <th>0</th>\n",
       "      <td>0</td>\n",
       "      <td>3</td>\n",
       "      <td>male</td>\n",
       "      <td>22.0</td>\n",
       "      <td>7.2500</td>\n",
       "    </tr>\n",
       "    <tr>\n",
       "      <th>1</th>\n",
       "      <td>1</td>\n",
       "      <td>1</td>\n",
       "      <td>female</td>\n",
       "      <td>38.0</td>\n",
       "      <td>71.2833</td>\n",
       "    </tr>\n",
       "    <tr>\n",
       "      <th>2</th>\n",
       "      <td>1</td>\n",
       "      <td>3</td>\n",
       "      <td>female</td>\n",
       "      <td>26.0</td>\n",
       "      <td>7.9250</td>\n",
       "    </tr>\n",
       "    <tr>\n",
       "      <th>3</th>\n",
       "      <td>1</td>\n",
       "      <td>1</td>\n",
       "      <td>female</td>\n",
       "      <td>35.0</td>\n",
       "      <td>53.1000</td>\n",
       "    </tr>\n",
       "    <tr>\n",
       "      <th>4</th>\n",
       "      <td>0</td>\n",
       "      <td>3</td>\n",
       "      <td>male</td>\n",
       "      <td>35.0</td>\n",
       "      <td>8.0500</td>\n",
       "    </tr>\n",
       "  </tbody>\n",
       "</table>\n",
       "</div>"
      ],
      "text/plain": [
       "   Survived  Pclass     Sex   Age     Fare\n",
       "0         0       3    male  22.0   7.2500\n",
       "1         1       1  female  38.0  71.2833\n",
       "2         1       3  female  26.0   7.9250\n",
       "3         1       1  female  35.0  53.1000\n",
       "4         0       3    male  35.0   8.0500"
      ]
     },
     "execution_count": 33,
     "metadata": {},
     "output_type": "execute_result"
    }
   ],
   "source": [
    "train = train[['Survived','Pclass','Sex','Age','Fare']]\n",
    "train.head()"
   ]
  },
  {
   "cell_type": "code",
   "execution_count": 34,
   "id": "1e60966b",
   "metadata": {
    "execution": {
     "iopub.execute_input": "2022-02-25T16:06:43.105873Z",
     "iopub.status.busy": "2022-02-25T16:06:43.105257Z",
     "iopub.status.idle": "2022-02-25T16:06:43.110012Z",
     "shell.execute_reply": "2022-02-25T16:06:43.110611Z",
     "shell.execute_reply.started": "2022-02-25T16:03:27.890757Z"
    },
    "papermill": {
     "duration": 0.111175,
     "end_time": "2022-02-25T16:06:43.110767",
     "exception": false,
     "start_time": "2022-02-25T16:06:42.999592",
     "status": "completed"
    },
    "tags": []
   },
   "outputs": [
    {
     "data": {
      "text/plain": [
       "Survived      0\n",
       "Pclass        0\n",
       "Sex           0\n",
       "Age         177\n",
       "Fare          0\n",
       "dtype: int64"
      ]
     },
     "execution_count": 34,
     "metadata": {},
     "output_type": "execute_result"
    }
   ],
   "source": [
    "train.isnull().sum()"
   ]
  },
  {
   "cell_type": "code",
   "execution_count": 35,
   "id": "ef56a16e",
   "metadata": {
    "execution": {
     "iopub.execute_input": "2022-02-25T16:06:43.318094Z",
     "iopub.status.busy": "2022-02-25T16:06:43.317408Z",
     "iopub.status.idle": "2022-02-25T16:06:43.325022Z",
     "shell.execute_reply": "2022-02-25T16:06:43.325558Z",
     "shell.execute_reply.started": "2022-02-25T16:03:27.901183Z"
    },
    "papermill": {
     "duration": 0.113554,
     "end_time": "2022-02-25T16:06:43.325715",
     "exception": false,
     "start_time": "2022-02-25T16:06:43.212161",
     "status": "completed"
    },
    "tags": []
   },
   "outputs": [
    {
     "data": {
      "text/plain": [
       "PassengerId      0\n",
       "Pclass           0\n",
       "Name             0\n",
       "Sex              0\n",
       "Age             86\n",
       "SibSp            0\n",
       "Parch            0\n",
       "Ticket           0\n",
       "Fare             1\n",
       "Cabin          327\n",
       "Embarked         0\n",
       "dtype: int64"
      ]
     },
     "execution_count": 35,
     "metadata": {},
     "output_type": "execute_result"
    }
   ],
   "source": [
    "test.isnull().sum()"
   ]
  },
  {
   "cell_type": "code",
   "execution_count": 36,
   "id": "ec00510a",
   "metadata": {
    "execution": {
     "iopub.execute_input": "2022-02-25T16:06:43.538202Z",
     "iopub.status.busy": "2022-02-25T16:06:43.537570Z",
     "iopub.status.idle": "2022-02-25T16:06:43.544366Z",
     "shell.execute_reply": "2022-02-25T16:06:43.544957Z",
     "shell.execute_reply.started": "2022-02-25T16:03:27.919748Z"
    },
    "papermill": {
     "duration": 0.113813,
     "end_time": "2022-02-25T16:06:43.545112",
     "exception": false,
     "start_time": "2022-02-25T16:06:43.431299",
     "status": "completed"
    },
    "tags": []
   },
   "outputs": [
    {
     "data": {
      "text/plain": [
       "Sex\n",
       "female    27.915709\n",
       "male      30.726645\n",
       "Name: Age, dtype: float64"
      ]
     },
     "execution_count": 36,
     "metadata": {},
     "output_type": "execute_result"
    }
   ],
   "source": [
    "train.groupby('Sex')['Age'].mean()"
   ]
  },
  {
   "cell_type": "code",
   "execution_count": 37,
   "id": "a59193e5",
   "metadata": {
    "execution": {
     "iopub.execute_input": "2022-02-25T16:06:43.753962Z",
     "iopub.status.busy": "2022-02-25T16:06:43.753425Z",
     "iopub.status.idle": "2022-02-25T16:06:43.757749Z",
     "shell.execute_reply": "2022-02-25T16:06:43.758309Z",
     "shell.execute_reply.started": "2022-02-25T16:03:27.932454Z"
    },
    "papermill": {
     "duration": 0.110338,
     "end_time": "2022-02-25T16:06:43.758504",
     "exception": false,
     "start_time": "2022-02-25T16:06:43.648166",
     "status": "completed"
    },
    "tags": []
   },
   "outputs": [],
   "source": [
    "test_x = test[['Pclass','Sex','Age','Fare']]"
   ]
  },
  {
   "cell_type": "code",
   "execution_count": 38,
   "id": "34e15452",
   "metadata": {
    "execution": {
     "iopub.execute_input": "2022-02-25T16:06:43.970250Z",
     "iopub.status.busy": "2022-02-25T16:06:43.969316Z",
     "iopub.status.idle": "2022-02-25T16:06:43.976745Z",
     "shell.execute_reply": "2022-02-25T16:06:43.977315Z",
     "shell.execute_reply.started": "2022-02-25T16:03:27.942617Z"
    },
    "papermill": {
     "duration": 0.115194,
     "end_time": "2022-02-25T16:06:43.977470",
     "exception": false,
     "start_time": "2022-02-25T16:06:43.862276",
     "status": "completed"
    },
    "tags": []
   },
   "outputs": [
    {
     "data": {
      "text/plain": [
       "Sex\n",
       "female    30.272362\n",
       "male      30.272732\n",
       "Name: Age, dtype: float64"
      ]
     },
     "execution_count": 38,
     "metadata": {},
     "output_type": "execute_result"
    }
   ],
   "source": [
    "test_x.groupby('Sex')['Age'].mean()"
   ]
  },
  {
   "cell_type": "markdown",
   "id": "1e1c2622",
   "metadata": {
    "papermill": {
     "duration": 0.103997,
     "end_time": "2022-02-25T16:06:44.186605",
     "exception": false,
     "start_time": "2022-02-25T16:06:44.082608",
     "status": "completed"
    },
    "tags": []
   },
   "source": [
    "**Filling missing values in \"Age\" column with mean values according to gender.**"
   ]
  },
  {
   "cell_type": "code",
   "execution_count": 39,
   "id": "6d2b7bf6",
   "metadata": {
    "execution": {
     "iopub.execute_input": "2022-02-25T16:06:44.401668Z",
     "iopub.status.busy": "2022-02-25T16:06:44.400707Z",
     "iopub.status.idle": "2022-02-25T16:06:44.404704Z",
     "shell.execute_reply": "2022-02-25T16:06:44.404091Z",
     "shell.execute_reply.started": "2022-02-25T16:03:27.961459Z"
    },
    "papermill": {
     "duration": 0.115015,
     "end_time": "2022-02-25T16:06:44.404856",
     "exception": false,
     "start_time": "2022-02-25T16:06:44.289841",
     "status": "completed"
    },
    "tags": []
   },
   "outputs": [],
   "source": [
    "train['Age']=train.groupby(\"Sex\")['Age'].transform(lambda x: x.fillna(x.mean()))"
   ]
  },
  {
   "cell_type": "code",
   "execution_count": 40,
   "id": "fc0835eb",
   "metadata": {
    "execution": {
     "iopub.execute_input": "2022-02-25T16:06:44.621560Z",
     "iopub.status.busy": "2022-02-25T16:06:44.618130Z",
     "iopub.status.idle": "2022-02-25T16:06:44.624482Z",
     "shell.execute_reply": "2022-02-25T16:06:44.624001Z",
     "shell.execute_reply.started": "2022-02-25T16:03:27.974753Z"
    },
    "papermill": {
     "duration": 0.116079,
     "end_time": "2022-02-25T16:06:44.624621",
     "exception": false,
     "start_time": "2022-02-25T16:06:44.508542",
     "status": "completed"
    },
    "tags": []
   },
   "outputs": [],
   "source": [
    "test_x['Age']=test_x.groupby(\"Sex\")['Age'].transform(lambda x: x.fillna(x.mean()))\n",
    "test_x['Fare'].fillna(test_x['Fare'].mean(), inplace = True)"
   ]
  },
  {
   "cell_type": "code",
   "execution_count": 41,
   "id": "964e5734",
   "metadata": {
    "execution": {
     "iopub.execute_input": "2022-02-25T16:06:44.840533Z",
     "iopub.status.busy": "2022-02-25T16:06:44.839530Z",
     "iopub.status.idle": "2022-02-25T16:06:44.843555Z",
     "shell.execute_reply": "2022-02-25T16:06:44.842941Z",
     "shell.execute_reply.started": "2022-02-25T16:03:27.987489Z"
    },
    "papermill": {
     "duration": 0.115345,
     "end_time": "2022-02-25T16:06:44.843684",
     "exception": false,
     "start_time": "2022-02-25T16:06:44.728339",
     "status": "completed"
    },
    "tags": []
   },
   "outputs": [
    {
     "data": {
      "text/plain": [
       "Survived    0\n",
       "Pclass      0\n",
       "Sex         0\n",
       "Age         0\n",
       "Fare        0\n",
       "dtype: int64"
      ]
     },
     "execution_count": 41,
     "metadata": {},
     "output_type": "execute_result"
    }
   ],
   "source": [
    "train.isnull().sum()"
   ]
  },
  {
   "cell_type": "code",
   "execution_count": 42,
   "id": "dd787b4b",
   "metadata": {
    "execution": {
     "iopub.execute_input": "2022-02-25T16:06:45.063611Z",
     "iopub.status.busy": "2022-02-25T16:06:45.062681Z",
     "iopub.status.idle": "2022-02-25T16:06:45.066700Z",
     "shell.execute_reply": "2022-02-25T16:06:45.066145Z",
     "shell.execute_reply.started": "2022-02-25T16:03:28.003160Z"
    },
    "papermill": {
     "duration": 0.116803,
     "end_time": "2022-02-25T16:06:45.066856",
     "exception": false,
     "start_time": "2022-02-25T16:06:44.950053",
     "status": "completed"
    },
    "tags": []
   },
   "outputs": [
    {
     "data": {
      "text/plain": [
       "Pclass    0\n",
       "Sex       0\n",
       "Age       0\n",
       "Fare      0\n",
       "dtype: int64"
      ]
     },
     "execution_count": 42,
     "metadata": {},
     "output_type": "execute_result"
    }
   ],
   "source": [
    "test_x.isnull().sum()"
   ]
  },
  {
   "cell_type": "markdown",
   "id": "b4194809",
   "metadata": {
    "papermill": {
     "duration": 0.103101,
     "end_time": "2022-02-25T16:06:45.275963",
     "exception": false,
     "start_time": "2022-02-25T16:06:45.172862",
     "status": "completed"
    },
    "tags": []
   },
   "source": [
    "# Changing categorical columns to numerical "
   ]
  },
  {
   "cell_type": "code",
   "execution_count": 43,
   "id": "b58f3e9e",
   "metadata": {
    "execution": {
     "iopub.execute_input": "2022-02-25T16:06:45.491378Z",
     "iopub.status.busy": "2022-02-25T16:06:45.490295Z",
     "iopub.status.idle": "2022-02-25T16:06:45.492982Z",
     "shell.execute_reply": "2022-02-25T16:06:45.492358Z",
     "shell.execute_reply.started": "2022-02-25T16:03:28.019060Z"
    },
    "papermill": {
     "duration": 0.112272,
     "end_time": "2022-02-25T16:06:45.493121",
     "exception": false,
     "start_time": "2022-02-25T16:06:45.380849",
     "status": "completed"
    },
    "tags": []
   },
   "outputs": [],
   "source": [
    "le = LabelEncoder()"
   ]
  },
  {
   "cell_type": "code",
   "execution_count": 44,
   "id": "ad56e3de",
   "metadata": {
    "execution": {
     "iopub.execute_input": "2022-02-25T16:06:45.706666Z",
     "iopub.status.busy": "2022-02-25T16:06:45.705707Z",
     "iopub.status.idle": "2022-02-25T16:06:45.716834Z",
     "shell.execute_reply": "2022-02-25T16:06:45.717408Z",
     "shell.execute_reply.started": "2022-02-25T16:03:28.029330Z"
    },
    "papermill": {
     "duration": 0.11955,
     "end_time": "2022-02-25T16:06:45.717569",
     "exception": false,
     "start_time": "2022-02-25T16:06:45.598019",
     "status": "completed"
    },
    "tags": []
   },
   "outputs": [
    {
     "data": {
      "text/html": [
       "<div>\n",
       "<style scoped>\n",
       "    .dataframe tbody tr th:only-of-type {\n",
       "        vertical-align: middle;\n",
       "    }\n",
       "\n",
       "    .dataframe tbody tr th {\n",
       "        vertical-align: top;\n",
       "    }\n",
       "\n",
       "    .dataframe thead th {\n",
       "        text-align: right;\n",
       "    }\n",
       "</style>\n",
       "<table border=\"1\" class=\"dataframe\">\n",
       "  <thead>\n",
       "    <tr style=\"text-align: right;\">\n",
       "      <th></th>\n",
       "      <th>Survived</th>\n",
       "      <th>Pclass</th>\n",
       "      <th>Sex</th>\n",
       "      <th>Age</th>\n",
       "      <th>Fare</th>\n",
       "    </tr>\n",
       "  </thead>\n",
       "  <tbody>\n",
       "    <tr>\n",
       "      <th>0</th>\n",
       "      <td>0</td>\n",
       "      <td>3</td>\n",
       "      <td>1</td>\n",
       "      <td>22.0</td>\n",
       "      <td>7.2500</td>\n",
       "    </tr>\n",
       "    <tr>\n",
       "      <th>1</th>\n",
       "      <td>1</td>\n",
       "      <td>1</td>\n",
       "      <td>0</td>\n",
       "      <td>38.0</td>\n",
       "      <td>71.2833</td>\n",
       "    </tr>\n",
       "    <tr>\n",
       "      <th>2</th>\n",
       "      <td>1</td>\n",
       "      <td>3</td>\n",
       "      <td>0</td>\n",
       "      <td>26.0</td>\n",
       "      <td>7.9250</td>\n",
       "    </tr>\n",
       "    <tr>\n",
       "      <th>3</th>\n",
       "      <td>1</td>\n",
       "      <td>1</td>\n",
       "      <td>0</td>\n",
       "      <td>35.0</td>\n",
       "      <td>53.1000</td>\n",
       "    </tr>\n",
       "    <tr>\n",
       "      <th>4</th>\n",
       "      <td>0</td>\n",
       "      <td>3</td>\n",
       "      <td>1</td>\n",
       "      <td>35.0</td>\n",
       "      <td>8.0500</td>\n",
       "    </tr>\n",
       "  </tbody>\n",
       "</table>\n",
       "</div>"
      ],
      "text/plain": [
       "   Survived  Pclass  Sex   Age     Fare\n",
       "0         0       3    1  22.0   7.2500\n",
       "1         1       1    0  38.0  71.2833\n",
       "2         1       3    0  26.0   7.9250\n",
       "3         1       1    0  35.0  53.1000\n",
       "4         0       3    1  35.0   8.0500"
      ]
     },
     "execution_count": 44,
     "metadata": {},
     "output_type": "execute_result"
    }
   ],
   "source": [
    "train['Sex'] = le.fit_transform(train.Sex)\n",
    "train.head()"
   ]
  },
  {
   "cell_type": "code",
   "execution_count": 45,
   "id": "396a33fe",
   "metadata": {
    "execution": {
     "iopub.execute_input": "2022-02-25T16:06:45.930718Z",
     "iopub.status.busy": "2022-02-25T16:06:45.929726Z",
     "iopub.status.idle": "2022-02-25T16:06:45.934841Z",
     "shell.execute_reply": "2022-02-25T16:06:45.935364Z",
     "shell.execute_reply.started": "2022-02-25T16:03:28.051293Z"
    },
    "papermill": {
     "duration": 0.113436,
     "end_time": "2022-02-25T16:06:45.935511",
     "exception": false,
     "start_time": "2022-02-25T16:06:45.822075",
     "status": "completed"
    },
    "tags": []
   },
   "outputs": [],
   "source": [
    "X = train[['Pclass','Sex','Age','Fare']]\n",
    "y = train['Survived']"
   ]
  },
  {
   "cell_type": "code",
   "execution_count": 46,
   "id": "6b8d971d",
   "metadata": {
    "execution": {
     "iopub.execute_input": "2022-02-25T16:06:46.152446Z",
     "iopub.status.busy": "2022-02-25T16:06:46.151216Z",
     "iopub.status.idle": "2022-02-25T16:06:46.154673Z",
     "shell.execute_reply": "2022-02-25T16:06:46.155143Z",
     "shell.execute_reply.started": "2022-02-25T16:03:28.064534Z"
    },
    "papermill": {
     "duration": 0.113634,
     "end_time": "2022-02-25T16:06:46.155307",
     "exception": false,
     "start_time": "2022-02-25T16:06:46.041673",
     "status": "completed"
    },
    "tags": []
   },
   "outputs": [],
   "source": [
    "#test_x = test[['Pclass','Sex','Age','Fare']]"
   ]
  },
  {
   "cell_type": "code",
   "execution_count": 47,
   "id": "34bdad7f",
   "metadata": {
    "execution": {
     "iopub.execute_input": "2022-02-25T16:06:46.380431Z",
     "iopub.status.busy": "2022-02-25T16:06:46.379675Z",
     "iopub.status.idle": "2022-02-25T16:06:46.382935Z",
     "shell.execute_reply": "2022-02-25T16:06:46.383414Z",
     "shell.execute_reply.started": "2022-02-25T16:03:28.078479Z"
    },
    "papermill": {
     "duration": 0.121531,
     "end_time": "2022-02-25T16:06:46.383570",
     "exception": false,
     "start_time": "2022-02-25T16:06:46.262039",
     "status": "completed"
    },
    "tags": []
   },
   "outputs": [
    {
     "data": {
      "text/html": [
       "<div>\n",
       "<style scoped>\n",
       "    .dataframe tbody tr th:only-of-type {\n",
       "        vertical-align: middle;\n",
       "    }\n",
       "\n",
       "    .dataframe tbody tr th {\n",
       "        vertical-align: top;\n",
       "    }\n",
       "\n",
       "    .dataframe thead th {\n",
       "        text-align: right;\n",
       "    }\n",
       "</style>\n",
       "<table border=\"1\" class=\"dataframe\">\n",
       "  <thead>\n",
       "    <tr style=\"text-align: right;\">\n",
       "      <th></th>\n",
       "      <th>Pclass</th>\n",
       "      <th>Sex</th>\n",
       "      <th>Age</th>\n",
       "      <th>Fare</th>\n",
       "    </tr>\n",
       "  </thead>\n",
       "  <tbody>\n",
       "    <tr>\n",
       "      <th>0</th>\n",
       "      <td>3</td>\n",
       "      <td>1</td>\n",
       "      <td>34.5</td>\n",
       "      <td>7.8292</td>\n",
       "    </tr>\n",
       "    <tr>\n",
       "      <th>1</th>\n",
       "      <td>3</td>\n",
       "      <td>0</td>\n",
       "      <td>47.0</td>\n",
       "      <td>7.0000</td>\n",
       "    </tr>\n",
       "    <tr>\n",
       "      <th>2</th>\n",
       "      <td>2</td>\n",
       "      <td>1</td>\n",
       "      <td>62.0</td>\n",
       "      <td>9.6875</td>\n",
       "    </tr>\n",
       "    <tr>\n",
       "      <th>3</th>\n",
       "      <td>3</td>\n",
       "      <td>1</td>\n",
       "      <td>27.0</td>\n",
       "      <td>8.6625</td>\n",
       "    </tr>\n",
       "    <tr>\n",
       "      <th>4</th>\n",
       "      <td>3</td>\n",
       "      <td>0</td>\n",
       "      <td>22.0</td>\n",
       "      <td>12.2875</td>\n",
       "    </tr>\n",
       "  </tbody>\n",
       "</table>\n",
       "</div>"
      ],
      "text/plain": [
       "   Pclass  Sex   Age     Fare\n",
       "0       3    1  34.5   7.8292\n",
       "1       3    0  47.0   7.0000\n",
       "2       2    1  62.0   9.6875\n",
       "3       3    1  27.0   8.6625\n",
       "4       3    0  22.0  12.2875"
      ]
     },
     "execution_count": 47,
     "metadata": {},
     "output_type": "execute_result"
    }
   ],
   "source": [
    "test_x['Sex'] = le.fit_transform(test_x.Sex)\n",
    "test_x.head()"
   ]
  },
  {
   "cell_type": "code",
   "execution_count": 48,
   "id": "21c52837",
   "metadata": {
    "execution": {
     "iopub.execute_input": "2022-02-25T16:06:46.600859Z",
     "iopub.status.busy": "2022-02-25T16:06:46.599883Z",
     "iopub.status.idle": "2022-02-25T16:06:46.607816Z",
     "shell.execute_reply": "2022-02-25T16:06:46.608353Z",
     "shell.execute_reply.started": "2022-02-25T16:03:28.099561Z"
    },
    "papermill": {
     "duration": 0.118047,
     "end_time": "2022-02-25T16:06:46.608515",
     "exception": false,
     "start_time": "2022-02-25T16:06:46.490468",
     "status": "completed"
    },
    "tags": []
   },
   "outputs": [
    {
     "data": {
      "text/plain": [
       "Pclass    0\n",
       "Sex       0\n",
       "Age       0\n",
       "Fare      0\n",
       "dtype: int64"
      ]
     },
     "execution_count": 48,
     "metadata": {},
     "output_type": "execute_result"
    }
   ],
   "source": [
    "X.isnull().sum()"
   ]
  },
  {
   "cell_type": "code",
   "execution_count": 49,
   "id": "2b42a9be",
   "metadata": {
    "execution": {
     "iopub.execute_input": "2022-02-25T16:06:46.827231Z",
     "iopub.status.busy": "2022-02-25T16:06:46.825643Z",
     "iopub.status.idle": "2022-02-25T16:06:46.830436Z",
     "shell.execute_reply": "2022-02-25T16:06:46.829852Z",
     "shell.execute_reply.started": "2022-02-25T16:03:28.112206Z"
    },
    "papermill": {
     "duration": 0.114325,
     "end_time": "2022-02-25T16:06:46.830575",
     "exception": false,
     "start_time": "2022-02-25T16:06:46.716250",
     "status": "completed"
    },
    "tags": []
   },
   "outputs": [
    {
     "data": {
      "text/plain": [
       "(891, 4)"
      ]
     },
     "execution_count": 49,
     "metadata": {},
     "output_type": "execute_result"
    }
   ],
   "source": [
    "X.shape"
   ]
  },
  {
   "cell_type": "code",
   "execution_count": 50,
   "id": "1aed4ca5",
   "metadata": {
    "execution": {
     "iopub.execute_input": "2022-02-25T16:06:47.049428Z",
     "iopub.status.busy": "2022-02-25T16:06:47.048863Z",
     "iopub.status.idle": "2022-02-25T16:06:47.051350Z",
     "shell.execute_reply": "2022-02-25T16:06:47.051945Z",
     "shell.execute_reply.started": "2022-02-25T16:03:28.120742Z"
    },
    "papermill": {
     "duration": 0.114167,
     "end_time": "2022-02-25T16:06:47.052098",
     "exception": false,
     "start_time": "2022-02-25T16:06:46.937931",
     "status": "completed"
    },
    "tags": []
   },
   "outputs": [],
   "source": [
    "#y.shape"
   ]
  },
  {
   "cell_type": "markdown",
   "id": "be5b8a77",
   "metadata": {
    "papermill": {
     "duration": 0.105569,
     "end_time": "2022-02-25T16:06:47.264954",
     "exception": false,
     "start_time": "2022-02-25T16:06:47.159385",
     "status": "completed"
    },
    "tags": []
   },
   "source": [
    "# Spliting test train data"
   ]
  },
  {
   "cell_type": "code",
   "execution_count": 51,
   "id": "84558b27",
   "metadata": {
    "execution": {
     "iopub.execute_input": "2022-02-25T16:06:47.483013Z",
     "iopub.status.busy": "2022-02-25T16:06:47.482348Z",
     "iopub.status.idle": "2022-02-25T16:06:47.495241Z",
     "shell.execute_reply": "2022-02-25T16:06:47.495823Z",
     "shell.execute_reply.started": "2022-02-25T16:03:28.135827Z"
    },
    "papermill": {
     "duration": 0.126694,
     "end_time": "2022-02-25T16:06:47.496009",
     "exception": false,
     "start_time": "2022-02-25T16:06:47.369315",
     "status": "completed"
    },
    "tags": []
   },
   "outputs": [
    {
     "data": {
      "text/html": [
       "<div>\n",
       "<style scoped>\n",
       "    .dataframe tbody tr th:only-of-type {\n",
       "        vertical-align: middle;\n",
       "    }\n",
       "\n",
       "    .dataframe tbody tr th {\n",
       "        vertical-align: top;\n",
       "    }\n",
       "\n",
       "    .dataframe thead th {\n",
       "        text-align: right;\n",
       "    }\n",
       "</style>\n",
       "<table border=\"1\" class=\"dataframe\">\n",
       "  <thead>\n",
       "    <tr style=\"text-align: right;\">\n",
       "      <th></th>\n",
       "      <th>PassengerId</th>\n",
       "      <th>Survived</th>\n",
       "    </tr>\n",
       "  </thead>\n",
       "  <tbody>\n",
       "    <tr>\n",
       "      <th>0</th>\n",
       "      <td>892</td>\n",
       "      <td>0</td>\n",
       "    </tr>\n",
       "    <tr>\n",
       "      <th>1</th>\n",
       "      <td>893</td>\n",
       "      <td>1</td>\n",
       "    </tr>\n",
       "    <tr>\n",
       "      <th>2</th>\n",
       "      <td>894</td>\n",
       "      <td>0</td>\n",
       "    </tr>\n",
       "    <tr>\n",
       "      <th>3</th>\n",
       "      <td>895</td>\n",
       "      <td>0</td>\n",
       "    </tr>\n",
       "    <tr>\n",
       "      <th>4</th>\n",
       "      <td>896</td>\n",
       "      <td>1</td>\n",
       "    </tr>\n",
       "  </tbody>\n",
       "</table>\n",
       "</div>"
      ],
      "text/plain": [
       "   PassengerId  Survived\n",
       "0          892         0\n",
       "1          893         1\n",
       "2          894         0\n",
       "3          895         0\n",
       "4          896         1"
      ]
     },
     "execution_count": 51,
     "metadata": {},
     "output_type": "execute_result"
    }
   ],
   "source": [
    "gender_sub_data = pd.read_csv('/kaggle/input/titanic/gender_submission.csv')\n",
    "gender_sub_data.head()"
   ]
  },
  {
   "cell_type": "code",
   "execution_count": 52,
   "id": "cf8aa0ac",
   "metadata": {
    "execution": {
     "iopub.execute_input": "2022-02-25T16:06:47.712578Z",
     "iopub.status.busy": "2022-02-25T16:06:47.711950Z",
     "iopub.status.idle": "2022-02-25T16:06:47.715205Z",
     "shell.execute_reply": "2022-02-25T16:06:47.715702Z",
     "shell.execute_reply.started": "2022-02-25T16:03:28.153977Z"
    },
    "papermill": {
     "duration": 0.112546,
     "end_time": "2022-02-25T16:06:47.715868",
     "exception": false,
     "start_time": "2022-02-25T16:06:47.603322",
     "status": "completed"
    },
    "tags": []
   },
   "outputs": [],
   "source": [
    "from sklearn.preprocessing import StandardScaler"
   ]
  },
  {
   "cell_type": "code",
   "execution_count": 53,
   "id": "f403c642",
   "metadata": {
    "execution": {
     "iopub.execute_input": "2022-02-25T16:06:47.931299Z",
     "iopub.status.busy": "2022-02-25T16:06:47.930666Z",
     "iopub.status.idle": "2022-02-25T16:06:47.975573Z",
     "shell.execute_reply": "2022-02-25T16:06:47.976138Z",
     "shell.execute_reply.started": "2022-02-25T16:03:28.161433Z"
    },
    "papermill": {
     "duration": 0.154873,
     "end_time": "2022-02-25T16:06:47.976305",
     "exception": false,
     "start_time": "2022-02-25T16:06:47.821432",
     "status": "completed"
    },
    "tags": []
   },
   "outputs": [],
   "source": [
    "from sklearn.model_selection import train_test_split\n",
    "\n",
    "#X_train, X_test, y_train, y_test = train_test_split(X, y, test_size=0.3, random_state=8)\n",
    "\n",
    "y_train = train[\"Survived\"]\n",
    "y_test = gender_sub_data[\"Survived\"]"
   ]
  },
  {
   "cell_type": "code",
   "execution_count": 54,
   "id": "62c2f32c",
   "metadata": {
    "execution": {
     "iopub.execute_input": "2022-02-25T16:06:48.199473Z",
     "iopub.status.busy": "2022-02-25T16:06:48.198517Z",
     "iopub.status.idle": "2022-02-25T16:06:48.200736Z",
     "shell.execute_reply": "2022-02-25T16:06:48.201236Z",
     "shell.execute_reply.started": "2022-02-25T16:03:28.172957Z"
    },
    "papermill": {
     "duration": 0.115775,
     "end_time": "2022-02-25T16:06:48.201398",
     "exception": false,
     "start_time": "2022-02-25T16:06:48.085623",
     "status": "completed"
    },
    "tags": []
   },
   "outputs": [],
   "source": [
    "#X_test.shape"
   ]
  },
  {
   "cell_type": "code",
   "execution_count": 55,
   "id": "190566af",
   "metadata": {
    "execution": {
     "iopub.execute_input": "2022-02-25T16:06:48.419472Z",
     "iopub.status.busy": "2022-02-25T16:06:48.418721Z",
     "iopub.status.idle": "2022-02-25T16:06:48.425998Z",
     "shell.execute_reply": "2022-02-25T16:06:48.426621Z",
     "shell.execute_reply.started": "2022-02-25T16:03:28.184422Z"
    },
    "papermill": {
     "duration": 0.119086,
     "end_time": "2022-02-25T16:06:48.426801",
     "exception": false,
     "start_time": "2022-02-25T16:06:48.307715",
     "status": "completed"
    },
    "tags": []
   },
   "outputs": [],
   "source": [
    "sc = StandardScaler()\n",
    "X = sc.fit_transform(X)\n",
    "test_x = sc.fit_transform(test_x)"
   ]
  },
  {
   "cell_type": "markdown",
   "id": "d4229447",
   "metadata": {
    "papermill": {
     "duration": 0.10547,
     "end_time": "2022-02-25T16:06:48.638332",
     "exception": false,
     "start_time": "2022-02-25T16:06:48.532862",
     "status": "completed"
    },
    "tags": []
   },
   "source": [
    "# Training model"
   ]
  },
  {
   "cell_type": "code",
   "execution_count": 56,
   "id": "1ac621e2",
   "metadata": {
    "execution": {
     "iopub.execute_input": "2022-02-25T16:06:48.857109Z",
     "iopub.status.busy": "2022-02-25T16:06:48.856188Z",
     "iopub.status.idle": "2022-02-25T16:06:49.015315Z",
     "shell.execute_reply": "2022-02-25T16:06:49.014615Z",
     "shell.execute_reply.started": "2022-02-25T16:03:28.209033Z"
    },
    "papermill": {
     "duration": 0.269414,
     "end_time": "2022-02-25T16:06:49.015456",
     "exception": false,
     "start_time": "2022-02-25T16:06:48.746042",
     "status": "completed"
    },
    "tags": []
   },
   "outputs": [
    {
     "data": {
      "text/plain": [
       "DecisionTreeClassifier()"
      ]
     },
     "execution_count": 56,
     "metadata": {},
     "output_type": "execute_result"
    }
   ],
   "source": [
    "from sklearn.tree import DecisionTreeClassifier\n",
    "\n",
    "model = DecisionTreeClassifier()\n",
    "model.fit(X,y_train)"
   ]
  },
  {
   "cell_type": "code",
   "execution_count": 57,
   "id": "78224804",
   "metadata": {
    "execution": {
     "iopub.execute_input": "2022-02-25T16:06:49.236200Z",
     "iopub.status.busy": "2022-02-25T16:06:49.235367Z",
     "iopub.status.idle": "2022-02-25T16:06:49.237627Z",
     "shell.execute_reply": "2022-02-25T16:06:49.238199Z",
     "shell.execute_reply.started": "2022-02-25T16:03:28.222075Z"
    },
    "papermill": {
     "duration": 0.114664,
     "end_time": "2022-02-25T16:06:49.238349",
     "exception": false,
     "start_time": "2022-02-25T16:06:49.123685",
     "status": "completed"
    },
    "tags": []
   },
   "outputs": [],
   "source": [
    "y_pred = model.predict(test_x)"
   ]
  },
  {
   "cell_type": "code",
   "execution_count": 58,
   "id": "81dc4bfb",
   "metadata": {
    "execution": {
     "iopub.execute_input": "2022-02-25T16:06:49.459231Z",
     "iopub.status.busy": "2022-02-25T16:06:49.458335Z",
     "iopub.status.idle": "2022-02-25T16:06:49.462029Z",
     "shell.execute_reply": "2022-02-25T16:06:49.462621Z",
     "shell.execute_reply.started": "2022-02-25T16:03:28.232201Z"
    },
    "papermill": {
     "duration": 0.116287,
     "end_time": "2022-02-25T16:06:49.462795",
     "exception": false,
     "start_time": "2022-02-25T16:06:49.346508",
     "status": "completed"
    },
    "tags": []
   },
   "outputs": [],
   "source": [
    "from sklearn.metrics import mean_squared_error, confusion_matrix, classification_report, r2_score"
   ]
  },
  {
   "cell_type": "code",
   "execution_count": 59,
   "id": "dff812de",
   "metadata": {
    "execution": {
     "iopub.execute_input": "2022-02-25T16:06:49.679677Z",
     "iopub.status.busy": "2022-02-25T16:06:49.678732Z",
     "iopub.status.idle": "2022-02-25T16:06:49.685306Z",
     "shell.execute_reply": "2022-02-25T16:06:49.684712Z",
     "shell.execute_reply.started": "2022-02-25T16:03:28.245249Z"
    },
    "papermill": {
     "duration": 0.115494,
     "end_time": "2022-02-25T16:06:49.685441",
     "exception": false,
     "start_time": "2022-02-25T16:06:49.569947",
     "status": "completed"
    },
    "tags": []
   },
   "outputs": [
    {
     "name": "stdout",
     "output_type": "stream",
     "text": [
      "RMSE :  0.4482822077654243\n"
     ]
    }
   ],
   "source": [
    "RMSE = np.sqrt(mean_squared_error(y_test, y_pred))\n",
    "print('RMSE : ',RMSE) # RMSE : Root Mean Square Error"
   ]
  },
  {
   "cell_type": "markdown",
   "id": "ea38b449",
   "metadata": {
    "papermill": {
     "duration": 0.107464,
     "end_time": "2022-02-25T16:06:49.901562",
     "exception": false,
     "start_time": "2022-02-25T16:06:49.794098",
     "status": "completed"
    },
    "tags": []
   },
   "source": [
    "# Accuracy on test data"
   ]
  },
  {
   "cell_type": "code",
   "execution_count": 60,
   "id": "b568feb6",
   "metadata": {
    "execution": {
     "iopub.execute_input": "2022-02-25T16:06:50.123309Z",
     "iopub.status.busy": "2022-02-25T16:06:50.122690Z",
     "iopub.status.idle": "2022-02-25T16:06:50.130450Z",
     "shell.execute_reply": "2022-02-25T16:06:50.130909Z",
     "shell.execute_reply.started": "2022-02-25T16:03:28.260246Z"
    },
    "papermill": {
     "duration": 0.120775,
     "end_time": "2022-02-25T16:06:50.131071",
     "exception": false,
     "start_time": "2022-02-25T16:06:50.010296",
     "status": "completed"
    },
    "tags": []
   },
   "outputs": [
    {
     "name": "stdout",
     "output_type": "stream",
     "text": [
      "              precision    recall  f1-score   support\n",
      "\n",
      "           0       0.83      0.86      0.84       266\n",
      "           1       0.74      0.70      0.72       152\n",
      "\n",
      "    accuracy                           0.80       418\n",
      "   macro avg       0.78      0.78      0.78       418\n",
      "weighted avg       0.80      0.80      0.80       418\n",
      "\n"
     ]
    }
   ],
   "source": [
    "print(classification_report(y_test, y_pred))"
   ]
  },
  {
   "cell_type": "code",
   "execution_count": 61,
   "id": "2d4e9911",
   "metadata": {
    "execution": {
     "iopub.execute_input": "2022-02-25T16:06:50.348737Z",
     "iopub.status.busy": "2022-02-25T16:06:50.348131Z",
     "iopub.status.idle": "2022-02-25T16:06:50.350524Z",
     "shell.execute_reply": "2022-02-25T16:06:50.349981Z",
     "shell.execute_reply.started": "2022-02-25T16:03:28.275834Z"
    },
    "papermill": {
     "duration": 0.113316,
     "end_time": "2022-02-25T16:06:50.350709",
     "exception": false,
     "start_time": "2022-02-25T16:06:50.237393",
     "status": "completed"
    },
    "tags": []
   },
   "outputs": [],
   "source": [
    "#from sklearn.metrics import accuracy_score\n",
    "\n",
    "#predictions_test = model.predict(test_x)\n",
    "#accuracy_score(test_x, predictions_test)"
   ]
  },
  {
   "cell_type": "markdown",
   "id": "f13578b6",
   "metadata": {
    "papermill": {
     "duration": 0.10692,
     "end_time": "2022-02-25T16:06:50.568083",
     "exception": false,
     "start_time": "2022-02-25T16:06:50.461163",
     "status": "completed"
    },
    "tags": []
   },
   "source": [
    "# Accuracy on train data"
   ]
  },
  {
   "cell_type": "code",
   "execution_count": 62,
   "id": "636ea25e",
   "metadata": {
    "execution": {
     "iopub.execute_input": "2022-02-25T16:06:50.789104Z",
     "iopub.status.busy": "2022-02-25T16:06:50.788354Z",
     "iopub.status.idle": "2022-02-25T16:06:50.790911Z",
     "shell.execute_reply": "2022-02-25T16:06:50.790367Z",
     "shell.execute_reply.started": "2022-02-25T16:03:28.281434Z"
    },
    "papermill": {
     "duration": 0.114722,
     "end_time": "2022-02-25T16:06:50.791052",
     "exception": false,
     "start_time": "2022-02-25T16:06:50.676330",
     "status": "completed"
    },
    "tags": []
   },
   "outputs": [],
   "source": [
    "#predictions_train = model.predict(X_train)\n",
    "#accuracy_score(y_train,predictions_train)"
   ]
  },
  {
   "cell_type": "markdown",
   "id": "8b892c63",
   "metadata": {
    "papermill": {
     "duration": 0.10998,
     "end_time": "2022-02-25T16:06:51.011901",
     "exception": false,
     "start_time": "2022-02-25T16:06:50.901921",
     "status": "completed"
    },
    "tags": []
   },
   "source": [
    "**It is clear that the model has overfitted to the training data. There's a huge difference in accuracy on test data and train data.**"
   ]
  },
  {
   "cell_type": "markdown",
   "id": "d2b53cd9",
   "metadata": {
    "papermill": {
     "duration": 0.108399,
     "end_time": "2022-02-25T16:06:51.230666",
     "exception": false,
     "start_time": "2022-02-25T16:06:51.122267",
     "status": "completed"
    },
    "tags": []
   },
   "source": [
    "# Final Decision Tree"
   ]
  },
  {
   "cell_type": "code",
   "execution_count": 63,
   "id": "4a26d215",
   "metadata": {
    "execution": {
     "iopub.execute_input": "2022-02-25T16:06:51.455071Z",
     "iopub.status.busy": "2022-02-25T16:06:51.454438Z",
     "iopub.status.idle": "2022-02-25T16:07:09.734331Z",
     "shell.execute_reply": "2022-02-25T16:07:09.733778Z",
     "shell.execute_reply.started": "2022-02-25T16:03:28.295356Z"
    },
    "papermill": {
     "duration": 18.394626,
     "end_time": "2022-02-25T16:07:09.734478",
     "exception": false,
     "start_time": "2022-02-25T16:06:51.339852",
     "status": "completed"
    },
    "tags": []
   },
   "outputs": [
    {
     "data": {
      "image/png": "[encoded data removed]",
      "text/plain": [
       "<Figure size 1080x720 with 1 Axes>"
      ]
     },
     "metadata": {
      "needs_background": "light"
     },
     "output_type": "display_data"
    }
   ],
   "source": [
    "from sklearn import tree\n",
    "plt.figure(figsize=(15,10))\n",
    "tree.plot_tree(model,filled=True)\n",
    "plt.show()"
   ]
  },
  {
   "cell_type": "code",
   "execution_count": 64,
   "id": "c976148f",
   "metadata": {
    "execution": {
     "iopub.execute_input": "2022-02-25T16:07:09.965004Z",
     "iopub.status.busy": "2022-02-25T16:07:09.963905Z",
     "iopub.status.idle": "2022-02-25T16:07:09.967453Z",
     "shell.execute_reply": "2022-02-25T16:07:09.968058Z",
     "shell.execute_reply.started": "2022-02-25T16:03:48.221776Z"
    },
    "papermill": {
     "duration": 0.120243,
     "end_time": "2022-02-25T16:07:09.968221",
     "exception": false,
     "start_time": "2022-02-25T16:07:09.847978",
     "status": "completed"
    },
    "tags": []
   },
   "outputs": [],
   "source": [
    "#y_pred = model.predict(X_test)\n",
    "#y_pred.shape"
   ]
  },
  {
   "cell_type": "code",
   "execution_count": null,
   "id": "5a349c63",
   "metadata": {
    "papermill": {
     "duration": 0.113239,
     "end_time": "2022-02-25T16:07:10.194586",
     "exception": false,
     "start_time": "2022-02-25T16:07:10.081347",
     "status": "completed"
    },
    "tags": []
   },
   "outputs": [],
   "source": []
  },
  {
   "cell_type": "code",
   "execution_count": 65,
   "id": "e8985a23",
   "metadata": {
    "execution": {
     "iopub.execute_input": "2022-02-25T16:07:10.424152Z",
     "iopub.status.busy": "2022-02-25T16:07:10.423362Z",
     "iopub.status.idle": "2022-02-25T16:07:10.426083Z",
     "shell.execute_reply": "2022-02-25T16:07:10.425570Z",
     "shell.execute_reply.started": "2022-02-25T16:03:48.227993Z"
    },
    "papermill": {
     "duration": 0.118794,
     "end_time": "2022-02-25T16:07:10.426226",
     "exception": false,
     "start_time": "2022-02-25T16:07:10.307432",
     "status": "completed"
    },
    "tags": []
   },
   "outputs": [],
   "source": [
    "#test.PassengerId.shape"
   ]
  },
  {
   "cell_type": "code",
   "execution_count": 66,
   "id": "9bb56bd9",
   "metadata": {
    "execution": {
     "iopub.execute_input": "2022-02-25T16:07:10.656727Z",
     "iopub.status.busy": "2022-02-25T16:07:10.656116Z",
     "iopub.status.idle": "2022-02-25T16:07:10.669009Z",
     "shell.execute_reply": "2022-02-25T16:07:10.669609Z",
     "shell.execute_reply.started": "2022-02-25T16:03:48.241178Z"
    },
    "papermill": {
     "duration": 0.130917,
     "end_time": "2022-02-25T16:07:10.669812",
     "exception": false,
     "start_time": "2022-02-25T16:07:10.538895",
     "status": "completed"
    },
    "tags": []
   },
   "outputs": [],
   "source": [
    "test = pd.read_csv('/kaggle/input/titanic/test.csv')\n",
    "final_data = {'PassengerId': test.PassengerId,\"Survived\": y_pred}\n",
    "submission = pd.DataFrame(data=final_data)\n",
    "\n",
    "submission.to_csv('submission.csv', index=False)"
   ]
  },
  {
   "cell_type": "code",
   "execution_count": 67,
   "id": "ea0129ad",
   "metadata": {
    "execution": {
     "iopub.execute_input": "2022-02-25T16:07:10.897726Z",
     "iopub.status.busy": "2022-02-25T16:07:10.896706Z",
     "iopub.status.idle": "2022-02-25T16:07:10.900102Z",
     "shell.execute_reply": "2022-02-25T16:07:10.900636Z",
     "shell.execute_reply.started": "2022-02-25T16:03:48.264674Z"
    },
    "papermill": {
     "duration": 0.11942,
     "end_time": "2022-02-25T16:07:10.900811",
     "exception": false,
     "start_time": "2022-02-25T16:07:10.781391",
     "status": "completed"
    },
    "tags": []
   },
   "outputs": [],
   "source": [
    "# I had help from a few places,\n",
    "# https://www.kaggle.com/kenjee/titanic-project-example\n",
    "# https://github.com/AnshulSaini17/Decision-Trees/blob/main/Decision_trees_implementation.ipynb\n",
    "# https://www.kaggle.com/bartoszdorobek/titanic-desicion-tree-classifier"
   ]
  }
 ],
 "metadata": {
  "kernelspec": {
   "display_name": "Python 3",
   "language": "python",
   "name": "python3"
  },
  "language_info": {
   "codemirror_mode": {
    "name": "ipython",
    "version": 3
   },
   "file_extension": ".py",
   "mimetype": "text/x-python",
   "name": "python",
   "nbconvert_exporter": "python",
   "pygments_lexer": "ipython3",
   "version": "3.7.12"
  },
  "papermill": {
   "default_parameters": {},
   "duration": 61.558752,
   "end_time": "2022-02-25T16:07:11.722119",
   "environment_variables": {},
   "exception": null,
   "input_path": "__notebook__.ipynb",
   "output_path": "__notebook__.ipynb",
   "parameters": {},
   "start_time": "2022-02-25T16:06:10.163367",
   "version": "2.3.3"
  }
 },
 "nbformat": 4,
 "nbformat_minor": 5
}
