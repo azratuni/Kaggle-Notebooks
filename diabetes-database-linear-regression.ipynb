{
 "cells": [
  {
   "cell_type": "markdown",
   "id": "1a1f0f04",
   "metadata": {
    "papermill": {
     "duration": 0.029424,
     "end_time": "2022-04-05T12:18:36.591613",
     "exception": false,
     "start_time": "2022-04-05T12:18:36.562189",
     "status": "completed"
    },
    "tags": []
   },
   "source": [
    "# Diabetes Database || Linear Regression\n",
    "\n",
    "I will try to predict whether a patient has diabetes or not using Linear Regression. I have a previous notebook on EDA and data preprocessing so I won't go into much details in this notebook. \n",
    "\n",
    "Previous notebook: https://www.kaggle.com/code/azratuni/diabetes-database-eda"
   ]
  },
  {
   "cell_type": "code",
   "execution_count": 1,
   "id": "f1d51038",
   "metadata": {
    "_cell_guid": "b1076dfc-b9ad-4769-8c92-a6c4dae69d19",
    "_uuid": "8f2839f25d086af736a60e9eeb907d3b93b6e0e5",
    "execution": {
     "iopub.execute_input": "2022-04-05T12:18:36.646648Z",
     "iopub.status.busy": "2022-04-05T12:18:36.645569Z",
     "iopub.status.idle": "2022-04-05T12:18:37.698167Z",
     "shell.execute_reply": "2022-04-05T12:18:37.698612Z",
     "shell.execute_reply.started": "2022-04-05T12:01:31.805991Z"
    },
    "papermill": {
     "duration": 1.076051,
     "end_time": "2022-04-05T12:18:37.698919",
     "exception": false,
     "start_time": "2022-04-05T12:18:36.622868",
     "status": "completed"
    },
    "tags": []
   },
   "outputs": [
    {
     "name": "stdout",
     "output_type": "stream",
     "text": [
      "/kaggle/input/pima-indians-diabetes-database/diabetes.csv\n"
     ]
    }
   ],
   "source": [
    "import numpy as np # linear algebra\n",
    "import pandas as pd # data processing, CSV file I/O (e.g. pd.read_csv)\n",
    "import matplotlib.pyplot as plt\n",
    "%matplotlib inline\n",
    "import seaborn as sns\n",
    "\n",
    "# Input data files are available in the read-only \"../input/\" directory\n",
    "# For example, running this (by clicking run or pressing Shift+Enter) will list all files under the input directory\n",
    "\n",
    "import os\n",
    "for dirname, _, filenames in os.walk('/kaggle/input'):\n",
    "    for filename in filenames:\n",
    "        print(os.path.join(dirname, filename))\n",
    "\n",
    "import warnings\n",
    "warnings.simplefilter(\"ignore\")"
   ]
  },
  {
   "cell_type": "code",
   "execution_count": 2,
   "id": "a943c64e",
   "metadata": {
    "execution": {
     "iopub.execute_input": "2022-04-05T12:18:37.740957Z",
     "iopub.status.busy": "2022-04-05T12:18:37.740316Z",
     "iopub.status.idle": "2022-04-05T12:18:37.757625Z",
     "shell.execute_reply": "2022-04-05T12:18:37.757076Z",
     "shell.execute_reply.started": "2022-04-05T11:58:12.387702Z"
    },
    "papermill": {
     "duration": 0.039498,
     "end_time": "2022-04-05T12:18:37.757757",
     "exception": false,
     "start_time": "2022-04-05T12:18:37.718259",
     "status": "completed"
    },
    "tags": []
   },
   "outputs": [],
   "source": [
    "df = pd.read_csv('../input/pima-indians-diabetes-database/diabetes.csv')"
   ]
  },
  {
   "cell_type": "code",
   "execution_count": 3,
   "id": "3bb06285",
   "metadata": {
    "execution": {
     "iopub.execute_input": "2022-04-05T12:18:37.810406Z",
     "iopub.status.busy": "2022-04-05T12:18:37.805943Z",
     "iopub.status.idle": "2022-04-05T12:18:37.813723Z",
     "shell.execute_reply": "2022-04-05T12:18:37.813058Z",
     "shell.execute_reply.started": "2022-04-05T11:58:43.049955Z"
    },
    "papermill": {
     "duration": 0.036714,
     "end_time": "2022-04-05T12:18:37.813926",
     "exception": false,
     "start_time": "2022-04-05T12:18:37.777212",
     "status": "completed"
    },
    "tags": []
   },
   "outputs": [
    {
     "name": "stdout",
     "output_type": "stream",
     "text": [
      "Pregnancies                 111\n",
      "Glucose                       5\n",
      "BloodPressure                35\n",
      "SkinThickness               227\n",
      "Insulin                     374\n",
      "BMI                          11\n",
      "DiabetesPedigreeFunction      0\n",
      "Age                           0\n",
      "Outcome                     500\n",
      "dtype: int64\n"
     ]
    }
   ],
   "source": [
    "print((df[df.columns] == 0).sum())"
   ]
  },
  {
   "cell_type": "code",
   "execution_count": 4,
   "id": "7387f0e8",
   "metadata": {
    "execution": {
     "iopub.execute_input": "2022-04-05T12:18:37.856336Z",
     "iopub.status.busy": "2022-04-05T12:18:37.855751Z",
     "iopub.status.idle": "2022-04-05T12:18:37.867046Z",
     "shell.execute_reply": "2022-04-05T12:18:37.867475Z",
     "shell.execute_reply.started": "2022-04-05T11:58:58.317269Z"
    },
    "papermill": {
     "duration": 0.033362,
     "end_time": "2022-04-05T12:18:37.867650",
     "exception": false,
     "start_time": "2022-04-05T12:18:37.834288",
     "status": "completed"
    },
    "tags": []
   },
   "outputs": [],
   "source": [
    "df[['Glucose','BloodPressure','SkinThickness','Insulin','BMI']] = df[['Glucose','BloodPressure','SkinThickness','Insulin','BMI']].replace(0,np.NaN)"
   ]
  },
  {
   "cell_type": "code",
   "execution_count": 5,
   "id": "4932d947",
   "metadata": {
    "execution": {
     "iopub.execute_input": "2022-04-05T12:18:37.918240Z",
     "iopub.status.busy": "2022-04-05T12:18:37.917246Z",
     "iopub.status.idle": "2022-04-05T12:18:37.922826Z",
     "shell.execute_reply": "2022-04-05T12:18:37.923357Z",
     "shell.execute_reply.started": "2022-04-05T11:59:30.366771Z"
    },
    "papermill": {
     "duration": 0.035886,
     "end_time": "2022-04-05T12:18:37.923551",
     "exception": false,
     "start_time": "2022-04-05T12:18:37.887665",
     "status": "completed"
    },
    "tags": []
   },
   "outputs": [],
   "source": [
    "df['Glucose'].fillna(df['Glucose'].median(), inplace =True)\n",
    "\n",
    "df['BloodPressure'].fillna(df['BloodPressure'].median(), inplace =True)\n",
    "\n",
    "df['BMI'].fillna(df['BMI'].median(), inplace =True)"
   ]
  },
  {
   "cell_type": "code",
   "execution_count": 6,
   "id": "dc29e55a",
   "metadata": {
    "execution": {
     "iopub.execute_input": "2022-04-05T12:18:37.982955Z",
     "iopub.status.busy": "2022-04-05T12:18:37.982210Z",
     "iopub.status.idle": "2022-04-05T12:18:38.022012Z",
     "shell.execute_reply": "2022-04-05T12:18:38.022476Z",
     "shell.execute_reply.started": "2022-04-05T11:59:42.693015Z"
    },
    "papermill": {
     "duration": 0.074035,
     "end_time": "2022-04-05T12:18:38.022640",
     "exception": false,
     "start_time": "2022-04-05T12:18:37.948605",
     "status": "completed"
    },
    "tags": []
   },
   "outputs": [],
   "source": [
    "by_Glucose_Age_Insulin_Grp = df.groupby(['Glucose'])\n",
    "\n",
    "def fill_Insulin(series):\n",
    "    return series.fillna(series.median())\n",
    "df['Insulin'] = by_Glucose_Age_Insulin_Grp['Insulin'].transform(fill_Insulin)"
   ]
  },
  {
   "cell_type": "code",
   "execution_count": 7,
   "id": "3caf0e57",
   "metadata": {
    "execution": {
     "iopub.execute_input": "2022-04-05T12:18:38.066706Z",
     "iopub.status.busy": "2022-04-05T12:18:38.065745Z",
     "iopub.status.idle": "2022-04-05T12:18:38.068053Z",
     "shell.execute_reply": "2022-04-05T12:18:38.068453Z",
     "shell.execute_reply.started": "2022-04-05T11:59:54.334221Z"
    },
    "papermill": {
     "duration": 0.026956,
     "end_time": "2022-04-05T12:18:38.068620",
     "exception": false,
     "start_time": "2022-04-05T12:18:38.041664",
     "status": "completed"
    },
    "tags": []
   },
   "outputs": [],
   "source": [
    "df['Insulin'] = df['Insulin'].fillna(df['Insulin'].mean())"
   ]
  },
  {
   "cell_type": "code",
   "execution_count": 8,
   "id": "8215ed25",
   "metadata": {
    "execution": {
     "iopub.execute_input": "2022-04-05T12:18:38.112438Z",
     "iopub.status.busy": "2022-04-05T12:18:38.111809Z",
     "iopub.status.idle": "2022-04-05T12:18:38.162039Z",
     "shell.execute_reply": "2022-04-05T12:18:38.162459Z",
     "shell.execute_reply.started": "2022-04-05T12:00:07.036486Z"
    },
    "papermill": {
     "duration": 0.075006,
     "end_time": "2022-04-05T12:18:38.162633",
     "exception": false,
     "start_time": "2022-04-05T12:18:38.087627",
     "status": "completed"
    },
    "tags": []
   },
   "outputs": [],
   "source": [
    "by_BMI_Insulin = df.groupby(['BMI'])\n",
    "\n",
    "def fill_Skinthickness(series):\n",
    "    return series.fillna(series.mean())\n",
    "df['SkinThickness'] = by_BMI_Insulin['SkinThickness'].transform(fill_Skinthickness)"
   ]
  },
  {
   "cell_type": "code",
   "execution_count": 9,
   "id": "c3ada5de",
   "metadata": {
    "execution": {
     "iopub.execute_input": "2022-04-05T12:18:38.204152Z",
     "iopub.status.busy": "2022-04-05T12:18:38.203205Z",
     "iopub.status.idle": "2022-04-05T12:18:38.207410Z",
     "shell.execute_reply": "2022-04-05T12:18:38.207852Z",
     "shell.execute_reply.started": "2022-04-05T12:00:19.38375Z"
    },
    "papermill": {
     "duration": 0.02642,
     "end_time": "2022-04-05T12:18:38.208026",
     "exception": false,
     "start_time": "2022-04-05T12:18:38.181606",
     "status": "completed"
    },
    "tags": []
   },
   "outputs": [],
   "source": [
    "df['SkinThickness'].fillna(df['SkinThickness'].mean(),inplace= True)"
   ]
  },
  {
   "cell_type": "code",
   "execution_count": 10,
   "id": "b57009d6",
   "metadata": {
    "execution": {
     "iopub.execute_input": "2022-04-05T12:18:38.250757Z",
     "iopub.status.busy": "2022-04-05T12:18:38.250201Z",
     "iopub.status.idle": "2022-04-05T12:18:38.258659Z",
     "shell.execute_reply": "2022-04-05T12:18:38.258221Z",
     "shell.execute_reply.started": "2022-04-05T12:00:30.181375Z"
    },
    "papermill": {
     "duration": 0.031941,
     "end_time": "2022-04-05T12:18:38.258817",
     "exception": false,
     "start_time": "2022-04-05T12:18:38.226876",
     "status": "completed"
    },
    "tags": []
   },
   "outputs": [
    {
     "data": {
      "text/plain": [
       "Pregnancies                 0\n",
       "Glucose                     0\n",
       "BloodPressure               0\n",
       "SkinThickness               0\n",
       "Insulin                     0\n",
       "BMI                         0\n",
       "DiabetesPedigreeFunction    0\n",
       "Age                         0\n",
       "Outcome                     0\n",
       "dtype: int64"
      ]
     },
     "execution_count": 10,
     "metadata": {},
     "output_type": "execute_result"
    }
   ],
   "source": [
    "df.isnull().sum()"
   ]
  },
  {
   "cell_type": "code",
   "execution_count": 11,
   "id": "f622a2e0",
   "metadata": {
    "execution": {
     "iopub.execute_input": "2022-04-05T12:18:38.304437Z",
     "iopub.status.busy": "2022-04-05T12:18:38.302529Z",
     "iopub.status.idle": "2022-04-05T12:18:38.307201Z",
     "shell.execute_reply": "2022-04-05T12:18:38.307660Z",
     "shell.execute_reply.started": "2022-04-05T12:02:33.149917Z"
    },
    "papermill": {
     "duration": 0.029665,
     "end_time": "2022-04-05T12:18:38.307844",
     "exception": false,
     "start_time": "2022-04-05T12:18:38.278179",
     "status": "completed"
    },
    "tags": []
   },
   "outputs": [
    {
     "data": {
      "text/plain": [
       "Index(['Pregnancies', 'Glucose', 'BloodPressure', 'SkinThickness', 'Insulin',\n",
       "       'BMI', 'DiabetesPedigreeFunction', 'Age', 'Outcome'],\n",
       "      dtype='object')"
      ]
     },
     "execution_count": 11,
     "metadata": {},
     "output_type": "execute_result"
    }
   ],
   "source": [
    "df.columns"
   ]
  },
  {
   "cell_type": "code",
   "execution_count": 12,
   "id": "3ed26ca4",
   "metadata": {
    "execution": {
     "iopub.execute_input": "2022-04-05T12:18:38.350634Z",
     "iopub.status.busy": "2022-04-05T12:18:38.350056Z",
     "iopub.status.idle": "2022-04-05T12:18:38.354328Z",
     "shell.execute_reply": "2022-04-05T12:18:38.354814Z",
     "shell.execute_reply.started": "2022-04-05T12:04:04.383759Z"
    },
    "papermill": {
     "duration": 0.027433,
     "end_time": "2022-04-05T12:18:38.354982",
     "exception": false,
     "start_time": "2022-04-05T12:18:38.327549",
     "status": "completed"
    },
    "tags": []
   },
   "outputs": [],
   "source": [
    "x = df[['Pregnancies', 'Glucose', 'BloodPressure', 'SkinThickness', 'Insulin',\n",
    "        'BMI', 'DiabetesPedigreeFunction', 'Age']]"
   ]
  },
  {
   "cell_type": "code",
   "execution_count": 13,
   "id": "1828d7c3",
   "metadata": {
    "execution": {
     "iopub.execute_input": "2022-04-05T12:18:38.398964Z",
     "iopub.status.busy": "2022-04-05T12:18:38.398391Z",
     "iopub.status.idle": "2022-04-05T12:18:38.402286Z",
     "shell.execute_reply": "2022-04-05T12:18:38.402865Z",
     "shell.execute_reply.started": "2022-04-05T12:04:19.475043Z"
    },
    "papermill": {
     "duration": 0.027479,
     "end_time": "2022-04-05T12:18:38.403030",
     "exception": false,
     "start_time": "2022-04-05T12:18:38.375551",
     "status": "completed"
    },
    "tags": []
   },
   "outputs": [],
   "source": [
    "y = df[['Outcome']]"
   ]
  },
  {
   "cell_type": "code",
   "execution_count": 14,
   "id": "3cd31ccc",
   "metadata": {
    "execution": {
     "iopub.execute_input": "2022-04-05T12:18:38.446741Z",
     "iopub.status.busy": "2022-04-05T12:18:38.445224Z",
     "iopub.status.idle": "2022-04-05T12:18:38.634562Z",
     "shell.execute_reply": "2022-04-05T12:18:38.634032Z",
     "shell.execute_reply.started": "2022-04-05T12:06:28.647392Z"
    },
    "papermill": {
     "duration": 0.211831,
     "end_time": "2022-04-05T12:18:38.634702",
     "exception": false,
     "start_time": "2022-04-05T12:18:38.422871",
     "status": "completed"
    },
    "tags": []
   },
   "outputs": [],
   "source": [
    "from sklearn.model_selection import train_test_split\n"
   ]
  },
  {
   "cell_type": "code",
   "execution_count": 15,
   "id": "859440da",
   "metadata": {
    "execution": {
     "iopub.execute_input": "2022-04-05T12:18:38.680936Z",
     "iopub.status.busy": "2022-04-05T12:18:38.679852Z",
     "iopub.status.idle": "2022-04-05T12:18:38.683461Z",
     "shell.execute_reply": "2022-04-05T12:18:38.683933Z",
     "shell.execute_reply.started": "2022-04-05T12:06:52.433472Z"
    },
    "papermill": {
     "duration": 0.029526,
     "end_time": "2022-04-05T12:18:38.684102",
     "exception": false,
     "start_time": "2022-04-05T12:18:38.654576",
     "status": "completed"
    },
    "tags": []
   },
   "outputs": [],
   "source": [
    "x_train, x_test, y_train, y_test = train_test_split(x, y, test_size = 0.3)\n"
   ]
  },
  {
   "cell_type": "code",
   "execution_count": 16,
   "id": "21a1e696",
   "metadata": {
    "execution": {
     "iopub.execute_input": "2022-04-05T12:18:38.727224Z",
     "iopub.status.busy": "2022-04-05T12:18:38.726641Z",
     "iopub.status.idle": "2022-04-05T12:18:38.824030Z",
     "shell.execute_reply": "2022-04-05T12:18:38.824536Z",
     "shell.execute_reply.started": "2022-04-05T12:07:40.079536Z"
    },
    "papermill": {
     "duration": 0.121113,
     "end_time": "2022-04-05T12:18:38.824711",
     "exception": false,
     "start_time": "2022-04-05T12:18:38.703598",
     "status": "completed"
    },
    "tags": []
   },
   "outputs": [
    {
     "name": "stdout",
     "output_type": "stream",
     "text": [
      "[[ 0.01975456  0.00702524 -0.0004374  -0.00281216 -0.00022962  0.01594471\n",
      "   0.11192827  0.00170581]]\n"
     ]
    }
   ],
   "source": [
    "from sklearn.linear_model import LinearRegression\n",
    "\n",
    "model = LinearRegression()\n",
    "model.fit(x_train, y_train)\n",
    "print(model.coef_)\n"
   ]
  },
  {
   "cell_type": "code",
   "execution_count": 17,
   "id": "a09f516e",
   "metadata": {
    "execution": {
     "iopub.execute_input": "2022-04-05T12:18:38.870498Z",
     "iopub.status.busy": "2022-04-05T12:18:38.869693Z",
     "iopub.status.idle": "2022-04-05T12:18:38.873394Z",
     "shell.execute_reply": "2022-04-05T12:18:38.872561Z",
     "shell.execute_reply.started": "2022-04-05T12:08:08.080177Z"
    },
    "papermill": {
     "duration": 0.028527,
     "end_time": "2022-04-05T12:18:38.873573",
     "exception": false,
     "start_time": "2022-04-05T12:18:38.845046",
     "status": "completed"
    },
    "tags": []
   },
   "outputs": [
    {
     "name": "stdout",
     "output_type": "stream",
     "text": [
      "[-1.06290518]\n"
     ]
    }
   ],
   "source": [
    "print(model.intercept_)\n"
   ]
  },
  {
   "cell_type": "code",
   "execution_count": 18,
   "id": "266842c6",
   "metadata": {
    "execution": {
     "iopub.execute_input": "2022-04-05T12:18:38.920206Z",
     "iopub.status.busy": "2022-04-05T12:18:38.919615Z",
     "iopub.status.idle": "2022-04-05T12:18:38.924548Z",
     "shell.execute_reply": "2022-04-05T12:18:38.925251Z",
     "shell.execute_reply.started": "2022-04-05T12:09:53.640519Z"
    },
    "papermill": {
     "duration": 0.028505,
     "end_time": "2022-04-05T12:18:38.925450",
     "exception": false,
     "start_time": "2022-04-05T12:18:38.896945",
     "status": "completed"
    },
    "tags": []
   },
   "outputs": [],
   "source": [
    "predictions = model.predict(x_test)\n"
   ]
  },
  {
   "cell_type": "code",
   "execution_count": 19,
   "id": "3f239668",
   "metadata": {
    "execution": {
     "iopub.execute_input": "2022-04-05T12:18:38.969736Z",
     "iopub.status.busy": "2022-04-05T12:18:38.969200Z",
     "iopub.status.idle": "2022-04-05T12:18:39.191853Z",
     "shell.execute_reply": "2022-04-05T12:18:39.191312Z",
     "shell.execute_reply.started": "2022-04-05T12:10:11.330238Z"
    },
    "papermill": {
     "duration": 0.245687,
     "end_time": "2022-04-05T12:18:39.192009",
     "exception": false,
     "start_time": "2022-04-05T12:18:38.946322",
     "status": "completed"
    },
    "tags": []
   },
   "outputs": [
    {
     "data": {
      "text/plain": [
       "<matplotlib.collections.PathCollection at 0x7fe18e18db50>"
      ]
     },
     "execution_count": 19,
     "metadata": {},
     "output_type": "execute_result"
    },
    {
     "data": {
      "image/png": "[encoded data removed]",
      "text/plain": [
       "<Figure size 432x288 with 1 Axes>"
      ]
     },
     "metadata": {
      "needs_background": "light"
     },
     "output_type": "display_data"
    }
   ],
   "source": [
    "plt.scatter(y_test, predictions)\n"
   ]
  },
  {
   "cell_type": "code",
   "execution_count": 20,
   "id": "7027be05",
   "metadata": {
    "execution": {
     "iopub.execute_input": "2022-04-05T12:18:39.238862Z",
     "iopub.status.busy": "2022-04-05T12:18:39.237882Z",
     "iopub.status.idle": "2022-04-05T12:18:39.441652Z",
     "shell.execute_reply": "2022-04-05T12:18:39.441153Z",
     "shell.execute_reply.started": "2022-04-05T12:10:54.52658Z"
    },
    "papermill": {
     "duration": 0.22823,
     "end_time": "2022-04-05T12:18:39.441819",
     "exception": false,
     "start_time": "2022-04-05T12:18:39.213589",
     "status": "completed"
    },
    "tags": []
   },
   "outputs": [
    {
     "data": {
      "text/plain": [
       "(array([ 6., 16., 39., 52., 40., 24., 12., 23., 15.,  4.]),\n",
       " array([-0.82055976, -0.6363695 , -0.45217925, -0.26798899, -0.08379873,\n",
       "         0.10039153,  0.28458179,  0.46877204,  0.6529623 ,  0.83715256,\n",
       "         1.02134282]),\n",
       " <BarContainer object of 10 artists>)"
      ]
     },
     "execution_count": 20,
     "metadata": {},
     "output_type": "execute_result"
    },
    {
     "data": {
      "image/png": "[encoded data removed]",
      "text/plain": [
       "<Figure size 432x288 with 1 Axes>"
      ]
     },
     "metadata": {
      "needs_background": "light"
     },
     "output_type": "display_data"
    }
   ],
   "source": [
    "plt.hist(y_test - predictions)"
   ]
  },
  {
   "cell_type": "markdown",
   "id": "34a4bf5d",
   "metadata": {
    "papermill": {
     "duration": 0.022012,
     "end_time": "2022-04-05T12:18:39.485852",
     "exception": false,
     "start_time": "2022-04-05T12:18:39.463840",
     "status": "completed"
    },
    "tags": []
   },
   "source": [
    "# Mean Absolute Error (MAE)"
   ]
  },
  {
   "cell_type": "code",
   "execution_count": 21,
   "id": "bb7495d8",
   "metadata": {
    "execution": {
     "iopub.execute_input": "2022-04-05T12:18:39.536146Z",
     "iopub.status.busy": "2022-04-05T12:18:39.535474Z",
     "iopub.status.idle": "2022-04-05T12:18:39.540318Z",
     "shell.execute_reply": "2022-04-05T12:18:39.540886Z",
     "shell.execute_reply.started": "2022-04-05T12:12:55.630644Z"
    },
    "papermill": {
     "duration": 0.032689,
     "end_time": "2022-04-05T12:18:39.541048",
     "exception": false,
     "start_time": "2022-04-05T12:18:39.508359",
     "status": "completed"
    },
    "tags": []
   },
   "outputs": [
    {
     "data": {
      "text/plain": [
       "0.3204813953420487"
      ]
     },
     "execution_count": 21,
     "metadata": {},
     "output_type": "execute_result"
    }
   ],
   "source": [
    "from sklearn import metrics\n",
    "metrics.mean_absolute_error(y_test, predictions)\n"
   ]
  },
  {
   "cell_type": "markdown",
   "id": "2d6380eb",
   "metadata": {
    "papermill": {
     "duration": 0.022113,
     "end_time": "2022-04-05T12:18:39.585532",
     "exception": false,
     "start_time": "2022-04-05T12:18:39.563419",
     "status": "completed"
    },
    "tags": []
   },
   "source": [
    "# Mean Squared Error (MSE)"
   ]
  },
  {
   "cell_type": "code",
   "execution_count": 22,
   "id": "ba02470f",
   "metadata": {
    "execution": {
     "iopub.execute_input": "2022-04-05T12:18:39.633939Z",
     "iopub.status.busy": "2022-04-05T12:18:39.633266Z",
     "iopub.status.idle": "2022-04-05T12:18:39.639729Z",
     "shell.execute_reply": "2022-04-05T12:18:39.640289Z",
     "shell.execute_reply.started": "2022-04-05T12:14:13.631062Z"
    },
    "papermill": {
     "duration": 0.03236,
     "end_time": "2022-04-05T12:18:39.640463",
     "exception": false,
     "start_time": "2022-04-05T12:18:39.608103",
     "status": "completed"
    },
    "tags": []
   },
   "outputs": [
    {
     "data": {
      "text/plain": [
       "0.15352734233237866"
      ]
     },
     "execution_count": 22,
     "metadata": {},
     "output_type": "execute_result"
    }
   ],
   "source": [
    "metrics.mean_squared_error(y_test, predictions)\n"
   ]
  },
  {
   "cell_type": "code",
   "execution_count": null,
   "id": "b2322491",
   "metadata": {
    "papermill": {
     "duration": 0.022535,
     "end_time": "2022-04-05T12:18:39.686058",
     "exception": false,
     "start_time": "2022-04-05T12:18:39.663523",
     "status": "completed"
    },
    "tags": []
   },
   "outputs": [],
   "source": []
  }
 ],
 "metadata": {
  "kernelspec": {
   "display_name": "Python 3",
   "language": "python",
   "name": "python3"
  },
  "language_info": {
   "codemirror_mode": {
    "name": "ipython",
    "version": 3
   },
   "file_extension": ".py",
   "mimetype": "text/x-python",
   "name": "python",
   "nbconvert_exporter": "python",
   "pygments_lexer": "ipython3",
   "version": "3.7.12"
  },
  "papermill": {
   "default_parameters": {},
   "duration": 12.589408,
   "end_time": "2022-04-05T12:18:40.418878",
   "environment_variables": {},
   "exception": null,
   "input_path": "__notebook__.ipynb",
   "output_path": "__notebook__.ipynb",
   "parameters": {},
   "start_time": "2022-04-05T12:18:27.829470",
   "version": "2.3.3"
  }
 },
 "nbformat": 4,
 "nbformat_minor": 5
}
