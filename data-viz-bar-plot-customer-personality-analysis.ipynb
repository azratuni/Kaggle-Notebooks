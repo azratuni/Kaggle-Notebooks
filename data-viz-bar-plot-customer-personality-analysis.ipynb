{
 "cells": [
  {
   "cell_type": "code",
   "execution_count": 1,
   "id": "ff31feee",
   "metadata": {
    "_cell_guid": "b1076dfc-b9ad-4769-8c92-a6c4dae69d19",
    "_uuid": "8f2839f25d086af736a60e9eeb907d3b93b6e0e5",
    "execution": {
     "iopub.execute_input": "2022-03-02T14:17:28.677141Z",
     "iopub.status.busy": "2022-03-02T14:17:28.676461Z",
     "iopub.status.idle": "2022-03-02T14:17:29.753218Z",
     "shell.execute_reply": "2022-03-02T14:17:29.752698Z",
     "shell.execute_reply.started": "2022-03-02T14:15:46.299794Z"
    },
    "papermill": {
     "duration": 1.106831,
     "end_time": "2022-03-02T14:17:29.753416",
     "exception": false,
     "start_time": "2022-03-02T14:17:28.646585",
     "status": "completed"
    },
    "tags": []
   },
   "outputs": [
    {
     "name": "stdout",
     "output_type": "stream",
     "text": [
      "/kaggle/input/customer-personality-analysis/marketing_campaign.csv\n"
     ]
    }
   ],
   "source": [
    "# This Python 3 environment comes with many helpful analytics libraries installed\n",
    "# It is defined by the kaggle/python Docker image: https://github.com/kaggle/docker-python\n",
    "# For example, here's several helpful packages to load\n",
    "\n",
    "import numpy as np # linear algebra\n",
    "import pandas as pd\n",
    "import matplotlib.pyplot as plt\n",
    "import seaborn as sns\n",
    "\n",
    "# Input data files are available in the read-only \"../input/\" directory\n",
    "# For example, running this (by clicking run or pressing Shift+Enter) will list all files under the input directory\n",
    "\n",
    "import os\n",
    "for dirname, _, filenames in os.walk('/kaggle/input'):\n",
    "    for filename in filenames:\n",
    "        print(os.path.join(dirname, filename))\n",
    "\n",
    "# You can write up to 20GB to the current directory (/kaggle/working/) that gets preserved as output when you create a version using \"Save & Run All\" \n",
    "# You can also write temporary files to /kaggle/temp/, but they won't be saved outside of the current session"
   ]
  },
  {
   "cell_type": "code",
   "execution_count": 2,
   "id": "c6ce1499",
   "metadata": {
    "execution": {
     "iopub.execute_input": "2022-03-02T14:17:29.794930Z",
     "iopub.status.busy": "2022-03-02T14:17:29.794418Z",
     "iopub.status.idle": "2022-03-02T14:17:29.864955Z",
     "shell.execute_reply": "2022-03-02T14:17:29.865455Z",
     "shell.execute_reply.started": "2022-03-02T14:15:47.574159Z"
    },
    "papermill": {
     "duration": 0.092789,
     "end_time": "2022-03-02T14:17:29.865588",
     "exception": false,
     "start_time": "2022-03-02T14:17:29.772799",
     "status": "completed"
    },
    "tags": []
   },
   "outputs": [
    {
     "data": {
      "text/html": [
       "<div>\n",
       "<style scoped>\n",
       "    .dataframe tbody tr th:only-of-type {\n",
       "        vertical-align: middle;\n",
       "    }\n",
       "\n",
       "    .dataframe tbody tr th {\n",
       "        vertical-align: top;\n",
       "    }\n",
       "\n",
       "    .dataframe thead th {\n",
       "        text-align: right;\n",
       "    }\n",
       "</style>\n",
       "<table border=\"1\" class=\"dataframe\">\n",
       "  <thead>\n",
       "    <tr style=\"text-align: right;\">\n",
       "      <th></th>\n",
       "      <th>ID</th>\n",
       "      <th>Year_Birth</th>\n",
       "      <th>Education</th>\n",
       "      <th>Marital_Status</th>\n",
       "      <th>Income</th>\n",
       "      <th>Kidhome</th>\n",
       "      <th>Teenhome</th>\n",
       "      <th>Dt_Customer</th>\n",
       "      <th>Recency</th>\n",
       "      <th>MntWines</th>\n",
       "      <th>...</th>\n",
       "      <th>NumWebVisitsMonth</th>\n",
       "      <th>AcceptedCmp3</th>\n",
       "      <th>AcceptedCmp4</th>\n",
       "      <th>AcceptedCmp5</th>\n",
       "      <th>AcceptedCmp1</th>\n",
       "      <th>AcceptedCmp2</th>\n",
       "      <th>Complain</th>\n",
       "      <th>Z_CostContact</th>\n",
       "      <th>Z_Revenue</th>\n",
       "      <th>Response</th>\n",
       "    </tr>\n",
       "  </thead>\n",
       "  <tbody>\n",
       "    <tr>\n",
       "      <th>0</th>\n",
       "      <td>5524</td>\n",
       "      <td>1957</td>\n",
       "      <td>Graduation</td>\n",
       "      <td>Single</td>\n",
       "      <td>58138.0</td>\n",
       "      <td>0</td>\n",
       "      <td>0</td>\n",
       "      <td>04-09-2012</td>\n",
       "      <td>58</td>\n",
       "      <td>635</td>\n",
       "      <td>...</td>\n",
       "      <td>7</td>\n",
       "      <td>0</td>\n",
       "      <td>0</td>\n",
       "      <td>0</td>\n",
       "      <td>0</td>\n",
       "      <td>0</td>\n",
       "      <td>0</td>\n",
       "      <td>3</td>\n",
       "      <td>11</td>\n",
       "      <td>1</td>\n",
       "    </tr>\n",
       "    <tr>\n",
       "      <th>1</th>\n",
       "      <td>2174</td>\n",
       "      <td>1954</td>\n",
       "      <td>Graduation</td>\n",
       "      <td>Single</td>\n",
       "      <td>46344.0</td>\n",
       "      <td>1</td>\n",
       "      <td>1</td>\n",
       "      <td>08-03-2014</td>\n",
       "      <td>38</td>\n",
       "      <td>11</td>\n",
       "      <td>...</td>\n",
       "      <td>5</td>\n",
       "      <td>0</td>\n",
       "      <td>0</td>\n",
       "      <td>0</td>\n",
       "      <td>0</td>\n",
       "      <td>0</td>\n",
       "      <td>0</td>\n",
       "      <td>3</td>\n",
       "      <td>11</td>\n",
       "      <td>0</td>\n",
       "    </tr>\n",
       "    <tr>\n",
       "      <th>2</th>\n",
       "      <td>4141</td>\n",
       "      <td>1965</td>\n",
       "      <td>Graduation</td>\n",
       "      <td>Together</td>\n",
       "      <td>71613.0</td>\n",
       "      <td>0</td>\n",
       "      <td>0</td>\n",
       "      <td>21-08-2013</td>\n",
       "      <td>26</td>\n",
       "      <td>426</td>\n",
       "      <td>...</td>\n",
       "      <td>4</td>\n",
       "      <td>0</td>\n",
       "      <td>0</td>\n",
       "      <td>0</td>\n",
       "      <td>0</td>\n",
       "      <td>0</td>\n",
       "      <td>0</td>\n",
       "      <td>3</td>\n",
       "      <td>11</td>\n",
       "      <td>0</td>\n",
       "    </tr>\n",
       "    <tr>\n",
       "      <th>3</th>\n",
       "      <td>6182</td>\n",
       "      <td>1984</td>\n",
       "      <td>Graduation</td>\n",
       "      <td>Together</td>\n",
       "      <td>26646.0</td>\n",
       "      <td>1</td>\n",
       "      <td>0</td>\n",
       "      <td>10-02-2014</td>\n",
       "      <td>26</td>\n",
       "      <td>11</td>\n",
       "      <td>...</td>\n",
       "      <td>6</td>\n",
       "      <td>0</td>\n",
       "      <td>0</td>\n",
       "      <td>0</td>\n",
       "      <td>0</td>\n",
       "      <td>0</td>\n",
       "      <td>0</td>\n",
       "      <td>3</td>\n",
       "      <td>11</td>\n",
       "      <td>0</td>\n",
       "    </tr>\n",
       "    <tr>\n",
       "      <th>4</th>\n",
       "      <td>5324</td>\n",
       "      <td>1981</td>\n",
       "      <td>PhD</td>\n",
       "      <td>Married</td>\n",
       "      <td>58293.0</td>\n",
       "      <td>1</td>\n",
       "      <td>0</td>\n",
       "      <td>19-01-2014</td>\n",
       "      <td>94</td>\n",
       "      <td>173</td>\n",
       "      <td>...</td>\n",
       "      <td>5</td>\n",
       "      <td>0</td>\n",
       "      <td>0</td>\n",
       "      <td>0</td>\n",
       "      <td>0</td>\n",
       "      <td>0</td>\n",
       "      <td>0</td>\n",
       "      <td>3</td>\n",
       "      <td>11</td>\n",
       "      <td>0</td>\n",
       "    </tr>\n",
       "  </tbody>\n",
       "</table>\n",
       "<p>5 rows × 29 columns</p>\n",
       "</div>"
      ],
      "text/plain": [
       "     ID  Year_Birth   Education Marital_Status   Income  Kidhome  Teenhome  \\\n",
       "0  5524        1957  Graduation         Single  58138.0        0         0   \n",
       "1  2174        1954  Graduation         Single  46344.0        1         1   \n",
       "2  4141        1965  Graduation       Together  71613.0        0         0   \n",
       "3  6182        1984  Graduation       Together  26646.0        1         0   \n",
       "4  5324        1981         PhD        Married  58293.0        1         0   \n",
       "\n",
       "  Dt_Customer  Recency  MntWines  ...  NumWebVisitsMonth  AcceptedCmp3  \\\n",
       "0  04-09-2012       58       635  ...                  7             0   \n",
       "1  08-03-2014       38        11  ...                  5             0   \n",
       "2  21-08-2013       26       426  ...                  4             0   \n",
       "3  10-02-2014       26        11  ...                  6             0   \n",
       "4  19-01-2014       94       173  ...                  5             0   \n",
       "\n",
       "   AcceptedCmp4  AcceptedCmp5  AcceptedCmp1  AcceptedCmp2  Complain  \\\n",
       "0             0             0             0             0         0   \n",
       "1             0             0             0             0         0   \n",
       "2             0             0             0             0         0   \n",
       "3             0             0             0             0         0   \n",
       "4             0             0             0             0         0   \n",
       "\n",
       "   Z_CostContact  Z_Revenue  Response  \n",
       "0              3         11         1  \n",
       "1              3         11         0  \n",
       "2              3         11         0  \n",
       "3              3         11         0  \n",
       "4              3         11         0  \n",
       "\n",
       "[5 rows x 29 columns]"
      ]
     },
     "metadata": {},
     "output_type": "display_data"
    },
    {
     "data": {
      "text/html": [
       "<div>\n",
       "<style scoped>\n",
       "    .dataframe tbody tr th:only-of-type {\n",
       "        vertical-align: middle;\n",
       "    }\n",
       "\n",
       "    .dataframe tbody tr th {\n",
       "        vertical-align: top;\n",
       "    }\n",
       "\n",
       "    .dataframe thead th {\n",
       "        text-align: right;\n",
       "    }\n",
       "</style>\n",
       "<table border=\"1\" class=\"dataframe\">\n",
       "  <thead>\n",
       "    <tr style=\"text-align: right;\">\n",
       "      <th></th>\n",
       "      <th>ID</th>\n",
       "      <th>Year_Birth</th>\n",
       "      <th>Education</th>\n",
       "      <th>Marital_Status</th>\n",
       "      <th>Income</th>\n",
       "      <th>Kidhome</th>\n",
       "      <th>Teenhome</th>\n",
       "      <th>Dt_Customer</th>\n",
       "      <th>Recency</th>\n",
       "      <th>MntWines</th>\n",
       "      <th>...</th>\n",
       "      <th>NumWebVisitsMonth</th>\n",
       "      <th>AcceptedCmp3</th>\n",
       "      <th>AcceptedCmp4</th>\n",
       "      <th>AcceptedCmp5</th>\n",
       "      <th>AcceptedCmp1</th>\n",
       "      <th>AcceptedCmp2</th>\n",
       "      <th>Complain</th>\n",
       "      <th>Z_CostContact</th>\n",
       "      <th>Z_Revenue</th>\n",
       "      <th>Response</th>\n",
       "    </tr>\n",
       "  </thead>\n",
       "  <tbody>\n",
       "    <tr>\n",
       "      <th>2235</th>\n",
       "      <td>10870</td>\n",
       "      <td>1967</td>\n",
       "      <td>Graduation</td>\n",
       "      <td>Married</td>\n",
       "      <td>61223.0</td>\n",
       "      <td>0</td>\n",
       "      <td>1</td>\n",
       "      <td>13-06-2013</td>\n",
       "      <td>46</td>\n",
       "      <td>709</td>\n",
       "      <td>...</td>\n",
       "      <td>5</td>\n",
       "      <td>0</td>\n",
       "      <td>0</td>\n",
       "      <td>0</td>\n",
       "      <td>0</td>\n",
       "      <td>0</td>\n",
       "      <td>0</td>\n",
       "      <td>3</td>\n",
       "      <td>11</td>\n",
       "      <td>0</td>\n",
       "    </tr>\n",
       "    <tr>\n",
       "      <th>2236</th>\n",
       "      <td>4001</td>\n",
       "      <td>1946</td>\n",
       "      <td>PhD</td>\n",
       "      <td>Together</td>\n",
       "      <td>64014.0</td>\n",
       "      <td>2</td>\n",
       "      <td>1</td>\n",
       "      <td>10-06-2014</td>\n",
       "      <td>56</td>\n",
       "      <td>406</td>\n",
       "      <td>...</td>\n",
       "      <td>7</td>\n",
       "      <td>0</td>\n",
       "      <td>0</td>\n",
       "      <td>0</td>\n",
       "      <td>1</td>\n",
       "      <td>0</td>\n",
       "      <td>0</td>\n",
       "      <td>3</td>\n",
       "      <td>11</td>\n",
       "      <td>0</td>\n",
       "    </tr>\n",
       "    <tr>\n",
       "      <th>2237</th>\n",
       "      <td>7270</td>\n",
       "      <td>1981</td>\n",
       "      <td>Graduation</td>\n",
       "      <td>Divorced</td>\n",
       "      <td>56981.0</td>\n",
       "      <td>0</td>\n",
       "      <td>0</td>\n",
       "      <td>25-01-2014</td>\n",
       "      <td>91</td>\n",
       "      <td>908</td>\n",
       "      <td>...</td>\n",
       "      <td>6</td>\n",
       "      <td>0</td>\n",
       "      <td>1</td>\n",
       "      <td>0</td>\n",
       "      <td>0</td>\n",
       "      <td>0</td>\n",
       "      <td>0</td>\n",
       "      <td>3</td>\n",
       "      <td>11</td>\n",
       "      <td>0</td>\n",
       "    </tr>\n",
       "    <tr>\n",
       "      <th>2238</th>\n",
       "      <td>8235</td>\n",
       "      <td>1956</td>\n",
       "      <td>Master</td>\n",
       "      <td>Together</td>\n",
       "      <td>69245.0</td>\n",
       "      <td>0</td>\n",
       "      <td>1</td>\n",
       "      <td>24-01-2014</td>\n",
       "      <td>8</td>\n",
       "      <td>428</td>\n",
       "      <td>...</td>\n",
       "      <td>3</td>\n",
       "      <td>0</td>\n",
       "      <td>0</td>\n",
       "      <td>0</td>\n",
       "      <td>0</td>\n",
       "      <td>0</td>\n",
       "      <td>0</td>\n",
       "      <td>3</td>\n",
       "      <td>11</td>\n",
       "      <td>0</td>\n",
       "    </tr>\n",
       "    <tr>\n",
       "      <th>2239</th>\n",
       "      <td>9405</td>\n",
       "      <td>1954</td>\n",
       "      <td>PhD</td>\n",
       "      <td>Married</td>\n",
       "      <td>52869.0</td>\n",
       "      <td>1</td>\n",
       "      <td>1</td>\n",
       "      <td>15-10-2012</td>\n",
       "      <td>40</td>\n",
       "      <td>84</td>\n",
       "      <td>...</td>\n",
       "      <td>7</td>\n",
       "      <td>0</td>\n",
       "      <td>0</td>\n",
       "      <td>0</td>\n",
       "      <td>0</td>\n",
       "      <td>0</td>\n",
       "      <td>0</td>\n",
       "      <td>3</td>\n",
       "      <td>11</td>\n",
       "      <td>1</td>\n",
       "    </tr>\n",
       "  </tbody>\n",
       "</table>\n",
       "<p>5 rows × 29 columns</p>\n",
       "</div>"
      ],
      "text/plain": [
       "         ID  Year_Birth   Education Marital_Status   Income  Kidhome  \\\n",
       "2235  10870        1967  Graduation        Married  61223.0        0   \n",
       "2236   4001        1946         PhD       Together  64014.0        2   \n",
       "2237   7270        1981  Graduation       Divorced  56981.0        0   \n",
       "2238   8235        1956      Master       Together  69245.0        0   \n",
       "2239   9405        1954         PhD        Married  52869.0        1   \n",
       "\n",
       "      Teenhome Dt_Customer  Recency  MntWines  ...  NumWebVisitsMonth  \\\n",
       "2235         1  13-06-2013       46       709  ...                  5   \n",
       "2236         1  10-06-2014       56       406  ...                  7   \n",
       "2237         0  25-01-2014       91       908  ...                  6   \n",
       "2238         1  24-01-2014        8       428  ...                  3   \n",
       "2239         1  15-10-2012       40        84  ...                  7   \n",
       "\n",
       "      AcceptedCmp3  AcceptedCmp4  AcceptedCmp5  AcceptedCmp1  AcceptedCmp2  \\\n",
       "2235             0             0             0             0             0   \n",
       "2236             0             0             0             1             0   \n",
       "2237             0             1             0             0             0   \n",
       "2238             0             0             0             0             0   \n",
       "2239             0             0             0             0             0   \n",
       "\n",
       "      Complain  Z_CostContact  Z_Revenue  Response  \n",
       "2235         0              3         11         0  \n",
       "2236         0              3         11         0  \n",
       "2237         0              3         11         0  \n",
       "2238         0              3         11         0  \n",
       "2239         0              3         11         1  \n",
       "\n",
       "[5 rows x 29 columns]"
      ]
     },
     "metadata": {},
     "output_type": "display_data"
    }
   ],
   "source": [
    "df = pd.read_csv(\"../input/customer-personality-analysis/marketing_campaign.csv\", sep='\\t')\n",
    "display(df.head())\n",
    "display(df.tail())"
   ]
  },
  {
   "cell_type": "code",
   "execution_count": 3,
   "id": "dd8aca2e",
   "metadata": {
    "execution": {
     "iopub.execute_input": "2022-03-02T14:17:29.908339Z",
     "iopub.status.busy": "2022-03-02T14:17:29.907865Z",
     "iopub.status.idle": "2022-03-02T14:17:29.912721Z",
     "shell.execute_reply": "2022-03-02T14:17:29.913168Z",
     "shell.execute_reply.started": "2022-03-02T14:15:47.662309Z"
    },
    "papermill": {
     "duration": 0.027936,
     "end_time": "2022-03-02T14:17:29.913328",
     "exception": false,
     "start_time": "2022-03-02T14:17:29.885392",
     "status": "completed"
    },
    "tags": []
   },
   "outputs": [
    {
     "data": {
      "text/plain": [
       "pandas.core.frame.DataFrame"
      ]
     },
     "execution_count": 3,
     "metadata": {},
     "output_type": "execute_result"
    }
   ],
   "source": [
    "type(df)"
   ]
  },
  {
   "cell_type": "code",
   "execution_count": 4,
   "id": "2548a396",
   "metadata": {
    "execution": {
     "iopub.execute_input": "2022-03-02T14:17:29.956136Z",
     "iopub.status.busy": "2022-03-02T14:17:29.955680Z",
     "iopub.status.idle": "2022-03-02T14:17:29.960248Z",
     "shell.execute_reply": "2022-03-02T14:17:29.960703Z",
     "shell.execute_reply.started": "2022-03-02T14:15:47.673766Z"
    },
    "papermill": {
     "duration": 0.027501,
     "end_time": "2022-03-02T14:17:29.960841",
     "exception": false,
     "start_time": "2022-03-02T14:17:29.933340",
     "status": "completed"
    },
    "tags": []
   },
   "outputs": [
    {
     "data": {
      "text/plain": [
       "(2240, 29)"
      ]
     },
     "execution_count": 4,
     "metadata": {},
     "output_type": "execute_result"
    }
   ],
   "source": [
    "df.shape"
   ]
  },
  {
   "cell_type": "code",
   "execution_count": 5,
   "id": "b63c6e78",
   "metadata": {
    "execution": {
     "iopub.execute_input": "2022-03-02T14:17:30.004193Z",
     "iopub.status.busy": "2022-03-02T14:17:30.003747Z",
     "iopub.status.idle": "2022-03-02T14:17:30.026142Z",
     "shell.execute_reply": "2022-03-02T14:17:30.026529Z",
     "shell.execute_reply.started": "2022-03-02T14:15:47.687814Z"
    },
    "papermill": {
     "duration": 0.045248,
     "end_time": "2022-03-02T14:17:30.026661",
     "exception": false,
     "start_time": "2022-03-02T14:17:29.981413",
     "status": "completed"
    },
    "tags": []
   },
   "outputs": [
    {
     "name": "stdout",
     "output_type": "stream",
     "text": [
      "<class 'pandas.core.frame.DataFrame'>\n",
      "RangeIndex: 2240 entries, 0 to 2239\n",
      "Data columns (total 29 columns):\n",
      " #   Column               Non-Null Count  Dtype  \n",
      "---  ------               --------------  -----  \n",
      " 0   ID                   2240 non-null   int64  \n",
      " 1   Year_Birth           2240 non-null   int64  \n",
      " 2   Education            2240 non-null   object \n",
      " 3   Marital_Status       2240 non-null   object \n",
      " 4   Income               2216 non-null   float64\n",
      " 5   Kidhome              2240 non-null   int64  \n",
      " 6   Teenhome             2240 non-null   int64  \n",
      " 7   Dt_Customer          2240 non-null   object \n",
      " 8   Recency              2240 non-null   int64  \n",
      " 9   MntWines             2240 non-null   int64  \n",
      " 10  MntFruits            2240 non-null   int64  \n",
      " 11  MntMeatProducts      2240 non-null   int64  \n",
      " 12  MntFishProducts      2240 non-null   int64  \n",
      " 13  MntSweetProducts     2240 non-null   int64  \n",
      " 14  MntGoldProds         2240 non-null   int64  \n",
      " 15  NumDealsPurchases    2240 non-null   int64  \n",
      " 16  NumWebPurchases      2240 non-null   int64  \n",
      " 17  NumCatalogPurchases  2240 non-null   int64  \n",
      " 18  NumStorePurchases    2240 non-null   int64  \n",
      " 19  NumWebVisitsMonth    2240 non-null   int64  \n",
      " 20  AcceptedCmp3         2240 non-null   int64  \n",
      " 21  AcceptedCmp4         2240 non-null   int64  \n",
      " 22  AcceptedCmp5         2240 non-null   int64  \n",
      " 23  AcceptedCmp1         2240 non-null   int64  \n",
      " 24  AcceptedCmp2         2240 non-null   int64  \n",
      " 25  Complain             2240 non-null   int64  \n",
      " 26  Z_CostContact        2240 non-null   int64  \n",
      " 27  Z_Revenue            2240 non-null   int64  \n",
      " 28  Response             2240 non-null   int64  \n",
      "dtypes: float64(1), int64(25), object(3)\n",
      "memory usage: 507.6+ KB\n"
     ]
    }
   ],
   "source": [
    "df.info()"
   ]
  },
  {
   "cell_type": "code",
   "execution_count": 6,
   "id": "5b1ae72d",
   "metadata": {
    "execution": {
     "iopub.execute_input": "2022-03-02T14:17:30.070620Z",
     "iopub.status.busy": "2022-03-02T14:17:30.070141Z",
     "iopub.status.idle": "2022-03-02T14:17:30.077024Z",
     "shell.execute_reply": "2022-03-02T14:17:30.077500Z",
     "shell.execute_reply.started": "2022-03-02T14:15:47.727089Z"
    },
    "papermill": {
     "duration": 0.03027,
     "end_time": "2022-03-02T14:17:30.077641",
     "exception": false,
     "start_time": "2022-03-02T14:17:30.047371",
     "status": "completed"
    },
    "tags": []
   },
   "outputs": [
    {
     "data": {
      "text/plain": [
       "Graduation    1127\n",
       "PhD            486\n",
       "Master         370\n",
       "2n Cycle       203\n",
       "Basic           54\n",
       "Name: Education, dtype: int64"
      ]
     },
     "execution_count": 6,
     "metadata": {},
     "output_type": "execute_result"
    }
   ],
   "source": [
    "df[\"Education\"].value_counts()\n"
   ]
  },
  {
   "cell_type": "code",
   "execution_count": 7,
   "id": "9922b096",
   "metadata": {
    "execution": {
     "iopub.execute_input": "2022-03-02T14:17:30.123350Z",
     "iopub.status.busy": "2022-03-02T14:17:30.122779Z",
     "iopub.status.idle": "2022-03-02T14:17:30.128517Z",
     "shell.execute_reply": "2022-03-02T14:17:30.128968Z",
     "shell.execute_reply.started": "2022-03-02T14:15:47.739994Z"
    },
    "papermill": {
     "duration": 0.030209,
     "end_time": "2022-03-02T14:17:30.129097",
     "exception": false,
     "start_time": "2022-03-02T14:17:30.098888",
     "status": "completed"
    },
    "tags": []
   },
   "outputs": [
    {
     "data": {
      "text/plain": [
       "1976    89\n",
       "1971    87\n",
       "1975    83\n",
       "1972    79\n",
       "1978    77\n",
       "Name: Year_Birth, dtype: int64"
      ]
     },
     "execution_count": 7,
     "metadata": {},
     "output_type": "execute_result"
    }
   ],
   "source": [
    "df[\"Year_Birth\"].value_counts().head()\n"
   ]
  },
  {
   "cell_type": "code",
   "execution_count": 8,
   "id": "9291fa9a",
   "metadata": {
    "execution": {
     "iopub.execute_input": "2022-03-02T14:17:30.174850Z",
     "iopub.status.busy": "2022-03-02T14:17:30.174370Z",
     "iopub.status.idle": "2022-03-02T14:17:30.179499Z",
     "shell.execute_reply": "2022-03-02T14:17:30.179962Z",
     "shell.execute_reply.started": "2022-03-02T14:15:47.754667Z"
    },
    "papermill": {
     "duration": 0.029483,
     "end_time": "2022-03-02T14:17:30.180094",
     "exception": false,
     "start_time": "2022-03-02T14:17:30.150611",
     "status": "completed"
    },
    "tags": []
   },
   "outputs": [
    {
     "data": {
      "text/plain": [
       "array([1957, 1954, 1965, 1984, 1981, 1967, 1971, 1985, 1974, 1950, 1983,\n",
       "       1976, 1959, 1952, 1987, 1946, 1980, 1949, 1982, 1979, 1951, 1969,\n",
       "       1986, 1989, 1963, 1970, 1973, 1943, 1975, 1996, 1968, 1964, 1977,\n",
       "       1978, 1955, 1966, 1988, 1948, 1958, 1972, 1960, 1945, 1991, 1962,\n",
       "       1953, 1961, 1956, 1992, 1900, 1893, 1990, 1947, 1899, 1993, 1994,\n",
       "       1941, 1944, 1995, 1940])"
      ]
     },
     "execution_count": 8,
     "metadata": {},
     "output_type": "execute_result"
    }
   ],
   "source": [
    "df[\"Year_Birth\"].unique()\n"
   ]
  },
  {
   "cell_type": "code",
   "execution_count": 9,
   "id": "c94a751c",
   "metadata": {
    "execution": {
     "iopub.execute_input": "2022-03-02T14:17:30.226794Z",
     "iopub.status.busy": "2022-03-02T14:17:30.226313Z",
     "iopub.status.idle": "2022-03-02T14:17:30.230657Z",
     "shell.execute_reply": "2022-03-02T14:17:30.231091Z",
     "shell.execute_reply.started": "2022-03-02T14:15:47.770571Z"
    },
    "papermill": {
     "duration": 0.029291,
     "end_time": "2022-03-02T14:17:30.231218",
     "exception": false,
     "start_time": "2022-03-02T14:17:30.201927",
     "status": "completed"
    },
    "tags": []
   },
   "outputs": [
    {
     "data": {
      "text/plain": [
       "59"
      ]
     },
     "execution_count": 9,
     "metadata": {},
     "output_type": "execute_result"
    }
   ],
   "source": [
    "len(df[\"Year_Birth\"].unique())\n"
   ]
  },
  {
   "cell_type": "code",
   "execution_count": 10,
   "id": "7a85cc53",
   "metadata": {
    "execution": {
     "iopub.execute_input": "2022-03-02T14:17:30.278245Z",
     "iopub.status.busy": "2022-03-02T14:17:30.277742Z",
     "iopub.status.idle": "2022-03-02T14:17:30.289233Z",
     "shell.execute_reply": "2022-03-02T14:17:30.288777Z",
     "shell.execute_reply.started": "2022-03-02T14:15:47.788719Z"
    },
    "papermill": {
     "duration": 0.036156,
     "end_time": "2022-03-02T14:17:30.289372",
     "exception": false,
     "start_time": "2022-03-02T14:17:30.253216",
     "status": "completed"
    },
    "tags": []
   },
   "outputs": [
    {
     "data": {
      "text/plain": [
       "7500.0     12\n",
       "35860.0     4\n",
       "37760.0     3\n",
       "83844.0     3\n",
       "63841.0     3\n",
       "           ..\n",
       "40760.0     1\n",
       "41452.0     1\n",
       "6835.0      1\n",
       "33622.0     1\n",
       "52869.0     1\n",
       "Name: Income, Length: 1974, dtype: int64"
      ]
     },
     "execution_count": 10,
     "metadata": {},
     "output_type": "execute_result"
    }
   ],
   "source": [
    "df[\"Income\"].value_counts()\n"
   ]
  },
  {
   "cell_type": "markdown",
   "id": "b6b26ff3",
   "metadata": {
    "papermill": {
     "duration": 0.021337,
     "end_time": "2022-03-02T14:17:30.332760",
     "exception": false,
     "start_time": "2022-03-02T14:17:30.311423",
     "status": "completed"
    },
    "tags": []
   },
   "source": [
    "**To Find Percentage of unique values of a column**\n"
   ]
  },
  {
   "cell_type": "code",
   "execution_count": 11,
   "id": "05b71402",
   "metadata": {
    "execution": {
     "iopub.execute_input": "2022-03-02T14:17:30.382837Z",
     "iopub.status.busy": "2022-03-02T14:17:30.382344Z",
     "iopub.status.idle": "2022-03-02T14:17:30.384556Z",
     "shell.execute_reply": "2022-03-02T14:17:30.384942Z",
     "shell.execute_reply.started": "2022-03-02T14:15:47.807118Z"
    },
    "papermill": {
     "duration": 0.030618,
     "end_time": "2022-03-02T14:17:30.385076",
     "exception": false,
     "start_time": "2022-03-02T14:17:30.354458",
     "status": "completed"
    },
    "tags": []
   },
   "outputs": [
    {
     "data": {
      "text/plain": [
       "Graduation    0.503125\n",
       "PhD           0.216964\n",
       "Master        0.165179\n",
       "2n Cycle      0.090625\n",
       "Basic         0.024107\n",
       "Name: Education, dtype: float64"
      ]
     },
     "execution_count": 11,
     "metadata": {},
     "output_type": "execute_result"
    }
   ],
   "source": [
    "df[\"Education\"].value_counts(normalize=True)\n"
   ]
  },
  {
   "cell_type": "code",
   "execution_count": 12,
   "id": "29e6b321",
   "metadata": {
    "execution": {
     "iopub.execute_input": "2022-03-02T14:17:30.431744Z",
     "iopub.status.busy": "2022-03-02T14:17:30.431198Z",
     "iopub.status.idle": "2022-03-02T14:17:30.436530Z",
     "shell.execute_reply": "2022-03-02T14:17:30.436972Z",
     "shell.execute_reply.started": "2022-03-02T14:15:47.824831Z"
    },
    "papermill": {
     "duration": 0.030349,
     "end_time": "2022-03-02T14:17:30.437097",
     "exception": false,
     "start_time": "2022-03-02T14:17:30.406748",
     "status": "completed"
    },
    "tags": []
   },
   "outputs": [
    {
     "data": {
      "text/plain": [
       "pandas.core.series.Series"
      ]
     },
     "execution_count": 12,
     "metadata": {},
     "output_type": "execute_result"
    }
   ],
   "source": [
    "Education = df[\"Education\"].value_counts(normalize=True)\n",
    "\n",
    "type(Education)"
   ]
  },
  {
   "cell_type": "code",
   "execution_count": 13,
   "id": "1aa44a46",
   "metadata": {
    "execution": {
     "iopub.execute_input": "2022-03-02T14:17:30.486130Z",
     "iopub.status.busy": "2022-03-02T14:17:30.485619Z",
     "iopub.status.idle": "2022-03-02T14:17:30.495156Z",
     "shell.execute_reply": "2022-03-02T14:17:30.495633Z",
     "shell.execute_reply.started": "2022-03-02T14:15:47.837197Z"
    },
    "papermill": {
     "duration": 0.035535,
     "end_time": "2022-03-02T14:17:30.495763",
     "exception": false,
     "start_time": "2022-03-02T14:17:30.460228",
     "status": "completed"
    },
    "tags": []
   },
   "outputs": [
    {
     "data": {
      "text/html": [
       "<div>\n",
       "<style scoped>\n",
       "    .dataframe tbody tr th:only-of-type {\n",
       "        vertical-align: middle;\n",
       "    }\n",
       "\n",
       "    .dataframe tbody tr th {\n",
       "        vertical-align: top;\n",
       "    }\n",
       "\n",
       "    .dataframe thead th {\n",
       "        text-align: right;\n",
       "    }\n",
       "</style>\n",
       "<table border=\"1\" class=\"dataframe\">\n",
       "  <thead>\n",
       "    <tr style=\"text-align: right;\">\n",
       "      <th></th>\n",
       "      <th>Education</th>\n",
       "    </tr>\n",
       "  </thead>\n",
       "  <tbody>\n",
       "    <tr>\n",
       "      <th>Graduation</th>\n",
       "      <td>0.503125</td>\n",
       "    </tr>\n",
       "    <tr>\n",
       "      <th>PhD</th>\n",
       "      <td>0.216964</td>\n",
       "    </tr>\n",
       "    <tr>\n",
       "      <th>Master</th>\n",
       "      <td>0.165179</td>\n",
       "    </tr>\n",
       "    <tr>\n",
       "      <th>2n Cycle</th>\n",
       "      <td>0.090625</td>\n",
       "    </tr>\n",
       "    <tr>\n",
       "      <th>Basic</th>\n",
       "      <td>0.024107</td>\n",
       "    </tr>\n",
       "  </tbody>\n",
       "</table>\n",
       "</div>"
      ],
      "text/plain": [
       "            Education\n",
       "Graduation   0.503125\n",
       "PhD          0.216964\n",
       "Master       0.165179\n",
       "2n Cycle     0.090625\n",
       "Basic        0.024107"
      ]
     },
     "metadata": {},
     "output_type": "display_data"
    }
   ],
   "source": [
    "## Education now is a pandas.series\n",
    "## Must convert to dataframe\n",
    "\n",
    "Education = df[\"Education\"].value_counts(normalize=True)\n",
    "Education = pd.DataFrame(Education)\n",
    "\n",
    "display(Education)"
   ]
  },
  {
   "cell_type": "code",
   "execution_count": 14,
   "id": "ad9b0127",
   "metadata": {
    "execution": {
     "iopub.execute_input": "2022-03-02T14:17:30.561356Z",
     "iopub.status.busy": "2022-03-02T14:17:30.560201Z",
     "iopub.status.idle": "2022-03-02T14:17:30.587964Z",
     "shell.execute_reply": "2022-03-02T14:17:30.587502Z",
     "shell.execute_reply.started": "2022-03-02T14:15:47.853422Z"
    },
    "papermill": {
     "duration": 0.066397,
     "end_time": "2022-03-02T14:17:30.588068",
     "exception": false,
     "start_time": "2022-03-02T14:17:30.521671",
     "status": "completed"
    },
    "tags": []
   },
   "outputs": [
    {
     "name": "stdout",
     "output_type": "stream",
     "text": [
      "Index(['Graduation', 'PhD', 'Master', '2n Cycle', 'Basic'], dtype='object')\n"
     ]
    },
    {
     "data": {
      "text/html": [
       "<div>\n",
       "<style scoped>\n",
       "    .dataframe tbody tr th:only-of-type {\n",
       "        vertical-align: middle;\n",
       "    }\n",
       "\n",
       "    .dataframe tbody tr th {\n",
       "        vertical-align: top;\n",
       "    }\n",
       "\n",
       "    .dataframe thead th {\n",
       "        text-align: right;\n",
       "    }\n",
       "</style>\n",
       "<table border=\"1\" class=\"dataframe\">\n",
       "  <thead>\n",
       "    <tr style=\"text-align: right;\">\n",
       "      <th></th>\n",
       "      <th>index</th>\n",
       "      <th>Education</th>\n",
       "    </tr>\n",
       "  </thead>\n",
       "  <tbody>\n",
       "    <tr>\n",
       "      <th>0</th>\n",
       "      <td>Graduation</td>\n",
       "      <td>0.503125</td>\n",
       "    </tr>\n",
       "    <tr>\n",
       "      <th>1</th>\n",
       "      <td>PhD</td>\n",
       "      <td>0.216964</td>\n",
       "    </tr>\n",
       "    <tr>\n",
       "      <th>2</th>\n",
       "      <td>Master</td>\n",
       "      <td>0.165179</td>\n",
       "    </tr>\n",
       "    <tr>\n",
       "      <th>3</th>\n",
       "      <td>2n Cycle</td>\n",
       "      <td>0.090625</td>\n",
       "    </tr>\n",
       "    <tr>\n",
       "      <th>4</th>\n",
       "      <td>Basic</td>\n",
       "      <td>0.024107</td>\n",
       "    </tr>\n",
       "  </tbody>\n",
       "</table>\n",
       "</div>"
      ],
      "text/plain": [
       "        index  Education\n",
       "0  Graduation   0.503125\n",
       "1         PhD   0.216964\n",
       "2      Master   0.165179\n",
       "3    2n Cycle   0.090625\n",
       "4       Basic   0.024107"
      ]
     },
     "metadata": {},
     "output_type": "display_data"
    },
    {
     "data": {
      "text/html": [
       "<div>\n",
       "<style scoped>\n",
       "    .dataframe tbody tr th:only-of-type {\n",
       "        vertical-align: middle;\n",
       "    }\n",
       "\n",
       "    .dataframe tbody tr th {\n",
       "        vertical-align: top;\n",
       "    }\n",
       "\n",
       "    .dataframe thead th {\n",
       "        text-align: right;\n",
       "    }\n",
       "</style>\n",
       "<table border=\"1\" class=\"dataframe\">\n",
       "  <thead>\n",
       "    <tr style=\"text-align: right;\">\n",
       "      <th></th>\n",
       "      <th>Education</th>\n",
       "      <th>% of Customer</th>\n",
       "    </tr>\n",
       "  </thead>\n",
       "  <tbody>\n",
       "    <tr>\n",
       "      <th>0</th>\n",
       "      <td>Graduation</td>\n",
       "      <td>50.312500</td>\n",
       "    </tr>\n",
       "    <tr>\n",
       "      <th>1</th>\n",
       "      <td>PhD</td>\n",
       "      <td>21.696429</td>\n",
       "    </tr>\n",
       "    <tr>\n",
       "      <th>2</th>\n",
       "      <td>Master</td>\n",
       "      <td>16.517857</td>\n",
       "    </tr>\n",
       "    <tr>\n",
       "      <th>3</th>\n",
       "      <td>2n Cycle</td>\n",
       "      <td>9.062500</td>\n",
       "    </tr>\n",
       "    <tr>\n",
       "      <th>4</th>\n",
       "      <td>Basic</td>\n",
       "      <td>2.410714</td>\n",
       "    </tr>\n",
       "  </tbody>\n",
       "</table>\n",
       "</div>"
      ],
      "text/plain": [
       "    Education  % of Customer\n",
       "0  Graduation      50.312500\n",
       "1         PhD      21.696429\n",
       "2      Master      16.517857\n",
       "3    2n Cycle       9.062500\n",
       "4       Basic       2.410714"
      ]
     },
     "metadata": {},
     "output_type": "display_data"
    },
    {
     "data": {
      "text/html": [
       "<div>\n",
       "<style scoped>\n",
       "    .dataframe tbody tr th:only-of-type {\n",
       "        vertical-align: middle;\n",
       "    }\n",
       "\n",
       "    .dataframe tbody tr th {\n",
       "        vertical-align: top;\n",
       "    }\n",
       "\n",
       "    .dataframe thead th {\n",
       "        text-align: right;\n",
       "    }\n",
       "</style>\n",
       "<table border=\"1\" class=\"dataframe\">\n",
       "  <thead>\n",
       "    <tr style=\"text-align: right;\">\n",
       "      <th></th>\n",
       "      <th>Education</th>\n",
       "      <th>% of Customer</th>\n",
       "    </tr>\n",
       "  </thead>\n",
       "  <tbody>\n",
       "    <tr>\n",
       "      <th>0</th>\n",
       "      <td>Graduation</td>\n",
       "      <td>50.31</td>\n",
       "    </tr>\n",
       "    <tr>\n",
       "      <th>1</th>\n",
       "      <td>PhD</td>\n",
       "      <td>21.70</td>\n",
       "    </tr>\n",
       "    <tr>\n",
       "      <th>2</th>\n",
       "      <td>Master</td>\n",
       "      <td>16.52</td>\n",
       "    </tr>\n",
       "    <tr>\n",
       "      <th>3</th>\n",
       "      <td>2n Cycle</td>\n",
       "      <td>9.06</td>\n",
       "    </tr>\n",
       "    <tr>\n",
       "      <th>4</th>\n",
       "      <td>Basic</td>\n",
       "      <td>2.41</td>\n",
       "    </tr>\n",
       "  </tbody>\n",
       "</table>\n",
       "</div>"
      ],
      "text/plain": [
       "    Education  % of Customer\n",
       "0  Graduation          50.31\n",
       "1         PhD          21.70\n",
       "2      Master          16.52\n",
       "3    2n Cycle           9.06\n",
       "4       Basic           2.41"
      ]
     },
     "metadata": {},
     "output_type": "display_data"
    }
   ],
   "source": [
    "## Convert the index into a column\n",
    "\n",
    "Education = df[\"Education\"].value_counts(normalize=True)\n",
    "Education = pd.DataFrame(Education)\n",
    "print(Education.index)\n",
    "\n",
    "Education = Education.reset_index()\n",
    "display(Education)\n",
    "\n",
    "## Fixing column names\n",
    "\n",
    "Education = Education.rename(columns={\"index\":\"Education\", \"Education\":\"% of Customer\"})\n",
    "##display(Education)\n",
    "\n",
    "Education[\"% of Customer\"]= Education[\"% of Customer\"]*100\n",
    "display(Education)\n",
    "\n",
    "Education[\"% of Customer\"]= np.round(Education[\"% of Customer\"],2)\n",
    "display(Education)\n",
    "\n",
    "## to round off all columns\n",
    "## Education = Education.round(2)\n",
    "## display(Education)"
   ]
  },
  {
   "cell_type": "markdown",
   "id": "9a253fe9",
   "metadata": {
    "papermill": {
     "duration": 0.024273,
     "end_time": "2022-03-02T14:17:30.637224",
     "exception": false,
     "start_time": "2022-03-02T14:17:30.612951",
     "status": "completed"
    },
    "tags": []
   },
   "source": [
    "**BarPlot for \"Education\" column**\n"
   ]
  },
  {
   "cell_type": "code",
   "execution_count": 15,
   "id": "986e196b",
   "metadata": {
    "execution": {
     "iopub.execute_input": "2022-03-02T14:17:30.697595Z",
     "iopub.status.busy": "2022-03-02T14:17:30.695643Z",
     "iopub.status.idle": "2022-03-02T14:17:30.875073Z",
     "shell.execute_reply": "2022-03-02T14:17:30.874667Z",
     "shell.execute_reply.started": "2022-03-02T14:15:47.891622Z"
    },
    "papermill": {
     "duration": 0.212234,
     "end_time": "2022-03-02T14:17:30.875184",
     "exception": false,
     "start_time": "2022-03-02T14:17:30.662950",
     "status": "completed"
    },
    "tags": []
   },
   "outputs": [
    {
     "data": {
      "image/png": "[encoded data removed]",
      "text/plain": [
       "<Figure size 432x360 with 1 Axes>"
      ]
     },
     "metadata": {
      "needs_background": "light"
     },
     "output_type": "display_data"
    }
   ],
   "source": [
    "plt.figure(figsize = (6,5))\n",
    "sns.barplot(x='Education', y='% of Customer', data=Education, color= \"black\")\n",
    "plt.title(\"Percent of Education level among the customers\")\n",
    "\n",
    "plt.yticks(np.arange(0,51,10))\n",
    "#plt grid()\n",
    "plt.show()"
   ]
  },
  {
   "cell_type": "code",
   "execution_count": 16,
   "id": "79a433f9",
   "metadata": {
    "execution": {
     "iopub.execute_input": "2022-03-02T14:17:30.929802Z",
     "iopub.status.busy": "2022-03-02T14:17:30.929298Z",
     "iopub.status.idle": "2022-03-02T14:17:30.934614Z",
     "shell.execute_reply": "2022-03-02T14:17:30.935014Z",
     "shell.execute_reply.started": "2022-03-02T14:15:48.090192Z"
    },
    "papermill": {
     "duration": 0.034255,
     "end_time": "2022-03-02T14:17:30.935147",
     "exception": false,
     "start_time": "2022-03-02T14:17:30.900892",
     "status": "completed"
    },
    "tags": []
   },
   "outputs": [
    {
     "data": {
      "text/plain": [
       "array([  0,   5,  10,  15,  20,  25,  30,  35,  40,  45,  50,  55,  60,\n",
       "        65,  70,  75,  80,  85,  90,  95, 100])"
      ]
     },
     "execution_count": 16,
     "metadata": {},
     "output_type": "execute_result"
    }
   ],
   "source": [
    "np.arange(0,101,5)\n"
   ]
  },
  {
   "cell_type": "markdown",
   "id": "ab8330e0",
   "metadata": {
    "papermill": {
     "duration": 0.027764,
     "end_time": "2022-03-02T14:17:30.991076",
     "exception": false,
     "start_time": "2022-03-02T14:17:30.963312",
     "status": "completed"
    },
    "tags": []
   },
   "source": [
    "**BarPlot for \"Year_Birth\" column**\n"
   ]
  },
  {
   "cell_type": "code",
   "execution_count": 17,
   "id": "3a056742",
   "metadata": {
    "execution": {
     "iopub.execute_input": "2022-03-02T14:17:31.045810Z",
     "iopub.status.busy": "2022-03-02T14:17:31.045258Z",
     "iopub.status.idle": "2022-03-02T14:17:31.070368Z",
     "shell.execute_reply": "2022-03-02T14:17:31.070832Z",
     "shell.execute_reply.started": "2022-03-02T14:15:48.099470Z"
    },
    "papermill": {
     "duration": 0.054166,
     "end_time": "2022-03-02T14:17:31.070990",
     "exception": false,
     "start_time": "2022-03-02T14:17:31.016824",
     "status": "completed"
    },
    "tags": []
   },
   "outputs": [
    {
     "data": {
      "text/html": [
       "<div>\n",
       "<style scoped>\n",
       "    .dataframe tbody tr th:only-of-type {\n",
       "        vertical-align: middle;\n",
       "    }\n",
       "\n",
       "    .dataframe tbody tr th {\n",
       "        vertical-align: top;\n",
       "    }\n",
       "\n",
       "    .dataframe thead th {\n",
       "        text-align: right;\n",
       "    }\n",
       "</style>\n",
       "<table border=\"1\" class=\"dataframe\">\n",
       "  <thead>\n",
       "    <tr style=\"text-align: right;\">\n",
       "      <th></th>\n",
       "      <th>Birth Year</th>\n",
       "      <th>% of Customer</th>\n",
       "    </tr>\n",
       "  </thead>\n",
       "  <tbody>\n",
       "    <tr>\n",
       "      <th>56</th>\n",
       "      <td>1893</td>\n",
       "      <td>0.04</td>\n",
       "    </tr>\n",
       "    <tr>\n",
       "      <th>54</th>\n",
       "      <td>1899</td>\n",
       "      <td>0.04</td>\n",
       "    </tr>\n",
       "    <tr>\n",
       "      <th>57</th>\n",
       "      <td>1900</td>\n",
       "      <td>0.04</td>\n",
       "    </tr>\n",
       "    <tr>\n",
       "      <th>58</th>\n",
       "      <td>1940</td>\n",
       "      <td>0.04</td>\n",
       "    </tr>\n",
       "    <tr>\n",
       "      <th>55</th>\n",
       "      <td>1941</td>\n",
       "      <td>0.04</td>\n",
       "    </tr>\n",
       "    <tr>\n",
       "      <th>48</th>\n",
       "      <td>1943</td>\n",
       "      <td>0.31</td>\n",
       "    </tr>\n",
       "    <tr>\n",
       "      <th>49</th>\n",
       "      <td>1944</td>\n",
       "      <td>0.31</td>\n",
       "    </tr>\n",
       "    <tr>\n",
       "      <th>47</th>\n",
       "      <td>1945</td>\n",
       "      <td>0.36</td>\n",
       "    </tr>\n",
       "    <tr>\n",
       "      <th>43</th>\n",
       "      <td>1946</td>\n",
       "      <td>0.71</td>\n",
       "    </tr>\n",
       "    <tr>\n",
       "      <th>44</th>\n",
       "      <td>1947</td>\n",
       "      <td>0.71</td>\n",
       "    </tr>\n",
       "    <tr>\n",
       "      <th>41</th>\n",
       "      <td>1948</td>\n",
       "      <td>0.94</td>\n",
       "    </tr>\n",
       "    <tr>\n",
       "      <th>37</th>\n",
       "      <td>1949</td>\n",
       "      <td>1.34</td>\n",
       "    </tr>\n",
       "    <tr>\n",
       "      <th>38</th>\n",
       "      <td>1950</td>\n",
       "      <td>1.29</td>\n",
       "    </tr>\n",
       "    <tr>\n",
       "      <th>26</th>\n",
       "      <td>1951</td>\n",
       "      <td>1.92</td>\n",
       "    </tr>\n",
       "    <tr>\n",
       "      <th>13</th>\n",
       "      <td>1952</td>\n",
       "      <td>2.32</td>\n",
       "    </tr>\n",
       "    <tr>\n",
       "      <th>34</th>\n",
       "      <td>1953</td>\n",
       "      <td>1.56</td>\n",
       "    </tr>\n",
       "    <tr>\n",
       "      <th>18</th>\n",
       "      <td>1954</td>\n",
       "      <td>2.23</td>\n",
       "    </tr>\n",
       "    <tr>\n",
       "      <th>19</th>\n",
       "      <td>1955</td>\n",
       "      <td>2.19</td>\n",
       "    </tr>\n",
       "    <tr>\n",
       "      <th>10</th>\n",
       "      <td>1956</td>\n",
       "      <td>2.46</td>\n",
       "    </tr>\n",
       "    <tr>\n",
       "      <th>25</th>\n",
       "      <td>1957</td>\n",
       "      <td>1.92</td>\n",
       "    </tr>\n",
       "    <tr>\n",
       "      <th>11</th>\n",
       "      <td>1958</td>\n",
       "      <td>2.37</td>\n",
       "    </tr>\n",
       "    <tr>\n",
       "      <th>16</th>\n",
       "      <td>1959</td>\n",
       "      <td>2.28</td>\n",
       "    </tr>\n",
       "    <tr>\n",
       "      <th>20</th>\n",
       "      <td>1960</td>\n",
       "      <td>2.19</td>\n",
       "    </tr>\n",
       "    <tr>\n",
       "      <th>33</th>\n",
       "      <td>1961</td>\n",
       "      <td>1.61</td>\n",
       "    </tr>\n",
       "    <tr>\n",
       "      <th>24</th>\n",
       "      <td>1962</td>\n",
       "      <td>1.96</td>\n",
       "    </tr>\n",
       "    <tr>\n",
       "      <th>22</th>\n",
       "      <td>1963</td>\n",
       "      <td>2.01</td>\n",
       "    </tr>\n",
       "    <tr>\n",
       "      <th>29</th>\n",
       "      <td>1964</td>\n",
       "      <td>1.88</td>\n",
       "    </tr>\n",
       "    <tr>\n",
       "      <th>7</th>\n",
       "      <td>1965</td>\n",
       "      <td>3.30</td>\n",
       "    </tr>\n",
       "    <tr>\n",
       "      <th>17</th>\n",
       "      <td>1966</td>\n",
       "      <td>2.23</td>\n",
       "    </tr>\n",
       "    <tr>\n",
       "      <th>23</th>\n",
       "      <td>1967</td>\n",
       "      <td>1.96</td>\n",
       "    </tr>\n",
       "    <tr>\n",
       "      <th>15</th>\n",
       "      <td>1968</td>\n",
       "      <td>2.28</td>\n",
       "    </tr>\n",
       "    <tr>\n",
       "      <th>8</th>\n",
       "      <td>1969</td>\n",
       "      <td>3.17</td>\n",
       "    </tr>\n",
       "    <tr>\n",
       "      <th>5</th>\n",
       "      <td>1970</td>\n",
       "      <td>3.44</td>\n",
       "    </tr>\n",
       "    <tr>\n",
       "      <th>1</th>\n",
       "      <td>1971</td>\n",
       "      <td>3.88</td>\n",
       "    </tr>\n",
       "    <tr>\n",
       "      <th>3</th>\n",
       "      <td>1972</td>\n",
       "      <td>3.53</td>\n",
       "    </tr>\n",
       "    <tr>\n",
       "      <th>6</th>\n",
       "      <td>1973</td>\n",
       "      <td>3.30</td>\n",
       "    </tr>\n",
       "    <tr>\n",
       "      <th>9</th>\n",
       "      <td>1974</td>\n",
       "      <td>3.08</td>\n",
       "    </tr>\n",
       "    <tr>\n",
       "      <th>2</th>\n",
       "      <td>1975</td>\n",
       "      <td>3.71</td>\n",
       "    </tr>\n",
       "    <tr>\n",
       "      <th>0</th>\n",
       "      <td>1976</td>\n",
       "      <td>3.97</td>\n",
       "    </tr>\n",
       "    <tr>\n",
       "      <th>14</th>\n",
       "      <td>1977</td>\n",
       "      <td>2.32</td>\n",
       "    </tr>\n",
       "    <tr>\n",
       "      <th>4</th>\n",
       "      <td>1978</td>\n",
       "      <td>3.44</td>\n",
       "    </tr>\n",
       "    <tr>\n",
       "      <th>12</th>\n",
       "      <td>1979</td>\n",
       "      <td>2.37</td>\n",
       "    </tr>\n",
       "    <tr>\n",
       "      <th>30</th>\n",
       "      <td>1980</td>\n",
       "      <td>1.74</td>\n",
       "    </tr>\n",
       "    <tr>\n",
       "      <th>31</th>\n",
       "      <td>1981</td>\n",
       "      <td>1.74</td>\n",
       "    </tr>\n",
       "    <tr>\n",
       "      <th>21</th>\n",
       "      <td>1982</td>\n",
       "      <td>2.01</td>\n",
       "    </tr>\n",
       "    <tr>\n",
       "      <th>27</th>\n",
       "      <td>1983</td>\n",
       "      <td>1.88</td>\n",
       "    </tr>\n",
       "    <tr>\n",
       "      <th>32</th>\n",
       "      <td>1984</td>\n",
       "      <td>1.70</td>\n",
       "    </tr>\n",
       "    <tr>\n",
       "      <th>35</th>\n",
       "      <td>1985</td>\n",
       "      <td>1.43</td>\n",
       "    </tr>\n",
       "    <tr>\n",
       "      <th>28</th>\n",
       "      <td>1986</td>\n",
       "      <td>1.88</td>\n",
       "    </tr>\n",
       "    <tr>\n",
       "      <th>40</th>\n",
       "      <td>1987</td>\n",
       "      <td>1.21</td>\n",
       "    </tr>\n",
       "    <tr>\n",
       "      <th>39</th>\n",
       "      <td>1988</td>\n",
       "      <td>1.29</td>\n",
       "    </tr>\n",
       "    <tr>\n",
       "      <th>36</th>\n",
       "      <td>1989</td>\n",
       "      <td>1.34</td>\n",
       "    </tr>\n",
       "    <tr>\n",
       "      <th>42</th>\n",
       "      <td>1990</td>\n",
       "      <td>0.80</td>\n",
       "    </tr>\n",
       "    <tr>\n",
       "      <th>45</th>\n",
       "      <td>1991</td>\n",
       "      <td>0.67</td>\n",
       "    </tr>\n",
       "    <tr>\n",
       "      <th>46</th>\n",
       "      <td>1992</td>\n",
       "      <td>0.58</td>\n",
       "    </tr>\n",
       "    <tr>\n",
       "      <th>50</th>\n",
       "      <td>1993</td>\n",
       "      <td>0.22</td>\n",
       "    </tr>\n",
       "    <tr>\n",
       "      <th>52</th>\n",
       "      <td>1994</td>\n",
       "      <td>0.13</td>\n",
       "    </tr>\n",
       "    <tr>\n",
       "      <th>51</th>\n",
       "      <td>1995</td>\n",
       "      <td>0.22</td>\n",
       "    </tr>\n",
       "    <tr>\n",
       "      <th>53</th>\n",
       "      <td>1996</td>\n",
       "      <td>0.09</td>\n",
       "    </tr>\n",
       "  </tbody>\n",
       "</table>\n",
       "</div>"
      ],
      "text/plain": [
       "    Birth Year  % of Customer\n",
       "56        1893           0.04\n",
       "54        1899           0.04\n",
       "57        1900           0.04\n",
       "58        1940           0.04\n",
       "55        1941           0.04\n",
       "48        1943           0.31\n",
       "49        1944           0.31\n",
       "47        1945           0.36\n",
       "43        1946           0.71\n",
       "44        1947           0.71\n",
       "41        1948           0.94\n",
       "37        1949           1.34\n",
       "38        1950           1.29\n",
       "26        1951           1.92\n",
       "13        1952           2.32\n",
       "34        1953           1.56\n",
       "18        1954           2.23\n",
       "19        1955           2.19\n",
       "10        1956           2.46\n",
       "25        1957           1.92\n",
       "11        1958           2.37\n",
       "16        1959           2.28\n",
       "20        1960           2.19\n",
       "33        1961           1.61\n",
       "24        1962           1.96\n",
       "22        1963           2.01\n",
       "29        1964           1.88\n",
       "7         1965           3.30\n",
       "17        1966           2.23\n",
       "23        1967           1.96\n",
       "15        1968           2.28\n",
       "8         1969           3.17\n",
       "5         1970           3.44\n",
       "1         1971           3.88\n",
       "3         1972           3.53\n",
       "6         1973           3.30\n",
       "9         1974           3.08\n",
       "2         1975           3.71\n",
       "0         1976           3.97\n",
       "14        1977           2.32\n",
       "4         1978           3.44\n",
       "12        1979           2.37\n",
       "30        1980           1.74\n",
       "31        1981           1.74\n",
       "21        1982           2.01\n",
       "27        1983           1.88\n",
       "32        1984           1.70\n",
       "35        1985           1.43\n",
       "28        1986           1.88\n",
       "40        1987           1.21\n",
       "39        1988           1.29\n",
       "36        1989           1.34\n",
       "42        1990           0.80\n",
       "45        1991           0.67\n",
       "46        1992           0.58\n",
       "50        1993           0.22\n",
       "52        1994           0.13\n",
       "51        1995           0.22\n",
       "53        1996           0.09"
      ]
     },
     "metadata": {},
     "output_type": "display_data"
    }
   ],
   "source": [
    "Year_Birth_count = df[\"Year_Birth\"].value_counts(normalize=True)\n",
    "Year_Birth_count = pd.DataFrame(Year_Birth_count)\n",
    "#print(Year_Birth_count.index)\n",
    "\n",
    "Year_Birth_count = Year_Birth_count.reset_index()\n",
    "#display(Year_Birth_count)\n",
    "\n",
    "## Fixing column names\n",
    "\n",
    "Year_Birth_count = Year_Birth_count.rename(columns={\"index\":\"Birth Year\", \"Year_Birth\":\"% of Customer\"})\n",
    "##display(Year_Birth_count)\n",
    "\n",
    "Year_Birth_count = Year_Birth_count.sort_values(by='Birth Year')\n",
    "\n",
    "Year_Birth_count[\"% of Customer\"]= Year_Birth_count[\"% of Customer\"]*100\n",
    "#display(Year_Birth_count)\n",
    "\n",
    "Year_Birth_count[\"% of Customer\"]= np.round(Year_Birth_count[\"% of Customer\"],2)\n",
    "display(Year_Birth_count)"
   ]
  },
  {
   "cell_type": "code",
   "execution_count": 18,
   "id": "4946ac06",
   "metadata": {
    "execution": {
     "iopub.execute_input": "2022-03-02T14:17:31.129518Z",
     "iopub.status.busy": "2022-03-02T14:17:31.128980Z",
     "iopub.status.idle": "2022-03-02T14:17:31.958246Z",
     "shell.execute_reply": "2022-03-02T14:17:31.958737Z",
     "shell.execute_reply.started": "2022-03-02T14:15:48.132603Z"
    },
    "papermill": {
     "duration": 0.858244,
     "end_time": "2022-03-02T14:17:31.958869",
     "exception": false,
     "start_time": "2022-03-02T14:17:31.100625",
     "status": "completed"
    },
    "tags": []
   },
   "outputs": [
    {
     "data": {
      "image/png": "[encoded data removed]",
      "text/plain": [
       "<Figure size 1512x432 with 1 Axes>"
      ]
     },
     "metadata": {
      "needs_background": "light"
     },
     "output_type": "display_data"
    }
   ],
   "source": [
    "plt.figure(figsize = (21,6))\n",
    "sns.barplot(x='Birth Year', y='% of Customer', data=Year_Birth_count, color= \"black\")\n",
    "plt.title(\"Percent for each birth year among the customers\")\n",
    "\n",
    "plt.xticks(rotation=90)\n",
    "#plt.yticks(np.arange(0,51,10))\n",
    "#plt grid()\n",
    "plt.show()"
   ]
  },
  {
   "cell_type": "markdown",
   "id": "cec1724e",
   "metadata": {
    "papermill": {
     "duration": 0.027111,
     "end_time": "2022-03-02T14:17:32.013375",
     "exception": false,
     "start_time": "2022-03-02T14:17:31.986264",
     "status": "completed"
    },
    "tags": []
   },
   "source": [
    "**SUBPLOTTING**"
   ]
  },
  {
   "cell_type": "code",
   "execution_count": 19,
   "id": "ac8f434f",
   "metadata": {
    "execution": {
     "iopub.execute_input": "2022-03-02T14:17:32.071344Z",
     "iopub.status.busy": "2022-03-02T14:17:32.070806Z",
     "iopub.status.idle": "2022-03-02T14:17:33.197546Z",
     "shell.execute_reply": "2022-03-02T14:17:33.197904Z",
     "shell.execute_reply.started": "2022-03-02T14:15:49.145776Z"
    },
    "papermill": {
     "duration": 1.157297,
     "end_time": "2022-03-02T14:17:33.198036",
     "exception": false,
     "start_time": "2022-03-02T14:17:32.040739",
     "status": "completed"
    },
    "tags": []
   },
   "outputs": [
    {
     "data": {
      "image/png": "[encoded data removed]",
      "text/plain": [
       "<Figure size 1800x576 with 2 Axes>"
      ]
     },
     "metadata": {
      "needs_background": "light"
     },
     "output_type": "display_data"
    }
   ],
   "source": [
    "plt.figure(figsize = (25,8))\n",
    "\n",
    "plt.subplot(1,2,1)\n",
    "sns.barplot(x='Education', y='% of Customer', data=Education, color= \"blue\")\n",
    "plt.title(\"Percent of Education level among the customers\")\n",
    "plt.yticks(np.arange(0,51,10))\n",
    "\n",
    "\n",
    "plt.subplot(1,2,2)\n",
    "sns.barplot(x='Birth Year', y='% of Customer', data=Year_Birth_count, color= \"green\")\n",
    "plt.title(\"Percent for each birth year among the customers\")\n",
    "plt.xticks(rotation=90)\n",
    "\n",
    "plt.suptitle(\"Educational and birth year percentage among customers\")\n",
    "\n",
    "plt.tight_layout()\n",
    "plt.show()"
   ]
  },
  {
   "cell_type": "markdown",
   "id": "e6e4ab63",
   "metadata": {
    "papermill": {
     "duration": 0.027733,
     "end_time": "2022-03-02T14:17:33.253781",
     "exception": false,
     "start_time": "2022-03-02T14:17:33.226048",
     "status": "completed"
    },
    "tags": []
   },
   "source": [
    "**Create a function to find the number of observations of each unique value of a column of a DataFrame**\n"
   ]
  },
  {
   "cell_type": "code",
   "execution_count": 20,
   "id": "0872fca2",
   "metadata": {
    "execution": {
     "iopub.execute_input": "2022-03-02T14:17:33.317183Z",
     "iopub.status.busy": "2022-03-02T14:17:33.316689Z",
     "iopub.status.idle": "2022-03-02T14:17:33.320086Z",
     "shell.execute_reply": "2022-03-02T14:17:33.320506Z",
     "shell.execute_reply.started": "2022-03-02T14:15:50.510307Z"
    },
    "papermill": {
     "duration": 0.037904,
     "end_time": "2022-03-02T14:17:33.320648",
     "exception": false,
     "start_time": "2022-03-02T14:17:33.282744",
     "status": "completed"
    },
    "tags": []
   },
   "outputs": [],
   "source": [
    "def unique_val_count(data,col):\n",
    "\n",
    "    col_count = data[col].value_counts(normalize=True)\n",
    "    col_count = pd.DataFrame(col_count)\n",
    "\n",
    "    col_count = col_count.reset_index()\n",
    "\n",
    "    col_count = col_count.rename(columns={\"index\":col, col:\"% of Customer\"})\n",
    "\n",
    "    col_count[\"% of Customer\"]= col_count[\"% of Customer\"]*100\n",
    "\n",
    "    col_count[\"% of Customer\"]= np.round(col_count[\"% of Customer\"],2)\n",
    "    \n",
    "    return col_count"
   ]
  },
  {
   "cell_type": "code",
   "execution_count": 21,
   "id": "8971722e",
   "metadata": {
    "execution": {
     "iopub.execute_input": "2022-03-02T14:17:33.392038Z",
     "iopub.status.busy": "2022-03-02T14:17:33.391491Z",
     "iopub.status.idle": "2022-03-02T14:17:33.394721Z",
     "shell.execute_reply": "2022-03-02T14:17:33.395109Z",
     "shell.execute_reply.started": "2022-03-02T14:15:50.519743Z"
    },
    "papermill": {
     "duration": 0.046572,
     "end_time": "2022-03-02T14:17:33.395254",
     "exception": false,
     "start_time": "2022-03-02T14:17:33.348682",
     "status": "completed"
    },
    "tags": []
   },
   "outputs": [
    {
     "data": {
      "text/html": [
       "<div>\n",
       "<style scoped>\n",
       "    .dataframe tbody tr th:only-of-type {\n",
       "        vertical-align: middle;\n",
       "    }\n",
       "\n",
       "    .dataframe tbody tr th {\n",
       "        vertical-align: top;\n",
       "    }\n",
       "\n",
       "    .dataframe thead th {\n",
       "        text-align: right;\n",
       "    }\n",
       "</style>\n",
       "<table border=\"1\" class=\"dataframe\">\n",
       "  <thead>\n",
       "    <tr style=\"text-align: right;\">\n",
       "      <th></th>\n",
       "      <th>Year_Birth</th>\n",
       "      <th>% of Customer</th>\n",
       "    </tr>\n",
       "  </thead>\n",
       "  <tbody>\n",
       "    <tr>\n",
       "      <th>0</th>\n",
       "      <td>1976</td>\n",
       "      <td>3.97</td>\n",
       "    </tr>\n",
       "    <tr>\n",
       "      <th>1</th>\n",
       "      <td>1971</td>\n",
       "      <td>3.88</td>\n",
       "    </tr>\n",
       "    <tr>\n",
       "      <th>2</th>\n",
       "      <td>1975</td>\n",
       "      <td>3.71</td>\n",
       "    </tr>\n",
       "    <tr>\n",
       "      <th>3</th>\n",
       "      <td>1972</td>\n",
       "      <td>3.53</td>\n",
       "    </tr>\n",
       "    <tr>\n",
       "      <th>4</th>\n",
       "      <td>1978</td>\n",
       "      <td>3.44</td>\n",
       "    </tr>\n",
       "    <tr>\n",
       "      <th>5</th>\n",
       "      <td>1970</td>\n",
       "      <td>3.44</td>\n",
       "    </tr>\n",
       "    <tr>\n",
       "      <th>6</th>\n",
       "      <td>1973</td>\n",
       "      <td>3.30</td>\n",
       "    </tr>\n",
       "    <tr>\n",
       "      <th>7</th>\n",
       "      <td>1965</td>\n",
       "      <td>3.30</td>\n",
       "    </tr>\n",
       "    <tr>\n",
       "      <th>8</th>\n",
       "      <td>1969</td>\n",
       "      <td>3.17</td>\n",
       "    </tr>\n",
       "    <tr>\n",
       "      <th>9</th>\n",
       "      <td>1974</td>\n",
       "      <td>3.08</td>\n",
       "    </tr>\n",
       "    <tr>\n",
       "      <th>10</th>\n",
       "      <td>1956</td>\n",
       "      <td>2.46</td>\n",
       "    </tr>\n",
       "    <tr>\n",
       "      <th>11</th>\n",
       "      <td>1958</td>\n",
       "      <td>2.37</td>\n",
       "    </tr>\n",
       "    <tr>\n",
       "      <th>12</th>\n",
       "      <td>1979</td>\n",
       "      <td>2.37</td>\n",
       "    </tr>\n",
       "    <tr>\n",
       "      <th>13</th>\n",
       "      <td>1952</td>\n",
       "      <td>2.32</td>\n",
       "    </tr>\n",
       "    <tr>\n",
       "      <th>14</th>\n",
       "      <td>1977</td>\n",
       "      <td>2.32</td>\n",
       "    </tr>\n",
       "    <tr>\n",
       "      <th>15</th>\n",
       "      <td>1968</td>\n",
       "      <td>2.28</td>\n",
       "    </tr>\n",
       "    <tr>\n",
       "      <th>16</th>\n",
       "      <td>1959</td>\n",
       "      <td>2.28</td>\n",
       "    </tr>\n",
       "    <tr>\n",
       "      <th>17</th>\n",
       "      <td>1966</td>\n",
       "      <td>2.23</td>\n",
       "    </tr>\n",
       "    <tr>\n",
       "      <th>18</th>\n",
       "      <td>1954</td>\n",
       "      <td>2.23</td>\n",
       "    </tr>\n",
       "    <tr>\n",
       "      <th>19</th>\n",
       "      <td>1955</td>\n",
       "      <td>2.19</td>\n",
       "    </tr>\n",
       "    <tr>\n",
       "      <th>20</th>\n",
       "      <td>1960</td>\n",
       "      <td>2.19</td>\n",
       "    </tr>\n",
       "    <tr>\n",
       "      <th>21</th>\n",
       "      <td>1982</td>\n",
       "      <td>2.01</td>\n",
       "    </tr>\n",
       "    <tr>\n",
       "      <th>22</th>\n",
       "      <td>1963</td>\n",
       "      <td>2.01</td>\n",
       "    </tr>\n",
       "    <tr>\n",
       "      <th>23</th>\n",
       "      <td>1967</td>\n",
       "      <td>1.96</td>\n",
       "    </tr>\n",
       "    <tr>\n",
       "      <th>24</th>\n",
       "      <td>1962</td>\n",
       "      <td>1.96</td>\n",
       "    </tr>\n",
       "    <tr>\n",
       "      <th>25</th>\n",
       "      <td>1957</td>\n",
       "      <td>1.92</td>\n",
       "    </tr>\n",
       "    <tr>\n",
       "      <th>26</th>\n",
       "      <td>1951</td>\n",
       "      <td>1.92</td>\n",
       "    </tr>\n",
       "    <tr>\n",
       "      <th>27</th>\n",
       "      <td>1983</td>\n",
       "      <td>1.88</td>\n",
       "    </tr>\n",
       "    <tr>\n",
       "      <th>28</th>\n",
       "      <td>1986</td>\n",
       "      <td>1.88</td>\n",
       "    </tr>\n",
       "    <tr>\n",
       "      <th>29</th>\n",
       "      <td>1964</td>\n",
       "      <td>1.88</td>\n",
       "    </tr>\n",
       "    <tr>\n",
       "      <th>30</th>\n",
       "      <td>1980</td>\n",
       "      <td>1.74</td>\n",
       "    </tr>\n",
       "    <tr>\n",
       "      <th>31</th>\n",
       "      <td>1981</td>\n",
       "      <td>1.74</td>\n",
       "    </tr>\n",
       "    <tr>\n",
       "      <th>32</th>\n",
       "      <td>1984</td>\n",
       "      <td>1.70</td>\n",
       "    </tr>\n",
       "    <tr>\n",
       "      <th>33</th>\n",
       "      <td>1961</td>\n",
       "      <td>1.61</td>\n",
       "    </tr>\n",
       "    <tr>\n",
       "      <th>34</th>\n",
       "      <td>1953</td>\n",
       "      <td>1.56</td>\n",
       "    </tr>\n",
       "    <tr>\n",
       "      <th>35</th>\n",
       "      <td>1985</td>\n",
       "      <td>1.43</td>\n",
       "    </tr>\n",
       "    <tr>\n",
       "      <th>36</th>\n",
       "      <td>1989</td>\n",
       "      <td>1.34</td>\n",
       "    </tr>\n",
       "    <tr>\n",
       "      <th>37</th>\n",
       "      <td>1949</td>\n",
       "      <td>1.34</td>\n",
       "    </tr>\n",
       "    <tr>\n",
       "      <th>38</th>\n",
       "      <td>1950</td>\n",
       "      <td>1.29</td>\n",
       "    </tr>\n",
       "    <tr>\n",
       "      <th>39</th>\n",
       "      <td>1988</td>\n",
       "      <td>1.29</td>\n",
       "    </tr>\n",
       "    <tr>\n",
       "      <th>40</th>\n",
       "      <td>1987</td>\n",
       "      <td>1.21</td>\n",
       "    </tr>\n",
       "    <tr>\n",
       "      <th>41</th>\n",
       "      <td>1948</td>\n",
       "      <td>0.94</td>\n",
       "    </tr>\n",
       "    <tr>\n",
       "      <th>42</th>\n",
       "      <td>1990</td>\n",
       "      <td>0.80</td>\n",
       "    </tr>\n",
       "    <tr>\n",
       "      <th>43</th>\n",
       "      <td>1946</td>\n",
       "      <td>0.71</td>\n",
       "    </tr>\n",
       "    <tr>\n",
       "      <th>44</th>\n",
       "      <td>1947</td>\n",
       "      <td>0.71</td>\n",
       "    </tr>\n",
       "    <tr>\n",
       "      <th>45</th>\n",
       "      <td>1991</td>\n",
       "      <td>0.67</td>\n",
       "    </tr>\n",
       "    <tr>\n",
       "      <th>46</th>\n",
       "      <td>1992</td>\n",
       "      <td>0.58</td>\n",
       "    </tr>\n",
       "    <tr>\n",
       "      <th>47</th>\n",
       "      <td>1945</td>\n",
       "      <td>0.36</td>\n",
       "    </tr>\n",
       "    <tr>\n",
       "      <th>48</th>\n",
       "      <td>1943</td>\n",
       "      <td>0.31</td>\n",
       "    </tr>\n",
       "    <tr>\n",
       "      <th>49</th>\n",
       "      <td>1944</td>\n",
       "      <td>0.31</td>\n",
       "    </tr>\n",
       "    <tr>\n",
       "      <th>50</th>\n",
       "      <td>1993</td>\n",
       "      <td>0.22</td>\n",
       "    </tr>\n",
       "    <tr>\n",
       "      <th>51</th>\n",
       "      <td>1995</td>\n",
       "      <td>0.22</td>\n",
       "    </tr>\n",
       "    <tr>\n",
       "      <th>52</th>\n",
       "      <td>1994</td>\n",
       "      <td>0.13</td>\n",
       "    </tr>\n",
       "    <tr>\n",
       "      <th>53</th>\n",
       "      <td>1996</td>\n",
       "      <td>0.09</td>\n",
       "    </tr>\n",
       "    <tr>\n",
       "      <th>54</th>\n",
       "      <td>1899</td>\n",
       "      <td>0.04</td>\n",
       "    </tr>\n",
       "    <tr>\n",
       "      <th>55</th>\n",
       "      <td>1941</td>\n",
       "      <td>0.04</td>\n",
       "    </tr>\n",
       "    <tr>\n",
       "      <th>56</th>\n",
       "      <td>1893</td>\n",
       "      <td>0.04</td>\n",
       "    </tr>\n",
       "    <tr>\n",
       "      <th>57</th>\n",
       "      <td>1900</td>\n",
       "      <td>0.04</td>\n",
       "    </tr>\n",
       "    <tr>\n",
       "      <th>58</th>\n",
       "      <td>1940</td>\n",
       "      <td>0.04</td>\n",
       "    </tr>\n",
       "  </tbody>\n",
       "</table>\n",
       "</div>"
      ],
      "text/plain": [
       "    Year_Birth  % of Customer\n",
       "0         1976           3.97\n",
       "1         1971           3.88\n",
       "2         1975           3.71\n",
       "3         1972           3.53\n",
       "4         1978           3.44\n",
       "5         1970           3.44\n",
       "6         1973           3.30\n",
       "7         1965           3.30\n",
       "8         1969           3.17\n",
       "9         1974           3.08\n",
       "10        1956           2.46\n",
       "11        1958           2.37\n",
       "12        1979           2.37\n",
       "13        1952           2.32\n",
       "14        1977           2.32\n",
       "15        1968           2.28\n",
       "16        1959           2.28\n",
       "17        1966           2.23\n",
       "18        1954           2.23\n",
       "19        1955           2.19\n",
       "20        1960           2.19\n",
       "21        1982           2.01\n",
       "22        1963           2.01\n",
       "23        1967           1.96\n",
       "24        1962           1.96\n",
       "25        1957           1.92\n",
       "26        1951           1.92\n",
       "27        1983           1.88\n",
       "28        1986           1.88\n",
       "29        1964           1.88\n",
       "30        1980           1.74\n",
       "31        1981           1.74\n",
       "32        1984           1.70\n",
       "33        1961           1.61\n",
       "34        1953           1.56\n",
       "35        1985           1.43\n",
       "36        1989           1.34\n",
       "37        1949           1.34\n",
       "38        1950           1.29\n",
       "39        1988           1.29\n",
       "40        1987           1.21\n",
       "41        1948           0.94\n",
       "42        1990           0.80\n",
       "43        1946           0.71\n",
       "44        1947           0.71\n",
       "45        1991           0.67\n",
       "46        1992           0.58\n",
       "47        1945           0.36\n",
       "48        1943           0.31\n",
       "49        1944           0.31\n",
       "50        1993           0.22\n",
       "51        1995           0.22\n",
       "52        1994           0.13\n",
       "53        1996           0.09\n",
       "54        1899           0.04\n",
       "55        1941           0.04\n",
       "56        1893           0.04\n",
       "57        1900           0.04\n",
       "58        1940           0.04"
      ]
     },
     "metadata": {},
     "output_type": "display_data"
    }
   ],
   "source": [
    "Year_Birth = unique_val_count(df, 'Year_Birth')\n",
    "\n",
    "display(Year_Birth)"
   ]
  },
  {
   "cell_type": "code",
   "execution_count": 22,
   "id": "1d19bea6",
   "metadata": {
    "execution": {
     "iopub.execute_input": "2022-03-02T14:17:33.464543Z",
     "iopub.status.busy": "2022-03-02T14:17:33.463998Z",
     "iopub.status.idle": "2022-03-02T14:17:33.468608Z",
     "shell.execute_reply": "2022-03-02T14:17:33.469056Z",
     "shell.execute_reply.started": "2022-03-02T14:15:50.548145Z"
    },
    "papermill": {
     "duration": 0.044489,
     "end_time": "2022-03-02T14:17:33.469186",
     "exception": false,
     "start_time": "2022-03-02T14:17:33.424697",
     "status": "completed"
    },
    "tags": []
   },
   "outputs": [
    {
     "data": {
      "text/html": [
       "<div>\n",
       "<style scoped>\n",
       "    .dataframe tbody tr th:only-of-type {\n",
       "        vertical-align: middle;\n",
       "    }\n",
       "\n",
       "    .dataframe tbody tr th {\n",
       "        vertical-align: top;\n",
       "    }\n",
       "\n",
       "    .dataframe thead th {\n",
       "        text-align: right;\n",
       "    }\n",
       "</style>\n",
       "<table border=\"1\" class=\"dataframe\">\n",
       "  <thead>\n",
       "    <tr style=\"text-align: right;\">\n",
       "      <th></th>\n",
       "      <th>Education</th>\n",
       "      <th>% of Customer</th>\n",
       "    </tr>\n",
       "  </thead>\n",
       "  <tbody>\n",
       "    <tr>\n",
       "      <th>0</th>\n",
       "      <td>Graduation</td>\n",
       "      <td>50.31</td>\n",
       "    </tr>\n",
       "    <tr>\n",
       "      <th>1</th>\n",
       "      <td>PhD</td>\n",
       "      <td>21.70</td>\n",
       "    </tr>\n",
       "    <tr>\n",
       "      <th>2</th>\n",
       "      <td>Master</td>\n",
       "      <td>16.52</td>\n",
       "    </tr>\n",
       "    <tr>\n",
       "      <th>3</th>\n",
       "      <td>2n Cycle</td>\n",
       "      <td>9.06</td>\n",
       "    </tr>\n",
       "    <tr>\n",
       "      <th>4</th>\n",
       "      <td>Basic</td>\n",
       "      <td>2.41</td>\n",
       "    </tr>\n",
       "  </tbody>\n",
       "</table>\n",
       "</div>"
      ],
      "text/plain": [
       "    Education  % of Customer\n",
       "0  Graduation          50.31\n",
       "1         PhD          21.70\n",
       "2      Master          16.52\n",
       "3    2n Cycle           9.06\n",
       "4       Basic           2.41"
      ]
     },
     "metadata": {},
     "output_type": "display_data"
    }
   ],
   "source": [
    "Education_count = unique_val_count(df, 'Education')\n",
    "\n",
    "display(Education_count)"
   ]
  },
  {
   "cell_type": "markdown",
   "id": "6c49ce97",
   "metadata": {
    "papermill": {
     "duration": 0.029038,
     "end_time": "2022-03-02T14:17:33.527359",
     "exception": false,
     "start_time": "2022-03-02T14:17:33.498321",
     "status": "completed"
    },
    "tags": []
   },
   "source": [
    "**Create a function to find the number of observations of each unique value of a column using BarPlot**\n"
   ]
  },
  {
   "cell_type": "code",
   "execution_count": 23,
   "id": "58ffb029",
   "metadata": {
    "execution": {
     "iopub.execute_input": "2022-03-02T14:17:33.591855Z",
     "iopub.status.busy": "2022-03-02T14:17:33.587860Z",
     "iopub.status.idle": "2022-03-02T14:17:33.593428Z",
     "shell.execute_reply": "2022-03-02T14:17:33.594030Z",
     "shell.execute_reply.started": "2022-03-02T14:15:50.571676Z"
    },
    "papermill": {
     "duration": 0.038169,
     "end_time": "2022-03-02T14:17:33.594187",
     "exception": false,
     "start_time": "2022-03-02T14:17:33.556018",
     "status": "completed"
    },
    "tags": []
   },
   "outputs": [],
   "source": [
    "def barplot(data, x_col, y_col, color_x, rotation_x, yticks_x, range):\n",
    "\n",
    "    sns.barplot(x=x_col, y=y_col, data=data, color= color_x)\n",
    "    plt.title(\"Percent for each unique value of \"+ x_col+\" among the customers\")\n",
    "    plt.yticks(np.arange(0,yticks_x,range))\n",
    "    plt.xticks(rotation=rotation_x)\n"
   ]
  },
  {
   "cell_type": "code",
   "execution_count": 24,
   "id": "27180084",
   "metadata": {
    "execution": {
     "iopub.execute_input": "2022-03-02T14:17:33.684643Z",
     "iopub.status.busy": "2022-03-02T14:17:33.683839Z",
     "iopub.status.idle": "2022-03-02T14:17:33.997127Z",
     "shell.execute_reply": "2022-03-02T14:17:33.996700Z",
     "shell.execute_reply.started": "2022-03-02T14:15:50.579872Z"
    },
    "papermill": {
     "duration": 0.359634,
     "end_time": "2022-03-02T14:17:33.997241",
     "exception": false,
     "start_time": "2022-03-02T14:17:33.637607",
     "status": "completed"
    },
    "tags": []
   },
   "outputs": [
    {
     "data": {
      "image/png": "[encoded data removed]",
      "text/plain": [
       "<Figure size 432x288 with 1 Axes>"
      ]
     },
     "metadata": {
      "needs_background": "light"
     },
     "output_type": "display_data"
    }
   ],
   "source": [
    "barplot(Education, 'Education', '% of Customer', \"black\", 0,55,10)\n"
   ]
  },
  {
   "cell_type": "code",
   "execution_count": 25,
   "id": "fd0c8121",
   "metadata": {
    "execution": {
     "iopub.execute_input": "2022-03-02T14:17:34.069115Z",
     "iopub.status.busy": "2022-03-02T14:17:34.068618Z",
     "iopub.status.idle": "2022-03-02T14:17:35.150034Z",
     "shell.execute_reply": "2022-03-02T14:17:35.149621Z",
     "shell.execute_reply.started": "2022-03-02T14:15:50.918300Z"
    },
    "papermill": {
     "duration": 1.122039,
     "end_time": "2022-03-02T14:17:35.150144",
     "exception": false,
     "start_time": "2022-03-02T14:17:34.028105",
     "status": "completed"
    },
    "tags": []
   },
   "outputs": [
    {
     "data": {
      "image/png": "[encoded data removed]",
      "text/plain": [
       "<Figure size 1800x576 with 2 Axes>"
      ]
     },
     "metadata": {
      "needs_background": "light"
     },
     "output_type": "display_data"
    }
   ],
   "source": [
    "sns.set_context(\"talk\")\n",
    "\n",
    "plt.figure(figsize = (25,8))\n",
    "\n",
    "plt.subplot(1,2,1)\n",
    "barplot(Education, 'Education', '% of Customer', \"blue\", 0,55,10)\n",
    "\n",
    "\n",
    "plt.subplot(1,2,2)\n",
    "barplot(Year_Birth,'Year_Birth','% of Customer', \"green\", 90,5,1)\n",
    "\n",
    "\n",
    "plt.suptitle(\"Educational and birth year percentage among customers\")\n",
    "\n",
    "plt.tight_layout()\n",
    "plt.show()"
   ]
  }
 ],
 "metadata": {
  "kernelspec": {
   "display_name": "Python 3",
   "language": "python",
   "name": "python3"
  },
  "language_info": {
   "codemirror_mode": {
    "name": "ipython",
    "version": 3
   },
   "file_extension": ".py",
   "mimetype": "text/x-python",
   "name": "python",
   "nbconvert_exporter": "python",
   "pygments_lexer": "ipython3",
   "version": "3.7.12"
  },
  "papermill": {
   "default_parameters": {},
   "duration": 18.133157,
   "end_time": "2022-03-02T14:17:35.891771",
   "environment_variables": {},
   "exception": null,
   "input_path": "__notebook__.ipynb",
   "output_path": "__notebook__.ipynb",
   "parameters": {},
   "start_time": "2022-03-02T14:17:17.758614",
   "version": "2.3.3"
  }
 },
 "nbformat": 4,
 "nbformat_minor": 5
}
